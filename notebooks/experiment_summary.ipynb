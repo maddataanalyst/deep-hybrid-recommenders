{
 "cells": [
  {
   "cell_type": "markdown",
   "metadata": {},
   "source": [
    "# Intro\n",
    "\n",
    "This notebook summarizes the experimental results obtained using Kedro pipeline and presents static figures as well as model scores.\n",
    "\n",
    "It contains the following sections:\n",
    "1. Data loading - loading the data from the Kedro catalog: model metrics from cross-validation runs.\n",
    "2. Data inspection - visualizing the data using boxplots.\n",
    "3. Statistical analysis - performing statistical analysis of the data using Kruskal-Wallis test and post-hoc pairwise tests."
   ]
  },
  {
   "cell_type": "markdown",
   "metadata": {},
   "source": [
    "# Lib imports"
   ]
  },
  {
   "cell_type": "code",
   "execution_count": 2,
   "metadata": {
    "ExecuteTime": {
     "end_time": "2023-05-29T18:04:47.128098100Z",
     "start_time": "2023-05-29T18:04:42.877896800Z"
    },
    "collapsed": false,
    "jupyter": {
     "outputs_hidden": false
    }
   },
   "outputs": [
    {
     "data": {
      "text/html": [
       "<pre style=\"white-space:pre;overflow-x:auto;line-height:normal;font-family:Menlo,'DejaVu Sans Mono',consolas,'Courier New',monospace\"><span style=\"color: #7fbfbf; text-decoration-color: #7fbfbf\">[05/29/23 20:06:28] </span><span style=\"color: #000080; text-decoration-color: #000080\">INFO    </span> Resolved project path as:                                              <a href=\"file:///home/fwojcik/anaconda3/envs/py39clean/lib/python3.9/site-packages/kedro/ipython/__init__.py\" target=\"_blank\"><span style=\"color: #7f7f7f; text-decoration-color: #7f7f7f\">__init__.py</span></a><span style=\"color: #7f7f7f; text-decoration-color: #7f7f7f\">:</span><a href=\"file:///home/fwojcik/anaconda3/envs/py39clean/lib/python3.9/site-packages/kedro/ipython/__init__.py#134\" target=\"_blank\"><span style=\"color: #7f7f7f; text-decoration-color: #7f7f7f\">134</span></a>\n",
       "<span style=\"color: #7fbfbf; text-decoration-color: #7fbfbf\">                    </span>         <span style=\"color: #800080; text-decoration-color: #800080\">/home/fwojcik/projects/</span><span style=\"color: #ff00ff; text-decoration-color: #ff00ff\">deep-hybrid-recommenders.</span>                       <span style=\"color: #7f7f7f; text-decoration-color: #7f7f7f\">               </span>\n",
       "<span style=\"color: #7fbfbf; text-decoration-color: #7fbfbf\">                    </span>         To set a different path, run <span style=\"color: #008000; text-decoration-color: #008000\">'%reload_kedro &lt;project_root&gt;'</span>            <span style=\"color: #7f7f7f; text-decoration-color: #7f7f7f\">               </span>\n",
       "</pre>\n"
      ],
      "text/plain": [
       "\u001B[2;36m[05/29/23 20:06:28]\u001B[0m\u001B[2;36m \u001B[0m\u001B[34mINFO    \u001B[0m Resolved project path as:                                              \u001B]8;id=711720;file:///home/fwojcik/anaconda3/envs/py39clean/lib/python3.9/site-packages/kedro/ipython/__init__.py\u001B\\\u001B[2m__init__.py\u001B[0m\u001B]8;;\u001B\\\u001B[2m:\u001B[0m\u001B]8;id=503070;file:///home/fwojcik/anaconda3/envs/py39clean/lib/python3.9/site-packages/kedro/ipython/__init__.py#134\u001B\\\u001B[2m134\u001B[0m\u001B]8;;\u001B\\\n",
       "\u001B[2;36m                    \u001B[0m         \u001B[35m/home/fwojcik/projects/\u001B[0m\u001B[95mdeep-hybrid-recommenders.\u001B[0m                       \u001B[2m               \u001B[0m\n",
       "\u001B[2;36m                    \u001B[0m         To set a different path, run \u001B[32m'%reload_kedro \u001B[0m\u001B[32m<\u001B[0m\u001B[32mproject_root\u001B[0m\u001B[32m>\u001B[0m\u001B[32m'\u001B[0m            \u001B[2m               \u001B[0m\n"
      ]
     },
     "metadata": {},
     "output_type": "display_data"
    },
    {
     "data": {
      "text/html": [
       "<pre style=\"white-space:pre;overflow-x:auto;line-height:normal;font-family:Menlo,'DejaVu Sans Mono',consolas,'Courier New',monospace\"><span style=\"color: #7fbfbf; text-decoration-color: #7fbfbf\">                    </span><span style=\"color: #800000; text-decoration-color: #800000\">WARNING </span> <span style=\"color: #800080; text-decoration-color: #800080\">/home/fwojcik/anaconda3/envs/py39clean/lib/python3.9/site-packages/ked</span> <a href=\"file:///home/fwojcik/anaconda3/envs/py39clean/lib/python3.9/warnings.py\" target=\"_blank\"><span style=\"color: #7f7f7f; text-decoration-color: #7f7f7f\">warnings.py</span></a><span style=\"color: #7f7f7f; text-decoration-color: #7f7f7f\">:</span><a href=\"file:///home/fwojcik/anaconda3/envs/py39clean/lib/python3.9/warnings.py#109\" target=\"_blank\"><span style=\"color: #7f7f7f; text-decoration-color: #7f7f7f\">109</span></a>\n",
       "<span style=\"color: #7fbfbf; text-decoration-color: #7fbfbf\">                    </span>         <span style=\"color: #800080; text-decoration-color: #800080\">ro/framework/</span><span style=\"color: #ff00ff; text-decoration-color: #ff00ff\">startup.py</span>:<span style=\"color: #008080; text-decoration-color: #008080; font-weight: bold\">98</span>: DeprecationWarning: project_version in     <span style=\"color: #7f7f7f; text-decoration-color: #7f7f7f\">               </span>\n",
       "<span style=\"color: #7fbfbf; text-decoration-color: #7fbfbf\">                    </span>         pyproject.toml is deprecated, use kedro_init_version instead           <span style=\"color: #7f7f7f; text-decoration-color: #7f7f7f\">               </span>\n",
       "<span style=\"color: #7fbfbf; text-decoration-color: #7fbfbf\">                    </span>           <span style=\"color: #800080; text-decoration-color: #800080; font-weight: bold\">warnings.warn</span><span style=\"font-weight: bold\">(</span>                                                       <span style=\"color: #7f7f7f; text-decoration-color: #7f7f7f\">               </span>\n",
       "<span style=\"color: #7fbfbf; text-decoration-color: #7fbfbf\">                    </span>                                                                                <span style=\"color: #7f7f7f; text-decoration-color: #7f7f7f\">               </span>\n",
       "</pre>\n"
      ],
      "text/plain": [
       "\u001B[2;36m                   \u001B[0m\u001B[2;36m \u001B[0m\u001B[31mWARNING \u001B[0m \u001B[35m/home/fwojcik/anaconda3/envs/py39clean/lib/python3.9/site-packages/ked\u001B[0m \u001B]8;id=101821;file:///home/fwojcik/anaconda3/envs/py39clean/lib/python3.9/warnings.py\u001B\\\u001B[2mwarnings.py\u001B[0m\u001B]8;;\u001B\\\u001B[2m:\u001B[0m\u001B]8;id=665467;file:///home/fwojcik/anaconda3/envs/py39clean/lib/python3.9/warnings.py#109\u001B\\\u001B[2m109\u001B[0m\u001B]8;;\u001B\\\n",
       "\u001B[2;36m                    \u001B[0m         \u001B[35mro/framework/\u001B[0m\u001B[95mstartup.py\u001B[0m:\u001B[1;36m98\u001B[0m: DeprecationWarning: project_version in     \u001B[2m               \u001B[0m\n",
       "\u001B[2;36m                    \u001B[0m         pyproject.toml is deprecated, use kedro_init_version instead           \u001B[2m               \u001B[0m\n",
       "\u001B[2;36m                    \u001B[0m           \u001B[1;35mwarnings.warn\u001B[0m\u001B[1m(\u001B[0m                                                       \u001B[2m               \u001B[0m\n",
       "\u001B[2;36m                    \u001B[0m                                                                                \u001B[2m               \u001B[0m\n"
      ]
     },
     "metadata": {},
     "output_type": "display_data"
    },
    {
     "data": {
      "text/html": [
       "<pre style=\"white-space:pre;overflow-x:auto;line-height:normal;font-family:Menlo,'DejaVu Sans Mono',consolas,'Courier New',monospace\"><span style=\"color: #7fbfbf; text-decoration-color: #7fbfbf\">[05/29/23 20:06:32] </span><span style=\"color: #000080; text-decoration-color: #000080\">INFO    </span> Kedro project Deep Hybrid Recommender                                  <a href=\"file:///home/fwojcik/anaconda3/envs/py39clean/lib/python3.9/site-packages/kedro/ipython/__init__.py\" target=\"_blank\"><span style=\"color: #7f7f7f; text-decoration-color: #7f7f7f\">__init__.py</span></a><span style=\"color: #7f7f7f; text-decoration-color: #7f7f7f\">:</span><a href=\"file:///home/fwojcik/anaconda3/envs/py39clean/lib/python3.9/site-packages/kedro/ipython/__init__.py#103\" target=\"_blank\"><span style=\"color: #7f7f7f; text-decoration-color: #7f7f7f\">103</span></a>\n",
       "</pre>\n"
      ],
      "text/plain": [
       "\u001B[2;36m[05/29/23 20:06:32]\u001B[0m\u001B[2;36m \u001B[0m\u001B[34mINFO    \u001B[0m Kedro project Deep Hybrid Recommender                                  \u001B]8;id=847450;file:///home/fwojcik/anaconda3/envs/py39clean/lib/python3.9/site-packages/kedro/ipython/__init__.py\u001B\\\u001B[2m__init__.py\u001B[0m\u001B]8;;\u001B\\\u001B[2m:\u001B[0m\u001B]8;id=813044;file:///home/fwojcik/anaconda3/envs/py39clean/lib/python3.9/site-packages/kedro/ipython/__init__.py#103\u001B\\\u001B[2m103\u001B[0m\u001B]8;;\u001B\\\n"
      ]
     },
     "metadata": {},
     "output_type": "display_data"
    },
    {
     "data": {
      "text/html": [
       "<pre style=\"white-space:pre;overflow-x:auto;line-height:normal;font-family:Menlo,'DejaVu Sans Mono',consolas,'Courier New',monospace\"><span style=\"color: #7fbfbf; text-decoration-color: #7fbfbf\">                    </span><span style=\"color: #000080; text-decoration-color: #000080\">INFO    </span> Defined global variable <span style=\"color: #008000; text-decoration-color: #008000\">'context'</span>, <span style=\"color: #008000; text-decoration-color: #008000\">'session'</span>, <span style=\"color: #008000; text-decoration-color: #008000\">'catalog'</span> and            <a href=\"file:///home/fwojcik/anaconda3/envs/py39clean/lib/python3.9/site-packages/kedro/ipython/__init__.py\" target=\"_blank\"><span style=\"color: #7f7f7f; text-decoration-color: #7f7f7f\">__init__.py</span></a><span style=\"color: #7f7f7f; text-decoration-color: #7f7f7f\">:</span><a href=\"file:///home/fwojcik/anaconda3/envs/py39clean/lib/python3.9/site-packages/kedro/ipython/__init__.py#104\" target=\"_blank\"><span style=\"color: #7f7f7f; text-decoration-color: #7f7f7f\">104</span></a>\n",
       "<span style=\"color: #7fbfbf; text-decoration-color: #7fbfbf\">                    </span>         <span style=\"color: #008000; text-decoration-color: #008000\">'pipelines'</span>                                                            <span style=\"color: #7f7f7f; text-decoration-color: #7f7f7f\">               </span>\n",
       "</pre>\n"
      ],
      "text/plain": [
       "\u001B[2;36m                   \u001B[0m\u001B[2;36m \u001B[0m\u001B[34mINFO    \u001B[0m Defined global variable \u001B[32m'context'\u001B[0m, \u001B[32m'session'\u001B[0m, \u001B[32m'catalog'\u001B[0m and            \u001B]8;id=761803;file:///home/fwojcik/anaconda3/envs/py39clean/lib/python3.9/site-packages/kedro/ipython/__init__.py\u001B\\\u001B[2m__init__.py\u001B[0m\u001B]8;;\u001B\\\u001B[2m:\u001B[0m\u001B]8;id=565502;file:///home/fwojcik/anaconda3/envs/py39clean/lib/python3.9/site-packages/kedro/ipython/__init__.py#104\u001B\\\u001B[2m104\u001B[0m\u001B]8;;\u001B\\\n",
       "\u001B[2;36m                    \u001B[0m         \u001B[32m'pipelines'\u001B[0m                                                            \u001B[2m               \u001B[0m\n"
      ]
     },
     "metadata": {},
     "output_type": "display_data"
    },
    {
     "data": {
      "text/html": [
       "<pre style=\"white-space:pre;overflow-x:auto;line-height:normal;font-family:Menlo,'DejaVu Sans Mono',consolas,'Courier New',monospace\"><span style=\"color: #7fbfbf; text-decoration-color: #7fbfbf\">[05/29/23 20:06:33] </span><span style=\"color: #000080; text-decoration-color: #000080\">INFO    </span> Registered line magic <span style=\"color: #008000; text-decoration-color: #008000\">'run_viz'</span>                                        <a href=\"file:///home/fwojcik/anaconda3/envs/py39clean/lib/python3.9/site-packages/kedro/ipython/__init__.py\" target=\"_blank\"><span style=\"color: #7f7f7f; text-decoration-color: #7f7f7f\">__init__.py</span></a><span style=\"color: #7f7f7f; text-decoration-color: #7f7f7f\">:</span><a href=\"file:///home/fwojcik/anaconda3/envs/py39clean/lib/python3.9/site-packages/kedro/ipython/__init__.py#110\" target=\"_blank\"><span style=\"color: #7f7f7f; text-decoration-color: #7f7f7f\">110</span></a>\n",
       "</pre>\n"
      ],
      "text/plain": [
       "\u001B[2;36m[05/29/23 20:06:33]\u001B[0m\u001B[2;36m \u001B[0m\u001B[34mINFO    \u001B[0m Registered line magic \u001B[32m'run_viz'\u001B[0m                                        \u001B]8;id=689899;file:///home/fwojcik/anaconda3/envs/py39clean/lib/python3.9/site-packages/kedro/ipython/__init__.py\u001B\\\u001B[2m__init__.py\u001B[0m\u001B]8;;\u001B\\\u001B[2m:\u001B[0m\u001B]8;id=502577;file:///home/fwojcik/anaconda3/envs/py39clean/lib/python3.9/site-packages/kedro/ipython/__init__.py#110\u001B\\\u001B[2m110\u001B[0m\u001B]8;;\u001B\\\n"
      ]
     },
     "metadata": {},
     "output_type": "display_data"
    }
   ],
   "source": [
    "%load_ext kedro.ipython"
   ]
  },
  {
   "cell_type": "code",
   "execution_count": 37,
   "metadata": {
    "ExecuteTime": {
     "end_time": "2023-05-29T18:04:50.613794700Z",
     "start_time": "2023-05-29T18:04:50.603798100Z"
    },
    "collapsed": false,
    "jupyter": {
     "outputs_hidden": false
    }
   },
   "outputs": [],
   "source": [
    "import pandas as pd\n",
    "import pingouin as pg\n",
    "import plotly as py\n",
    "import plotly.express as px\n",
    "import seaborn as sns\n",
    "import matplotlib.pyplot as plt\n",
    "import scipy.stats as st\n",
    "import seaborn as sns\n",
    "\n",
    "import IPython.display as dd\n",
    "\n",
    "from deep_hybrid_recommender.pipelines.experiment.nodes import perform_statistical_comparison"
   ]
  },
  {
   "cell_type": "code",
   "execution_count": 8,
   "outputs": [
    {
     "data": {
      "text/plain": "\u001B[2;36m[05/29/23 20:40:24]\u001B[0m\u001B[2;36m \u001B[0m\u001B[34mINFO    \u001B[0m Resolved project path as:                                              \u001B]8;id=15715;file:///home/fwojcik/anaconda3/envs/py39clean/lib/python3.9/site-packages/kedro/ipython/__init__.py\u001B\\\u001B[2m__init__.py\u001B[0m\u001B]8;;\u001B\\\u001B[2m:\u001B[0m\u001B]8;id=145827;file:///home/fwojcik/anaconda3/envs/py39clean/lib/python3.9/site-packages/kedro/ipython/__init__.py#134\u001B\\\u001B[2m134\u001B[0m\u001B]8;;\u001B\\\n\u001B[2;36m                    \u001B[0m         \u001B[35m/home/fwojcik/projects/\u001B[0m\u001B[95mdeep-hybrid-recommenders.\u001B[0m                       \u001B[2m               \u001B[0m\n\u001B[2;36m                    \u001B[0m         To set a different path, run \u001B[32m'%reload_kedro \u001B[0m\u001B[32m<\u001B[0m\u001B[32mproject_root\u001B[0m\u001B[32m>\u001B[0m\u001B[32m'\u001B[0m            \u001B[2m               \u001B[0m\n",
      "text/html": "<pre style=\"white-space:pre;overflow-x:auto;line-height:normal;font-family:Menlo,'DejaVu Sans Mono',consolas,'Courier New',monospace\"><span style=\"color: #7fbfbf; text-decoration-color: #7fbfbf\">[05/29/23 20:40:24] </span><span style=\"color: #000080; text-decoration-color: #000080\">INFO    </span> Resolved project path as:                                              <a href=\"file:///home/fwojcik/anaconda3/envs/py39clean/lib/python3.9/site-packages/kedro/ipython/__init__.py\" target=\"_blank\"><span style=\"color: #7f7f7f; text-decoration-color: #7f7f7f\">__init__.py</span></a><span style=\"color: #7f7f7f; text-decoration-color: #7f7f7f\">:</span><a href=\"file:///home/fwojcik/anaconda3/envs/py39clean/lib/python3.9/site-packages/kedro/ipython/__init__.py#134\" target=\"_blank\"><span style=\"color: #7f7f7f; text-decoration-color: #7f7f7f\">134</span></a>\n<span style=\"color: #7fbfbf; text-decoration-color: #7fbfbf\">                    </span>         <span style=\"color: #800080; text-decoration-color: #800080\">/home/fwojcik/projects/</span><span style=\"color: #ff00ff; text-decoration-color: #ff00ff\">deep-hybrid-recommenders.</span>                       <span style=\"color: #7f7f7f; text-decoration-color: #7f7f7f\">               </span>\n<span style=\"color: #7fbfbf; text-decoration-color: #7fbfbf\">                    </span>         To set a different path, run <span style=\"color: #008000; text-decoration-color: #008000\">'%reload_kedro &lt;project_root&gt;'</span>            <span style=\"color: #7f7f7f; text-decoration-color: #7f7f7f\">               </span>\n</pre>\n"
     },
     "metadata": {},
     "output_type": "display_data"
    },
    {
     "data": {
      "text/plain": "\u001B[2;36m                   \u001B[0m\u001B[2;36m \u001B[0m\u001B[31mWARNING \u001B[0m \u001B[35m/home/fwojcik/anaconda3/envs/py39clean/lib/python3.9/site-packages/ked\u001B[0m \u001B]8;id=195635;file:///home/fwojcik/anaconda3/envs/py39clean/lib/python3.9/warnings.py\u001B\\\u001B[2mwarnings.py\u001B[0m\u001B]8;;\u001B\\\u001B[2m:\u001B[0m\u001B]8;id=351054;file:///home/fwojcik/anaconda3/envs/py39clean/lib/python3.9/warnings.py#109\u001B\\\u001B[2m109\u001B[0m\u001B]8;;\u001B\\\n\u001B[2;36m                    \u001B[0m         \u001B[35mro/framework/\u001B[0m\u001B[95mstartup.py\u001B[0m:\u001B[1;36m98\u001B[0m: DeprecationWarning:                        \u001B[2m               \u001B[0m\n\u001B[2;36m                    \u001B[0m                                                                                \u001B[2m               \u001B[0m\n\u001B[2;36m                    \u001B[0m         project_version in pyproject.toml is deprecated, use                   \u001B[2m               \u001B[0m\n\u001B[2;36m                    \u001B[0m         kedro_init_version instead                                             \u001B[2m               \u001B[0m\n\u001B[2;36m                    \u001B[0m                                                                                \u001B[2m               \u001B[0m\n\u001B[2;36m                    \u001B[0m                                                                                \u001B[2m               \u001B[0m\n",
      "text/html": "<pre style=\"white-space:pre;overflow-x:auto;line-height:normal;font-family:Menlo,'DejaVu Sans Mono',consolas,'Courier New',monospace\"><span style=\"color: #7fbfbf; text-decoration-color: #7fbfbf\">                    </span><span style=\"color: #800000; text-decoration-color: #800000\">WARNING </span> <span style=\"color: #800080; text-decoration-color: #800080\">/home/fwojcik/anaconda3/envs/py39clean/lib/python3.9/site-packages/ked</span> <a href=\"file:///home/fwojcik/anaconda3/envs/py39clean/lib/python3.9/warnings.py\" target=\"_blank\"><span style=\"color: #7f7f7f; text-decoration-color: #7f7f7f\">warnings.py</span></a><span style=\"color: #7f7f7f; text-decoration-color: #7f7f7f\">:</span><a href=\"file:///home/fwojcik/anaconda3/envs/py39clean/lib/python3.9/warnings.py#109\" target=\"_blank\"><span style=\"color: #7f7f7f; text-decoration-color: #7f7f7f\">109</span></a>\n<span style=\"color: #7fbfbf; text-decoration-color: #7fbfbf\">                    </span>         <span style=\"color: #800080; text-decoration-color: #800080\">ro/framework/</span><span style=\"color: #ff00ff; text-decoration-color: #ff00ff\">startup.py</span>:<span style=\"color: #008080; text-decoration-color: #008080; font-weight: bold\">98</span>: DeprecationWarning:                        <span style=\"color: #7f7f7f; text-decoration-color: #7f7f7f\">               </span>\n<span style=\"color: #7fbfbf; text-decoration-color: #7fbfbf\">                    </span>                                                                                <span style=\"color: #7f7f7f; text-decoration-color: #7f7f7f\">               </span>\n<span style=\"color: #7fbfbf; text-decoration-color: #7fbfbf\">                    </span>         project_version in pyproject.toml is deprecated, use                   <span style=\"color: #7f7f7f; text-decoration-color: #7f7f7f\">               </span>\n<span style=\"color: #7fbfbf; text-decoration-color: #7fbfbf\">                    </span>         kedro_init_version instead                                             <span style=\"color: #7f7f7f; text-decoration-color: #7f7f7f\">               </span>\n<span style=\"color: #7fbfbf; text-decoration-color: #7fbfbf\">                    </span>                                                                                <span style=\"color: #7f7f7f; text-decoration-color: #7f7f7f\">               </span>\n<span style=\"color: #7fbfbf; text-decoration-color: #7fbfbf\">                    </span>                                                                                <span style=\"color: #7f7f7f; text-decoration-color: #7f7f7f\">               </span>\n</pre>\n"
     },
     "metadata": {},
     "output_type": "display_data"
    },
    {
     "data": {
      "text/plain": "\u001B[2;36m[05/29/23 20:40:25]\u001B[0m\u001B[2;36m \u001B[0m\u001B[34mINFO    \u001B[0m Kedro project Deep Hybrid Recommender                                  \u001B]8;id=219064;file:///home/fwojcik/anaconda3/envs/py39clean/lib/python3.9/site-packages/kedro/ipython/__init__.py\u001B\\\u001B[2m__init__.py\u001B[0m\u001B]8;;\u001B\\\u001B[2m:\u001B[0m\u001B]8;id=419783;file:///home/fwojcik/anaconda3/envs/py39clean/lib/python3.9/site-packages/kedro/ipython/__init__.py#103\u001B\\\u001B[2m103\u001B[0m\u001B]8;;\u001B\\\n",
      "text/html": "<pre style=\"white-space:pre;overflow-x:auto;line-height:normal;font-family:Menlo,'DejaVu Sans Mono',consolas,'Courier New',monospace\"><span style=\"color: #7fbfbf; text-decoration-color: #7fbfbf\">[05/29/23 20:40:25] </span><span style=\"color: #000080; text-decoration-color: #000080\">INFO    </span> Kedro project Deep Hybrid Recommender                                  <a href=\"file:///home/fwojcik/anaconda3/envs/py39clean/lib/python3.9/site-packages/kedro/ipython/__init__.py\" target=\"_blank\"><span style=\"color: #7f7f7f; text-decoration-color: #7f7f7f\">__init__.py</span></a><span style=\"color: #7f7f7f; text-decoration-color: #7f7f7f\">:</span><a href=\"file:///home/fwojcik/anaconda3/envs/py39clean/lib/python3.9/site-packages/kedro/ipython/__init__.py#103\" target=\"_blank\"><span style=\"color: #7f7f7f; text-decoration-color: #7f7f7f\">103</span></a>\n</pre>\n"
     },
     "metadata": {},
     "output_type": "display_data"
    },
    {
     "data": {
      "text/plain": "\u001B[2;36m                   \u001B[0m\u001B[2;36m \u001B[0m\u001B[34mINFO    \u001B[0m Defined global variable \u001B[32m'context'\u001B[0m, \u001B[32m'session'\u001B[0m, \u001B[32m'catalog'\u001B[0m and            \u001B]8;id=831391;file:///home/fwojcik/anaconda3/envs/py39clean/lib/python3.9/site-packages/kedro/ipython/__init__.py\u001B\\\u001B[2m__init__.py\u001B[0m\u001B]8;;\u001B\\\u001B[2m:\u001B[0m\u001B]8;id=68843;file:///home/fwojcik/anaconda3/envs/py39clean/lib/python3.9/site-packages/kedro/ipython/__init__.py#104\u001B\\\u001B[2m104\u001B[0m\u001B]8;;\u001B\\\n\u001B[2;36m                    \u001B[0m         \u001B[32m'pipelines'\u001B[0m                                                            \u001B[2m               \u001B[0m\n",
      "text/html": "<pre style=\"white-space:pre;overflow-x:auto;line-height:normal;font-family:Menlo,'DejaVu Sans Mono',consolas,'Courier New',monospace\"><span style=\"color: #7fbfbf; text-decoration-color: #7fbfbf\">                    </span><span style=\"color: #000080; text-decoration-color: #000080\">INFO    </span> Defined global variable <span style=\"color: #008000; text-decoration-color: #008000\">'context'</span>, <span style=\"color: #008000; text-decoration-color: #008000\">'session'</span>, <span style=\"color: #008000; text-decoration-color: #008000\">'catalog'</span> and            <a href=\"file:///home/fwojcik/anaconda3/envs/py39clean/lib/python3.9/site-packages/kedro/ipython/__init__.py\" target=\"_blank\"><span style=\"color: #7f7f7f; text-decoration-color: #7f7f7f\">__init__.py</span></a><span style=\"color: #7f7f7f; text-decoration-color: #7f7f7f\">:</span><a href=\"file:///home/fwojcik/anaconda3/envs/py39clean/lib/python3.9/site-packages/kedro/ipython/__init__.py#104\" target=\"_blank\"><span style=\"color: #7f7f7f; text-decoration-color: #7f7f7f\">104</span></a>\n<span style=\"color: #7fbfbf; text-decoration-color: #7fbfbf\">                    </span>         <span style=\"color: #008000; text-decoration-color: #008000\">'pipelines'</span>                                                            <span style=\"color: #7f7f7f; text-decoration-color: #7f7f7f\">               </span>\n</pre>\n"
     },
     "metadata": {},
     "output_type": "display_data"
    },
    {
     "data": {
      "text/plain": "\u001B[2;36m                   \u001B[0m\u001B[2;36m \u001B[0m\u001B[34mINFO    \u001B[0m Registered line magic \u001B[32m'run_viz'\u001B[0m                                        \u001B]8;id=656394;file:///home/fwojcik/anaconda3/envs/py39clean/lib/python3.9/site-packages/kedro/ipython/__init__.py\u001B\\\u001B[2m__init__.py\u001B[0m\u001B]8;;\u001B\\\u001B[2m:\u001B[0m\u001B]8;id=783610;file:///home/fwojcik/anaconda3/envs/py39clean/lib/python3.9/site-packages/kedro/ipython/__init__.py#110\u001B\\\u001B[2m110\u001B[0m\u001B]8;;\u001B\\\n",
      "text/html": "<pre style=\"white-space:pre;overflow-x:auto;line-height:normal;font-family:Menlo,'DejaVu Sans Mono',consolas,'Courier New',monospace\"><span style=\"color: #7fbfbf; text-decoration-color: #7fbfbf\">                    </span><span style=\"color: #000080; text-decoration-color: #000080\">INFO    </span> Registered line magic <span style=\"color: #008000; text-decoration-color: #008000\">'run_viz'</span>                                        <a href=\"file:///home/fwojcik/anaconda3/envs/py39clean/lib/python3.9/site-packages/kedro/ipython/__init__.py\" target=\"_blank\"><span style=\"color: #7f7f7f; text-decoration-color: #7f7f7f\">__init__.py</span></a><span style=\"color: #7f7f7f; text-decoration-color: #7f7f7f\">:</span><a href=\"file:///home/fwojcik/anaconda3/envs/py39clean/lib/python3.9/site-packages/kedro/ipython/__init__.py#110\" target=\"_blank\"><span style=\"color: #7f7f7f; text-decoration-color: #7f7f7f\">110</span></a>\n</pre>\n"
     },
     "metadata": {},
     "output_type": "display_data"
    }
   ],
   "source": [
    "%reload_kedro"
   ],
   "metadata": {
    "collapsed": false,
    "ExecuteTime": {
     "end_time": "2023-05-29T18:40:25.279384600Z",
     "start_time": "2023-05-29T18:40:24.420221600Z"
    }
   }
  },
  {
   "cell_type": "markdown",
   "metadata": {},
   "source": [
    "# Load data"
   ]
  },
  {
   "cell_type": "code",
   "execution_count": 9,
   "metadata": {
    "collapsed": false,
    "jupyter": {
     "outputs_hidden": false
    },
    "ExecuteTime": {
     "end_time": "2023-05-29T18:40:26.863397200Z",
     "start_time": "2023-05-29T18:40:26.859400900Z"
    }
   },
   "outputs": [],
   "source": [
    "metrics_to_show = ['val_MAPE', 'val_MAE', 'val_MSE']"
   ]
  },
  {
   "cell_type": "code",
   "execution_count": 10,
   "metadata": {
    "collapsed": false,
    "jupyter": {
     "outputs_hidden": false
    },
    "ExecuteTime": {
     "end_time": "2023-05-29T18:40:27.951283600Z",
     "start_time": "2023-05-29T18:40:27.873216600Z"
    }
   },
   "outputs": [
    {
     "data": {
      "text/plain": "\u001B[2;36m[05/29/23 20:40:28]\u001B[0m\u001B[2;36m \u001B[0m\u001B[34mINFO    \u001B[0m Loading data from                                                  \u001B]8;id=664353;file:///home/fwojcik/anaconda3/envs/py39clean/lib/python3.9/site-packages/kedro/io/data_catalog.py\u001B\\\u001B[2mdata_catalog.py\u001B[0m\u001B]8;;\u001B\\\u001B[2m:\u001B[0m\u001B]8;id=974835;file:///home/fwojcik/anaconda3/envs/py39clean/lib/python3.9/site-packages/kedro/io/data_catalog.py#343\u001B\\\u001B[2m343\u001B[0m\u001B]8;;\u001B\\\n\u001B[2;36m                    \u001B[0m         \u001B[32m'experiment.colab_filtering_crossval_val_metrics'\u001B[0m \u001B[1m(\u001B[0mCSVDataSet\u001B[1m)\u001B[0m\u001B[33m...\u001B[0m  \u001B[2m                   \u001B[0m\n",
      "text/html": "<pre style=\"white-space:pre;overflow-x:auto;line-height:normal;font-family:Menlo,'DejaVu Sans Mono',consolas,'Courier New',monospace\"><span style=\"color: #7fbfbf; text-decoration-color: #7fbfbf\">[05/29/23 20:40:28] </span><span style=\"color: #000080; text-decoration-color: #000080\">INFO    </span> Loading data from                                                  <a href=\"file:///home/fwojcik/anaconda3/envs/py39clean/lib/python3.9/site-packages/kedro/io/data_catalog.py\" target=\"_blank\"><span style=\"color: #7f7f7f; text-decoration-color: #7f7f7f\">data_catalog.py</span></a><span style=\"color: #7f7f7f; text-decoration-color: #7f7f7f\">:</span><a href=\"file:///home/fwojcik/anaconda3/envs/py39clean/lib/python3.9/site-packages/kedro/io/data_catalog.py#343\" target=\"_blank\"><span style=\"color: #7f7f7f; text-decoration-color: #7f7f7f\">343</span></a>\n<span style=\"color: #7fbfbf; text-decoration-color: #7fbfbf\">                    </span>         <span style=\"color: #008000; text-decoration-color: #008000\">'experiment.colab_filtering_crossval_val_metrics'</span> <span style=\"font-weight: bold\">(</span>CSVDataSet<span style=\"font-weight: bold\">)</span><span style=\"color: #808000; text-decoration-color: #808000\">...</span>  <span style=\"color: #7f7f7f; text-decoration-color: #7f7f7f\">                   </span>\n</pre>\n"
     },
     "metadata": {},
     "output_type": "display_data"
    },
    {
     "data": {
      "text/plain": "\u001B[2;36m                   \u001B[0m\u001B[2;36m \u001B[0m\u001B[34mINFO    \u001B[0m Loading data from                                                  \u001B]8;id=283595;file:///home/fwojcik/anaconda3/envs/py39clean/lib/python3.9/site-packages/kedro/io/data_catalog.py\u001B\\\u001B[2mdata_catalog.py\u001B[0m\u001B]8;;\u001B\\\u001B[2m:\u001B[0m\u001B]8;id=320742;file:///home/fwojcik/anaconda3/envs/py39clean/lib/python3.9/site-packages/kedro/io/data_catalog.py#343\u001B\\\u001B[2m343\u001B[0m\u001B]8;;\u001B\\\n\u001B[2;36m                    \u001B[0m         \u001B[32m'experiment.deep_colab_filtering_crossval_val_metrics'\u001B[0m             \u001B[2m                   \u001B[0m\n\u001B[2;36m                    \u001B[0m         \u001B[1m(\u001B[0mCSVDataSet\u001B[1m)\u001B[0m\u001B[33m...\u001B[0m                                                    \u001B[2m                   \u001B[0m\n",
      "text/html": "<pre style=\"white-space:pre;overflow-x:auto;line-height:normal;font-family:Menlo,'DejaVu Sans Mono',consolas,'Courier New',monospace\"><span style=\"color: #7fbfbf; text-decoration-color: #7fbfbf\">                    </span><span style=\"color: #000080; text-decoration-color: #000080\">INFO    </span> Loading data from                                                  <a href=\"file:///home/fwojcik/anaconda3/envs/py39clean/lib/python3.9/site-packages/kedro/io/data_catalog.py\" target=\"_blank\"><span style=\"color: #7f7f7f; text-decoration-color: #7f7f7f\">data_catalog.py</span></a><span style=\"color: #7f7f7f; text-decoration-color: #7f7f7f\">:</span><a href=\"file:///home/fwojcik/anaconda3/envs/py39clean/lib/python3.9/site-packages/kedro/io/data_catalog.py#343\" target=\"_blank\"><span style=\"color: #7f7f7f; text-decoration-color: #7f7f7f\">343</span></a>\n<span style=\"color: #7fbfbf; text-decoration-color: #7fbfbf\">                    </span>         <span style=\"color: #008000; text-decoration-color: #008000\">'experiment.deep_colab_filtering_crossval_val_metrics'</span>             <span style=\"color: #7f7f7f; text-decoration-color: #7f7f7f\">                   </span>\n<span style=\"color: #7fbfbf; text-decoration-color: #7fbfbf\">                    </span>         <span style=\"font-weight: bold\">(</span>CSVDataSet<span style=\"font-weight: bold\">)</span><span style=\"color: #808000; text-decoration-color: #808000\">...</span>                                                    <span style=\"color: #7f7f7f; text-decoration-color: #7f7f7f\">                   </span>\n</pre>\n"
     },
     "metadata": {},
     "output_type": "display_data"
    },
    {
     "data": {
      "text/plain": "\u001B[2;36m                   \u001B[0m\u001B[2;36m \u001B[0m\u001B[34mINFO    \u001B[0m Loading data from                                                  \u001B]8;id=561949;file:///home/fwojcik/anaconda3/envs/py39clean/lib/python3.9/site-packages/kedro/io/data_catalog.py\u001B\\\u001B[2mdata_catalog.py\u001B[0m\u001B]8;;\u001B\\\u001B[2m:\u001B[0m\u001B]8;id=756339;file:///home/fwojcik/anaconda3/envs/py39clean/lib/python3.9/site-packages/kedro/io/data_catalog.py#343\u001B\\\u001B[2m343\u001B[0m\u001B]8;;\u001B\\\n\u001B[2;36m                    \u001B[0m         \u001B[32m'experiment.deep_hybrid_rec_crossval_val_metrics'\u001B[0m \u001B[1m(\u001B[0mCSVDataSet\u001B[1m)\u001B[0m\u001B[33m...\u001B[0m  \u001B[2m                   \u001B[0m\n",
      "text/html": "<pre style=\"white-space:pre;overflow-x:auto;line-height:normal;font-family:Menlo,'DejaVu Sans Mono',consolas,'Courier New',monospace\"><span style=\"color: #7fbfbf; text-decoration-color: #7fbfbf\">                    </span><span style=\"color: #000080; text-decoration-color: #000080\">INFO    </span> Loading data from                                                  <a href=\"file:///home/fwojcik/anaconda3/envs/py39clean/lib/python3.9/site-packages/kedro/io/data_catalog.py\" target=\"_blank\"><span style=\"color: #7f7f7f; text-decoration-color: #7f7f7f\">data_catalog.py</span></a><span style=\"color: #7f7f7f; text-decoration-color: #7f7f7f\">:</span><a href=\"file:///home/fwojcik/anaconda3/envs/py39clean/lib/python3.9/site-packages/kedro/io/data_catalog.py#343\" target=\"_blank\"><span style=\"color: #7f7f7f; text-decoration-color: #7f7f7f\">343</span></a>\n<span style=\"color: #7fbfbf; text-decoration-color: #7fbfbf\">                    </span>         <span style=\"color: #008000; text-decoration-color: #008000\">'experiment.deep_hybrid_rec_crossval_val_metrics'</span> <span style=\"font-weight: bold\">(</span>CSVDataSet<span style=\"font-weight: bold\">)</span><span style=\"color: #808000; text-decoration-color: #808000\">...</span>  <span style=\"color: #7f7f7f; text-decoration-color: #7f7f7f\">                   </span>\n</pre>\n"
     },
     "metadata": {},
     "output_type": "display_data"
    },
    {
     "data": {
      "text/plain": "\u001B[2;36m                   \u001B[0m\u001B[2;36m \u001B[0m\u001B[34mINFO    \u001B[0m Loading data from \u001B[32m'experiment.gnn_rec_crossval_val_metrics'\u001B[0m        \u001B]8;id=510509;file:///home/fwojcik/anaconda3/envs/py39clean/lib/python3.9/site-packages/kedro/io/data_catalog.py\u001B\\\u001B[2mdata_catalog.py\u001B[0m\u001B]8;;\u001B\\\u001B[2m:\u001B[0m\u001B]8;id=683382;file:///home/fwojcik/anaconda3/envs/py39clean/lib/python3.9/site-packages/kedro/io/data_catalog.py#343\u001B\\\u001B[2m343\u001B[0m\u001B]8;;\u001B\\\n\u001B[2;36m                    \u001B[0m         \u001B[1m(\u001B[0mCSVDataSet\u001B[1m)\u001B[0m\u001B[33m...\u001B[0m                                                    \u001B[2m                   \u001B[0m\n",
      "text/html": "<pre style=\"white-space:pre;overflow-x:auto;line-height:normal;font-family:Menlo,'DejaVu Sans Mono',consolas,'Courier New',monospace\"><span style=\"color: #7fbfbf; text-decoration-color: #7fbfbf\">                    </span><span style=\"color: #000080; text-decoration-color: #000080\">INFO    </span> Loading data from <span style=\"color: #008000; text-decoration-color: #008000\">'experiment.gnn_rec_crossval_val_metrics'</span>        <a href=\"file:///home/fwojcik/anaconda3/envs/py39clean/lib/python3.9/site-packages/kedro/io/data_catalog.py\" target=\"_blank\"><span style=\"color: #7f7f7f; text-decoration-color: #7f7f7f\">data_catalog.py</span></a><span style=\"color: #7f7f7f; text-decoration-color: #7f7f7f\">:</span><a href=\"file:///home/fwojcik/anaconda3/envs/py39clean/lib/python3.9/site-packages/kedro/io/data_catalog.py#343\" target=\"_blank\"><span style=\"color: #7f7f7f; text-decoration-color: #7f7f7f\">343</span></a>\n<span style=\"color: #7fbfbf; text-decoration-color: #7fbfbf\">                    </span>         <span style=\"font-weight: bold\">(</span>CSVDataSet<span style=\"font-weight: bold\">)</span><span style=\"color: #808000; text-decoration-color: #808000\">...</span>                                                    <span style=\"color: #7f7f7f; text-decoration-color: #7f7f7f\">                   </span>\n</pre>\n"
     },
     "metadata": {},
     "output_type": "display_data"
    }
   ],
   "source": [
    "colab_filt_val_metrics = catalog.load(\"experiment.colab_filtering_crossval_val_metrics\")\n",
    "deep_colab_filt_val_metrics = catalog.load(\"experiment.deep_colab_filtering_crossval_val_metrics\")\n",
    "hybrid_rec_val_metrics = catalog.load(\"experiment.deep_hybrid_rec_crossval_val_metrics\")\n",
    "gnn_rec_val_metrics = catalog.load(\"experiment.gnn_rec_crossval_val_metrics\")\n",
    "\n",
    "all_metrics = pd.concat([colab_filt_val_metrics, deep_colab_filt_val_metrics, hybrid_rec_val_metrics, gnn_rec_val_metrics], axis=0, ignore_index=True)\n",
    "all_metrics = pd.melt(all_metrics, id_vars='model_name', var_name='metric')"
   ]
  },
  {
   "cell_type": "markdown",
   "metadata": {},
   "source": [
    "# Validation metrics inspection"
   ]
  },
  {
   "cell_type": "code",
   "execution_count": 17,
   "outputs": [
    {
     "data": {
      "text/plain": "                         value                                            \\\nmetric               train_MAE train_MAPE  train_MSE   val_MAE  val_MAPE   \nmodel_name                                                                 \ncolab filtering       3.320459   0.719094  14.875977  3.752275  0.813148   \ndeep colab filtering  0.437923   0.146391   0.442674  0.476319  0.157380   \ngnn recommender            NaN        NaN        NaN  0.136473  0.041248   \nhybrid recommender    0.150604   0.051982   0.125893  0.166640  0.062050   \n\n                                 \nmetric                  val_MSE  \nmodel_name                       \ncolab filtering       17.231289  \ndeep colab filtering   0.512165  \ngnn recommender        0.127631  \nhybrid recommender     0.206777  ",
      "text/html": "<div>\n<style scoped>\n    .dataframe tbody tr th:only-of-type {\n        vertical-align: middle;\n    }\n\n    .dataframe tbody tr th {\n        vertical-align: top;\n    }\n\n    .dataframe thead tr th {\n        text-align: left;\n    }\n\n    .dataframe thead tr:last-of-type th {\n        text-align: right;\n    }\n</style>\n<table border=\"1\" class=\"dataframe\">\n  <thead>\n    <tr>\n      <th></th>\n      <th colspan=\"6\" halign=\"left\">value</th>\n    </tr>\n    <tr>\n      <th>metric</th>\n      <th>train_MAE</th>\n      <th>train_MAPE</th>\n      <th>train_MSE</th>\n      <th>val_MAE</th>\n      <th>val_MAPE</th>\n      <th>val_MSE</th>\n    </tr>\n    <tr>\n      <th>model_name</th>\n      <th></th>\n      <th></th>\n      <th></th>\n      <th></th>\n      <th></th>\n      <th></th>\n    </tr>\n  </thead>\n  <tbody>\n    <tr>\n      <th>colab filtering</th>\n      <td>3.320459</td>\n      <td>0.719094</td>\n      <td>14.875977</td>\n      <td>3.752275</td>\n      <td>0.813148</td>\n      <td>17.231289</td>\n    </tr>\n    <tr>\n      <th>deep colab filtering</th>\n      <td>0.437923</td>\n      <td>0.146391</td>\n      <td>0.442674</td>\n      <td>0.476319</td>\n      <td>0.157380</td>\n      <td>0.512165</td>\n    </tr>\n    <tr>\n      <th>gnn recommender</th>\n      <td>NaN</td>\n      <td>NaN</td>\n      <td>NaN</td>\n      <td>0.136473</td>\n      <td>0.041248</td>\n      <td>0.127631</td>\n    </tr>\n    <tr>\n      <th>hybrid recommender</th>\n      <td>0.150604</td>\n      <td>0.051982</td>\n      <td>0.125893</td>\n      <td>0.166640</td>\n      <td>0.062050</td>\n      <td>0.206777</td>\n    </tr>\n  </tbody>\n</table>\n</div>"
     },
     "execution_count": 17,
     "metadata": {},
     "output_type": "execute_result"
    }
   ],
   "source": [
    "all_metrics.pivot_table(index='model_name', columns='metric', aggfunc='mean')"
   ],
   "metadata": {
    "collapsed": false,
    "ExecuteTime": {
     "end_time": "2023-05-29T18:42:18.986194300Z",
     "start_time": "2023-05-29T18:42:18.950032900Z"
    }
   }
  },
  {
   "cell_type": "markdown",
   "metadata": {},
   "source": [
    "## Visualization of validation metrics"
   ]
  },
  {
   "cell_type": "code",
   "execution_count": 12,
   "metadata": {
    "collapsed": false,
    "jupyter": {
     "outputs_hidden": false
    },
    "ExecuteTime": {
     "end_time": "2023-05-29T18:40:41.508386800Z",
     "start_time": "2023-05-29T18:40:41.406639200Z"
    }
   },
   "outputs": [
    {
     "data": {
      "application/vnd.plotly.v1+json": {
       "data": [
        {
         "alignmentgroup": "True",
         "hovertemplate": "model_name=colab filtering<br>metric=val_MSE<br>value=%{y}<extra></extra>",
         "legendgroup": "colab filtering",
         "marker": {
          "color": "#636efa"
         },
         "name": "colab filtering",
         "notched": false,
         "offsetgroup": "colab filtering",
         "orientation": "v",
         "showlegend": true,
         "x0": " ",
         "xaxis": "x",
         "y": [
          16.66489028930664,
          17.214820861816406,
          16.669069290161133,
          17.52916145324707,
          16.857084274291992,
          17.94296646118164,
          17.392742156982422,
          17.204565048217773,
          17.715280532836914,
          17.12230682373047
         ],
         "y0": " ",
         "yaxis": "y",
         "type": "box"
        },
        {
         "alignmentgroup": "True",
         "hovertemplate": "model_name=colab filtering<br>metric=val_MAPE<br>value=%{y}<extra></extra>",
         "legendgroup": "colab filtering",
         "marker": {
          "color": "#636efa"
         },
         "name": "colab filtering",
         "notched": false,
         "offsetgroup": "colab filtering",
         "orientation": "v",
         "showlegend": false,
         "x0": " ",
         "xaxis": "x2",
         "y": [
          0.7824416756629944,
          0.8315984010696411,
          0.8053377866744995,
          0.8041177988052368,
          0.7833846807479858,
          0.8162189722061157,
          0.8302364349365234,
          0.828876256942749,
          0.8628215193748474,
          0.7864456176757812
         ],
         "y0": " ",
         "yaxis": "y2",
         "type": "box"
        },
        {
         "alignmentgroup": "True",
         "hovertemplate": "model_name=colab filtering<br>metric=val_MAE<br>value=%{y}<extra></extra>",
         "legendgroup": "colab filtering",
         "marker": {
          "color": "#636efa"
         },
         "name": "colab filtering",
         "notched": false,
         "offsetgroup": "colab filtering",
         "orientation": "v",
         "showlegend": false,
         "x0": " ",
         "xaxis": "x3",
         "y": [
          3.7262017726898193,
          3.790656089782715,
          3.697633266448975,
          3.755976676940918,
          3.716115474700928,
          3.821899652481079,
          3.740237474441528,
          3.760362148284912,
          3.752530097961426,
          3.761140584945679
         ],
         "y0": " ",
         "yaxis": "y3",
         "type": "box"
        },
        {
         "alignmentgroup": "True",
         "hovertemplate": "model_name=deep colab filtering<br>metric=val_MSE<br>value=%{y}<extra></extra>",
         "legendgroup": "deep colab filtering",
         "marker": {
          "color": "#EF553B"
         },
         "name": "deep colab filtering",
         "notched": false,
         "offsetgroup": "deep colab filtering",
         "orientation": "v",
         "showlegend": true,
         "x0": " ",
         "xaxis": "x",
         "y": [
          0.3852074444293976,
          0.5924038290977478,
          0.573458731174469,
          0.4795467257499695,
          0.4317647814750671,
          0.4797887504100799,
          0.503313422203064,
          0.5171297192573547,
          0.7016474008560181,
          0.4573924839496612
         ],
         "y0": " ",
         "yaxis": "y",
         "type": "box"
        },
        {
         "alignmentgroup": "True",
         "hovertemplate": "model_name=deep colab filtering<br>metric=val_MAPE<br>value=%{y}<extra></extra>",
         "legendgroup": "deep colab filtering",
         "marker": {
          "color": "#EF553B"
         },
         "name": "deep colab filtering",
         "notched": false,
         "offsetgroup": "deep colab filtering",
         "orientation": "v",
         "showlegend": false,
         "x0": " ",
         "xaxis": "x2",
         "y": [
          0.1228402629494667,
          0.1816964447498321,
          0.1830248981714248,
          0.1439038962125778,
          0.1406022608280182,
          0.1378606408834457,
          0.1563252657651901,
          0.1658288389444351,
          0.1983831822872162,
          0.1433315426111221
         ],
         "y0": " ",
         "yaxis": "y2",
         "type": "box"
        },
        {
         "alignmentgroup": "True",
         "hovertemplate": "model_name=deep colab filtering<br>metric=val_MAE<br>value=%{y}<extra></extra>",
         "legendgroup": "deep colab filtering",
         "marker": {
          "color": "#EF553B"
         },
         "name": "deep colab filtering",
         "notched": false,
         "offsetgroup": "deep colab filtering",
         "orientation": "v",
         "showlegend": false,
         "x0": " ",
         "xaxis": "x3",
         "y": [
          0.4294908344745636,
          0.49829763174057,
          0.4692815542221069,
          0.4846234619617462,
          0.4629775881767273,
          0.4836300611495971,
          0.5037230849266052,
          0.4737958908081054,
          0.5015237927436829,
          0.4558467864990234
         ],
         "y0": " ",
         "yaxis": "y3",
         "type": "box"
        },
        {
         "alignmentgroup": "True",
         "hovertemplate": "model_name=hybrid recommender<br>metric=val_MSE<br>value=%{y}<extra></extra>",
         "legendgroup": "hybrid recommender",
         "marker": {
          "color": "#00cc96"
         },
         "name": "hybrid recommender",
         "notched": false,
         "offsetgroup": "hybrid recommender",
         "orientation": "v",
         "showlegend": true,
         "x0": " ",
         "xaxis": "x",
         "y": [
          0.0856364220380783,
          0.2227693796157837,
          0.4116537272930145,
          0.1479098498821258,
          0.1842458695173263,
          0.2102307677268982,
          0.1822684705257415,
          0.2633473575115204,
          0.179327592253685,
          0.1803776919841766
         ],
         "y0": " ",
         "yaxis": "y",
         "type": "box"
        },
        {
         "alignmentgroup": "True",
         "hovertemplate": "model_name=hybrid recommender<br>metric=val_MAPE<br>value=%{y}<extra></extra>",
         "legendgroup": "hybrid recommender",
         "marker": {
          "color": "#00cc96"
         },
         "name": "hybrid recommender",
         "notched": false,
         "offsetgroup": "hybrid recommender",
         "orientation": "v",
         "showlegend": false,
         "x0": " ",
         "xaxis": "x2",
         "y": [
          0.0363787859678268,
          0.079166792333126,
          0.1149467900395393,
          0.0442415848374366,
          0.0574426874518394,
          0.044968519359827,
          0.0520084649324417,
          0.0757003501057624,
          0.0662106871604919,
          0.0494315847754478
         ],
         "y0": " ",
         "yaxis": "y2",
         "type": "box"
        },
        {
         "alignmentgroup": "True",
         "hovertemplate": "model_name=hybrid recommender<br>metric=val_MAE<br>value=%{y}<extra></extra>",
         "legendgroup": "hybrid recommender",
         "marker": {
          "color": "#00cc96"
         },
         "name": "hybrid recommender",
         "notched": false,
         "offsetgroup": "hybrid recommender",
         "orientation": "v",
         "showlegend": false,
         "x0": " ",
         "xaxis": "x3",
         "y": [
          0.1301030814647674,
          0.1946905851364135,
          0.2480747401714325,
          0.1487332731485366,
          0.1483615040779113,
          0.1678932756185531,
          0.1553215533494949,
          0.1732664257287979,
          0.1563220620155334,
          0.1436318010091781
         ],
         "y0": " ",
         "yaxis": "y3",
         "type": "box"
        },
        {
         "alignmentgroup": "True",
         "hovertemplate": "model_name=gnn recommender<br>metric=val_MSE<br>value=%{y}<extra></extra>",
         "legendgroup": "gnn recommender",
         "marker": {
          "color": "#ab63fa"
         },
         "name": "gnn recommender",
         "notched": false,
         "offsetgroup": "gnn recommender",
         "orientation": "v",
         "showlegend": true,
         "x0": " ",
         "xaxis": "x",
         "y": [
          0.1243841648101806,
          0.1852373629808426,
          0.147905483841896,
          0.0871895253658294,
          0.0584613531827926,
          0.1384694129228592,
          0.0925212204456329,
          0.2460906505584716,
          0.139086440205574,
          0.0569617301225662
         ],
         "y0": " ",
         "yaxis": "y",
         "type": "box"
        },
        {
         "alignmentgroup": "True",
         "hovertemplate": "model_name=gnn recommender<br>metric=val_MAPE<br>value=%{y}<extra></extra>",
         "legendgroup": "gnn recommender",
         "marker": {
          "color": "#ab63fa"
         },
         "name": "gnn recommender",
         "notched": false,
         "offsetgroup": "gnn recommender",
         "orientation": "v",
         "showlegend": false,
         "x0": " ",
         "xaxis": "x2",
         "y": [
          0.033490601927042,
          0.0576940923929214,
          0.0507068149745464,
          0.0258232150226831,
          0.0259893890470266,
          0.0330038033425807,
          0.0465718209743499,
          0.0660012364387512,
          0.042460948228836,
          0.0307369530200958
         ],
         "y0": " ",
         "yaxis": "y2",
         "type": "box"
        },
        {
         "alignmentgroup": "True",
         "hovertemplate": "model_name=gnn recommender<br>metric=val_MAE<br>value=%{y}<extra></extra>",
         "legendgroup": "gnn recommender",
         "marker": {
          "color": "#ab63fa"
         },
         "name": "gnn recommender",
         "notched": false,
         "offsetgroup": "gnn recommender",
         "orientation": "v",
         "showlegend": false,
         "x0": " ",
         "xaxis": "x3",
         "y": [
          0.1457486450672149,
          0.1514546871185302,
          0.1141743957996368,
          0.1127757132053375,
          0.1025814488530159,
          0.1345720738172531,
          0.1792047023773193,
          0.1652410626411438,
          0.1360765546560287,
          0.122898630797863
         ],
         "y0": " ",
         "yaxis": "y3",
         "type": "box"
        }
       ],
       "layout": {
        "template": {
         "data": {
          "histogram2dcontour": [
           {
            "type": "histogram2dcontour",
            "colorbar": {
             "outlinewidth": 0,
             "ticks": ""
            },
            "colorscale": [
             [
              0.0,
              "#0d0887"
             ],
             [
              0.1111111111111111,
              "#46039f"
             ],
             [
              0.2222222222222222,
              "#7201a8"
             ],
             [
              0.3333333333333333,
              "#9c179e"
             ],
             [
              0.4444444444444444,
              "#bd3786"
             ],
             [
              0.5555555555555556,
              "#d8576b"
             ],
             [
              0.6666666666666666,
              "#ed7953"
             ],
             [
              0.7777777777777778,
              "#fb9f3a"
             ],
             [
              0.8888888888888888,
              "#fdca26"
             ],
             [
              1.0,
              "#f0f921"
             ]
            ]
           }
          ],
          "choropleth": [
           {
            "type": "choropleth",
            "colorbar": {
             "outlinewidth": 0,
             "ticks": ""
            }
           }
          ],
          "histogram2d": [
           {
            "type": "histogram2d",
            "colorbar": {
             "outlinewidth": 0,
             "ticks": ""
            },
            "colorscale": [
             [
              0.0,
              "#0d0887"
             ],
             [
              0.1111111111111111,
              "#46039f"
             ],
             [
              0.2222222222222222,
              "#7201a8"
             ],
             [
              0.3333333333333333,
              "#9c179e"
             ],
             [
              0.4444444444444444,
              "#bd3786"
             ],
             [
              0.5555555555555556,
              "#d8576b"
             ],
             [
              0.6666666666666666,
              "#ed7953"
             ],
             [
              0.7777777777777778,
              "#fb9f3a"
             ],
             [
              0.8888888888888888,
              "#fdca26"
             ],
             [
              1.0,
              "#f0f921"
             ]
            ]
           }
          ],
          "heatmap": [
           {
            "type": "heatmap",
            "colorbar": {
             "outlinewidth": 0,
             "ticks": ""
            },
            "colorscale": [
             [
              0.0,
              "#0d0887"
             ],
             [
              0.1111111111111111,
              "#46039f"
             ],
             [
              0.2222222222222222,
              "#7201a8"
             ],
             [
              0.3333333333333333,
              "#9c179e"
             ],
             [
              0.4444444444444444,
              "#bd3786"
             ],
             [
              0.5555555555555556,
              "#d8576b"
             ],
             [
              0.6666666666666666,
              "#ed7953"
             ],
             [
              0.7777777777777778,
              "#fb9f3a"
             ],
             [
              0.8888888888888888,
              "#fdca26"
             ],
             [
              1.0,
              "#f0f921"
             ]
            ]
           }
          ],
          "heatmapgl": [
           {
            "type": "heatmapgl",
            "colorbar": {
             "outlinewidth": 0,
             "ticks": ""
            },
            "colorscale": [
             [
              0.0,
              "#0d0887"
             ],
             [
              0.1111111111111111,
              "#46039f"
             ],
             [
              0.2222222222222222,
              "#7201a8"
             ],
             [
              0.3333333333333333,
              "#9c179e"
             ],
             [
              0.4444444444444444,
              "#bd3786"
             ],
             [
              0.5555555555555556,
              "#d8576b"
             ],
             [
              0.6666666666666666,
              "#ed7953"
             ],
             [
              0.7777777777777778,
              "#fb9f3a"
             ],
             [
              0.8888888888888888,
              "#fdca26"
             ],
             [
              1.0,
              "#f0f921"
             ]
            ]
           }
          ],
          "contourcarpet": [
           {
            "type": "contourcarpet",
            "colorbar": {
             "outlinewidth": 0,
             "ticks": ""
            }
           }
          ],
          "contour": [
           {
            "type": "contour",
            "colorbar": {
             "outlinewidth": 0,
             "ticks": ""
            },
            "colorscale": [
             [
              0.0,
              "#0d0887"
             ],
             [
              0.1111111111111111,
              "#46039f"
             ],
             [
              0.2222222222222222,
              "#7201a8"
             ],
             [
              0.3333333333333333,
              "#9c179e"
             ],
             [
              0.4444444444444444,
              "#bd3786"
             ],
             [
              0.5555555555555556,
              "#d8576b"
             ],
             [
              0.6666666666666666,
              "#ed7953"
             ],
             [
              0.7777777777777778,
              "#fb9f3a"
             ],
             [
              0.8888888888888888,
              "#fdca26"
             ],
             [
              1.0,
              "#f0f921"
             ]
            ]
           }
          ],
          "surface": [
           {
            "type": "surface",
            "colorbar": {
             "outlinewidth": 0,
             "ticks": ""
            },
            "colorscale": [
             [
              0.0,
              "#0d0887"
             ],
             [
              0.1111111111111111,
              "#46039f"
             ],
             [
              0.2222222222222222,
              "#7201a8"
             ],
             [
              0.3333333333333333,
              "#9c179e"
             ],
             [
              0.4444444444444444,
              "#bd3786"
             ],
             [
              0.5555555555555556,
              "#d8576b"
             ],
             [
              0.6666666666666666,
              "#ed7953"
             ],
             [
              0.7777777777777778,
              "#fb9f3a"
             ],
             [
              0.8888888888888888,
              "#fdca26"
             ],
             [
              1.0,
              "#f0f921"
             ]
            ]
           }
          ],
          "mesh3d": [
           {
            "type": "mesh3d",
            "colorbar": {
             "outlinewidth": 0,
             "ticks": ""
            }
           }
          ],
          "scatter": [
           {
            "fillpattern": {
             "fillmode": "overlay",
             "size": 10,
             "solidity": 0.2
            },
            "type": "scatter"
           }
          ],
          "parcoords": [
           {
            "type": "parcoords",
            "line": {
             "colorbar": {
              "outlinewidth": 0,
              "ticks": ""
             }
            }
           }
          ],
          "scatterpolargl": [
           {
            "type": "scatterpolargl",
            "marker": {
             "colorbar": {
              "outlinewidth": 0,
              "ticks": ""
             }
            }
           }
          ],
          "bar": [
           {
            "error_x": {
             "color": "#2a3f5f"
            },
            "error_y": {
             "color": "#2a3f5f"
            },
            "marker": {
             "line": {
              "color": "#E5ECF6",
              "width": 0.5
             },
             "pattern": {
              "fillmode": "overlay",
              "size": 10,
              "solidity": 0.2
             }
            },
            "type": "bar"
           }
          ],
          "scattergeo": [
           {
            "type": "scattergeo",
            "marker": {
             "colorbar": {
              "outlinewidth": 0,
              "ticks": ""
             }
            }
           }
          ],
          "scatterpolar": [
           {
            "type": "scatterpolar",
            "marker": {
             "colorbar": {
              "outlinewidth": 0,
              "ticks": ""
             }
            }
           }
          ],
          "histogram": [
           {
            "marker": {
             "pattern": {
              "fillmode": "overlay",
              "size": 10,
              "solidity": 0.2
             }
            },
            "type": "histogram"
           }
          ],
          "scattergl": [
           {
            "type": "scattergl",
            "marker": {
             "colorbar": {
              "outlinewidth": 0,
              "ticks": ""
             }
            }
           }
          ],
          "scatter3d": [
           {
            "type": "scatter3d",
            "line": {
             "colorbar": {
              "outlinewidth": 0,
              "ticks": ""
             }
            },
            "marker": {
             "colorbar": {
              "outlinewidth": 0,
              "ticks": ""
             }
            }
           }
          ],
          "scattermapbox": [
           {
            "type": "scattermapbox",
            "marker": {
             "colorbar": {
              "outlinewidth": 0,
              "ticks": ""
             }
            }
           }
          ],
          "scatterternary": [
           {
            "type": "scatterternary",
            "marker": {
             "colorbar": {
              "outlinewidth": 0,
              "ticks": ""
             }
            }
           }
          ],
          "scattercarpet": [
           {
            "type": "scattercarpet",
            "marker": {
             "colorbar": {
              "outlinewidth": 0,
              "ticks": ""
             }
            }
           }
          ],
          "carpet": [
           {
            "aaxis": {
             "endlinecolor": "#2a3f5f",
             "gridcolor": "white",
             "linecolor": "white",
             "minorgridcolor": "white",
             "startlinecolor": "#2a3f5f"
            },
            "baxis": {
             "endlinecolor": "#2a3f5f",
             "gridcolor": "white",
             "linecolor": "white",
             "minorgridcolor": "white",
             "startlinecolor": "#2a3f5f"
            },
            "type": "carpet"
           }
          ],
          "table": [
           {
            "cells": {
             "fill": {
              "color": "#EBF0F8"
             },
             "line": {
              "color": "white"
             }
            },
            "header": {
             "fill": {
              "color": "#C8D4E3"
             },
             "line": {
              "color": "white"
             }
            },
            "type": "table"
           }
          ],
          "barpolar": [
           {
            "marker": {
             "line": {
              "color": "#E5ECF6",
              "width": 0.5
             },
             "pattern": {
              "fillmode": "overlay",
              "size": 10,
              "solidity": 0.2
             }
            },
            "type": "barpolar"
           }
          ],
          "pie": [
           {
            "automargin": true,
            "type": "pie"
           }
          ]
         },
         "layout": {
          "autotypenumbers": "strict",
          "colorway": [
           "#636efa",
           "#EF553B",
           "#00cc96",
           "#ab63fa",
           "#FFA15A",
           "#19d3f3",
           "#FF6692",
           "#B6E880",
           "#FF97FF",
           "#FECB52"
          ],
          "font": {
           "color": "#2a3f5f"
          },
          "hovermode": "closest",
          "hoverlabel": {
           "align": "left"
          },
          "paper_bgcolor": "white",
          "plot_bgcolor": "#E5ECF6",
          "polar": {
           "bgcolor": "#E5ECF6",
           "angularaxis": {
            "gridcolor": "white",
            "linecolor": "white",
            "ticks": ""
           },
           "radialaxis": {
            "gridcolor": "white",
            "linecolor": "white",
            "ticks": ""
           }
          },
          "ternary": {
           "bgcolor": "#E5ECF6",
           "aaxis": {
            "gridcolor": "white",
            "linecolor": "white",
            "ticks": ""
           },
           "baxis": {
            "gridcolor": "white",
            "linecolor": "white",
            "ticks": ""
           },
           "caxis": {
            "gridcolor": "white",
            "linecolor": "white",
            "ticks": ""
           }
          },
          "coloraxis": {
           "colorbar": {
            "outlinewidth": 0,
            "ticks": ""
           }
          },
          "colorscale": {
           "sequential": [
            [
             0.0,
             "#0d0887"
            ],
            [
             0.1111111111111111,
             "#46039f"
            ],
            [
             0.2222222222222222,
             "#7201a8"
            ],
            [
             0.3333333333333333,
             "#9c179e"
            ],
            [
             0.4444444444444444,
             "#bd3786"
            ],
            [
             0.5555555555555556,
             "#d8576b"
            ],
            [
             0.6666666666666666,
             "#ed7953"
            ],
            [
             0.7777777777777778,
             "#fb9f3a"
            ],
            [
             0.8888888888888888,
             "#fdca26"
            ],
            [
             1.0,
             "#f0f921"
            ]
           ],
           "sequentialminus": [
            [
             0.0,
             "#0d0887"
            ],
            [
             0.1111111111111111,
             "#46039f"
            ],
            [
             0.2222222222222222,
             "#7201a8"
            ],
            [
             0.3333333333333333,
             "#9c179e"
            ],
            [
             0.4444444444444444,
             "#bd3786"
            ],
            [
             0.5555555555555556,
             "#d8576b"
            ],
            [
             0.6666666666666666,
             "#ed7953"
            ],
            [
             0.7777777777777778,
             "#fb9f3a"
            ],
            [
             0.8888888888888888,
             "#fdca26"
            ],
            [
             1.0,
             "#f0f921"
            ]
           ],
           "diverging": [
            [
             0,
             "#8e0152"
            ],
            [
             0.1,
             "#c51b7d"
            ],
            [
             0.2,
             "#de77ae"
            ],
            [
             0.3,
             "#f1b6da"
            ],
            [
             0.4,
             "#fde0ef"
            ],
            [
             0.5,
             "#f7f7f7"
            ],
            [
             0.6,
             "#e6f5d0"
            ],
            [
             0.7,
             "#b8e186"
            ],
            [
             0.8,
             "#7fbc41"
            ],
            [
             0.9,
             "#4d9221"
            ],
            [
             1,
             "#276419"
            ]
           ]
          },
          "xaxis": {
           "gridcolor": "white",
           "linecolor": "white",
           "ticks": "",
           "title": {
            "standoff": 15
           },
           "zerolinecolor": "white",
           "automargin": true,
           "zerolinewidth": 2
          },
          "yaxis": {
           "gridcolor": "white",
           "linecolor": "white",
           "ticks": "",
           "title": {
            "standoff": 15
           },
           "zerolinecolor": "white",
           "automargin": true,
           "zerolinewidth": 2
          },
          "scene": {
           "xaxis": {
            "backgroundcolor": "#E5ECF6",
            "gridcolor": "white",
            "linecolor": "white",
            "showbackground": true,
            "ticks": "",
            "zerolinecolor": "white",
            "gridwidth": 2
           },
           "yaxis": {
            "backgroundcolor": "#E5ECF6",
            "gridcolor": "white",
            "linecolor": "white",
            "showbackground": true,
            "ticks": "",
            "zerolinecolor": "white",
            "gridwidth": 2
           },
           "zaxis": {
            "backgroundcolor": "#E5ECF6",
            "gridcolor": "white",
            "linecolor": "white",
            "showbackground": true,
            "ticks": "",
            "zerolinecolor": "white",
            "gridwidth": 2
           }
          },
          "shapedefaults": {
           "line": {
            "color": "#2a3f5f"
           }
          },
          "annotationdefaults": {
           "arrowcolor": "#2a3f5f",
           "arrowhead": 0,
           "arrowwidth": 1
          },
          "geo": {
           "bgcolor": "white",
           "landcolor": "#E5ECF6",
           "subunitcolor": "white",
           "showland": true,
           "showlakes": true,
           "lakecolor": "white"
          },
          "title": {
           "x": 0.05
          },
          "mapbox": {
           "style": "light"
          }
         }
        },
        "xaxis": {
         "anchor": "y",
         "domain": [
          0.0,
          0.31999999999999995
         ]
        },
        "yaxis": {
         "anchor": "x",
         "domain": [
          0.0,
          1.0
         ],
         "title": {
          "text": "value"
         }
        },
        "xaxis2": {
         "anchor": "y2",
         "domain": [
          0.33999999999999997,
          0.6599999999999999
         ],
         "matches": "x"
        },
        "yaxis2": {
         "anchor": "x2",
         "domain": [
          0.0,
          1.0
         ],
         "matches": "y",
         "showticklabels": false
        },
        "xaxis3": {
         "anchor": "y3",
         "domain": [
          0.6799999999999999,
          0.9999999999999999
         ],
         "matches": "x"
        },
        "yaxis3": {
         "anchor": "x3",
         "domain": [
          0.0,
          1.0
         ],
         "matches": "y",
         "showticklabels": false
        },
        "annotations": [
         {
          "font": {},
          "showarrow": false,
          "text": "metric=val_MSE",
          "x": 0.15999999999999998,
          "xanchor": "center",
          "xref": "paper",
          "y": 1.0,
          "yanchor": "bottom",
          "yref": "paper"
         },
         {
          "font": {},
          "showarrow": false,
          "text": "metric=val_MAPE",
          "x": 0.49999999999999994,
          "xanchor": "center",
          "xref": "paper",
          "y": 1.0,
          "yanchor": "bottom",
          "yref": "paper"
         },
         {
          "font": {},
          "showarrow": false,
          "text": "metric=val_MAE",
          "x": 0.8399999999999999,
          "xanchor": "center",
          "xref": "paper",
          "y": 1.0,
          "yanchor": "bottom",
          "yref": "paper"
         }
        ],
        "legend": {
         "title": {
          "text": "model_name"
         },
         "tracegroupgap": 0
        },
        "title": {
         "text": "Validation metrics comparison"
        },
        "boxmode": "group"
       },
       "config": {
        "plotlyServerURL": "https://plot.ly"
       }
      },
      "text/html": "<div>                            <div id=\"fb9c2dd5-bd85-498f-a175-cce3c4279f62\" class=\"plotly-graph-div\" style=\"height:525px; width:100%;\"></div>            <script type=\"text/javascript\">                require([\"plotly\"], function(Plotly) {                    window.PLOTLYENV=window.PLOTLYENV || {};                                    if (document.getElementById(\"fb9c2dd5-bd85-498f-a175-cce3c4279f62\")) {                    Plotly.newPlot(                        \"fb9c2dd5-bd85-498f-a175-cce3c4279f62\",                        [{\"alignmentgroup\":\"True\",\"hovertemplate\":\"model_name=colab filtering<br>metric=val_MSE<br>value=%{y}<extra></extra>\",\"legendgroup\":\"colab filtering\",\"marker\":{\"color\":\"#636efa\"},\"name\":\"colab filtering\",\"notched\":false,\"offsetgroup\":\"colab filtering\",\"orientation\":\"v\",\"showlegend\":true,\"x0\":\" \",\"xaxis\":\"x\",\"y\":[16.66489028930664,17.214820861816406,16.669069290161133,17.52916145324707,16.857084274291992,17.94296646118164,17.392742156982422,17.204565048217773,17.715280532836914,17.12230682373047],\"y0\":\" \",\"yaxis\":\"y\",\"type\":\"box\"},{\"alignmentgroup\":\"True\",\"hovertemplate\":\"model_name=colab filtering<br>metric=val_MAPE<br>value=%{y}<extra></extra>\",\"legendgroup\":\"colab filtering\",\"marker\":{\"color\":\"#636efa\"},\"name\":\"colab filtering\",\"notched\":false,\"offsetgroup\":\"colab filtering\",\"orientation\":\"v\",\"showlegend\":false,\"x0\":\" \",\"xaxis\":\"x2\",\"y\":[0.7824416756629944,0.8315984010696411,0.8053377866744995,0.8041177988052368,0.7833846807479858,0.8162189722061157,0.8302364349365234,0.828876256942749,0.8628215193748474,0.7864456176757812],\"y0\":\" \",\"yaxis\":\"y2\",\"type\":\"box\"},{\"alignmentgroup\":\"True\",\"hovertemplate\":\"model_name=colab filtering<br>metric=val_MAE<br>value=%{y}<extra></extra>\",\"legendgroup\":\"colab filtering\",\"marker\":{\"color\":\"#636efa\"},\"name\":\"colab filtering\",\"notched\":false,\"offsetgroup\":\"colab filtering\",\"orientation\":\"v\",\"showlegend\":false,\"x0\":\" \",\"xaxis\":\"x3\",\"y\":[3.7262017726898193,3.790656089782715,3.697633266448975,3.755976676940918,3.716115474700928,3.821899652481079,3.740237474441528,3.760362148284912,3.752530097961426,3.761140584945679],\"y0\":\" \",\"yaxis\":\"y3\",\"type\":\"box\"},{\"alignmentgroup\":\"True\",\"hovertemplate\":\"model_name=deep colab filtering<br>metric=val_MSE<br>value=%{y}<extra></extra>\",\"legendgroup\":\"deep colab filtering\",\"marker\":{\"color\":\"#EF553B\"},\"name\":\"deep colab filtering\",\"notched\":false,\"offsetgroup\":\"deep colab filtering\",\"orientation\":\"v\",\"showlegend\":true,\"x0\":\" \",\"xaxis\":\"x\",\"y\":[0.3852074444293976,0.5924038290977478,0.573458731174469,0.4795467257499695,0.4317647814750671,0.4797887504100799,0.503313422203064,0.5171297192573547,0.7016474008560181,0.4573924839496612],\"y0\":\" \",\"yaxis\":\"y\",\"type\":\"box\"},{\"alignmentgroup\":\"True\",\"hovertemplate\":\"model_name=deep colab filtering<br>metric=val_MAPE<br>value=%{y}<extra></extra>\",\"legendgroup\":\"deep colab filtering\",\"marker\":{\"color\":\"#EF553B\"},\"name\":\"deep colab filtering\",\"notched\":false,\"offsetgroup\":\"deep colab filtering\",\"orientation\":\"v\",\"showlegend\":false,\"x0\":\" \",\"xaxis\":\"x2\",\"y\":[0.1228402629494667,0.1816964447498321,0.1830248981714248,0.1439038962125778,0.1406022608280182,0.1378606408834457,0.1563252657651901,0.1658288389444351,0.1983831822872162,0.1433315426111221],\"y0\":\" \",\"yaxis\":\"y2\",\"type\":\"box\"},{\"alignmentgroup\":\"True\",\"hovertemplate\":\"model_name=deep colab filtering<br>metric=val_MAE<br>value=%{y}<extra></extra>\",\"legendgroup\":\"deep colab filtering\",\"marker\":{\"color\":\"#EF553B\"},\"name\":\"deep colab filtering\",\"notched\":false,\"offsetgroup\":\"deep colab filtering\",\"orientation\":\"v\",\"showlegend\":false,\"x0\":\" \",\"xaxis\":\"x3\",\"y\":[0.4294908344745636,0.49829763174057,0.4692815542221069,0.4846234619617462,0.4629775881767273,0.4836300611495971,0.5037230849266052,0.4737958908081054,0.5015237927436829,0.4558467864990234],\"y0\":\" \",\"yaxis\":\"y3\",\"type\":\"box\"},{\"alignmentgroup\":\"True\",\"hovertemplate\":\"model_name=hybrid recommender<br>metric=val_MSE<br>value=%{y}<extra></extra>\",\"legendgroup\":\"hybrid recommender\",\"marker\":{\"color\":\"#00cc96\"},\"name\":\"hybrid recommender\",\"notched\":false,\"offsetgroup\":\"hybrid recommender\",\"orientation\":\"v\",\"showlegend\":true,\"x0\":\" \",\"xaxis\":\"x\",\"y\":[0.0856364220380783,0.2227693796157837,0.4116537272930145,0.1479098498821258,0.1842458695173263,0.2102307677268982,0.1822684705257415,0.2633473575115204,0.179327592253685,0.1803776919841766],\"y0\":\" \",\"yaxis\":\"y\",\"type\":\"box\"},{\"alignmentgroup\":\"True\",\"hovertemplate\":\"model_name=hybrid recommender<br>metric=val_MAPE<br>value=%{y}<extra></extra>\",\"legendgroup\":\"hybrid recommender\",\"marker\":{\"color\":\"#00cc96\"},\"name\":\"hybrid recommender\",\"notched\":false,\"offsetgroup\":\"hybrid recommender\",\"orientation\":\"v\",\"showlegend\":false,\"x0\":\" \",\"xaxis\":\"x2\",\"y\":[0.0363787859678268,0.079166792333126,0.1149467900395393,0.0442415848374366,0.0574426874518394,0.044968519359827,0.0520084649324417,0.0757003501057624,0.0662106871604919,0.0494315847754478],\"y0\":\" \",\"yaxis\":\"y2\",\"type\":\"box\"},{\"alignmentgroup\":\"True\",\"hovertemplate\":\"model_name=hybrid recommender<br>metric=val_MAE<br>value=%{y}<extra></extra>\",\"legendgroup\":\"hybrid recommender\",\"marker\":{\"color\":\"#00cc96\"},\"name\":\"hybrid recommender\",\"notched\":false,\"offsetgroup\":\"hybrid recommender\",\"orientation\":\"v\",\"showlegend\":false,\"x0\":\" \",\"xaxis\":\"x3\",\"y\":[0.1301030814647674,0.1946905851364135,0.2480747401714325,0.1487332731485366,0.1483615040779113,0.1678932756185531,0.1553215533494949,0.1732664257287979,0.1563220620155334,0.1436318010091781],\"y0\":\" \",\"yaxis\":\"y3\",\"type\":\"box\"},{\"alignmentgroup\":\"True\",\"hovertemplate\":\"model_name=gnn recommender<br>metric=val_MSE<br>value=%{y}<extra></extra>\",\"legendgroup\":\"gnn recommender\",\"marker\":{\"color\":\"#ab63fa\"},\"name\":\"gnn recommender\",\"notched\":false,\"offsetgroup\":\"gnn recommender\",\"orientation\":\"v\",\"showlegend\":true,\"x0\":\" \",\"xaxis\":\"x\",\"y\":[0.1243841648101806,0.1852373629808426,0.147905483841896,0.0871895253658294,0.0584613531827926,0.1384694129228592,0.0925212204456329,0.2460906505584716,0.139086440205574,0.0569617301225662],\"y0\":\" \",\"yaxis\":\"y\",\"type\":\"box\"},{\"alignmentgroup\":\"True\",\"hovertemplate\":\"model_name=gnn recommender<br>metric=val_MAPE<br>value=%{y}<extra></extra>\",\"legendgroup\":\"gnn recommender\",\"marker\":{\"color\":\"#ab63fa\"},\"name\":\"gnn recommender\",\"notched\":false,\"offsetgroup\":\"gnn recommender\",\"orientation\":\"v\",\"showlegend\":false,\"x0\":\" \",\"xaxis\":\"x2\",\"y\":[0.033490601927042,0.0576940923929214,0.0507068149745464,0.0258232150226831,0.0259893890470266,0.0330038033425807,0.0465718209743499,0.0660012364387512,0.042460948228836,0.0307369530200958],\"y0\":\" \",\"yaxis\":\"y2\",\"type\":\"box\"},{\"alignmentgroup\":\"True\",\"hovertemplate\":\"model_name=gnn recommender<br>metric=val_MAE<br>value=%{y}<extra></extra>\",\"legendgroup\":\"gnn recommender\",\"marker\":{\"color\":\"#ab63fa\"},\"name\":\"gnn recommender\",\"notched\":false,\"offsetgroup\":\"gnn recommender\",\"orientation\":\"v\",\"showlegend\":false,\"x0\":\" \",\"xaxis\":\"x3\",\"y\":[0.1457486450672149,0.1514546871185302,0.1141743957996368,0.1127757132053375,0.1025814488530159,0.1345720738172531,0.1792047023773193,0.1652410626411438,0.1360765546560287,0.122898630797863],\"y0\":\" \",\"yaxis\":\"y3\",\"type\":\"box\"}],                        {\"template\":{\"data\":{\"histogram2dcontour\":[{\"type\":\"histogram2dcontour\",\"colorbar\":{\"outlinewidth\":0,\"ticks\":\"\"},\"colorscale\":[[0.0,\"#0d0887\"],[0.1111111111111111,\"#46039f\"],[0.2222222222222222,\"#7201a8\"],[0.3333333333333333,\"#9c179e\"],[0.4444444444444444,\"#bd3786\"],[0.5555555555555556,\"#d8576b\"],[0.6666666666666666,\"#ed7953\"],[0.7777777777777778,\"#fb9f3a\"],[0.8888888888888888,\"#fdca26\"],[1.0,\"#f0f921\"]]}],\"choropleth\":[{\"type\":\"choropleth\",\"colorbar\":{\"outlinewidth\":0,\"ticks\":\"\"}}],\"histogram2d\":[{\"type\":\"histogram2d\",\"colorbar\":{\"outlinewidth\":0,\"ticks\":\"\"},\"colorscale\":[[0.0,\"#0d0887\"],[0.1111111111111111,\"#46039f\"],[0.2222222222222222,\"#7201a8\"],[0.3333333333333333,\"#9c179e\"],[0.4444444444444444,\"#bd3786\"],[0.5555555555555556,\"#d8576b\"],[0.6666666666666666,\"#ed7953\"],[0.7777777777777778,\"#fb9f3a\"],[0.8888888888888888,\"#fdca26\"],[1.0,\"#f0f921\"]]}],\"heatmap\":[{\"type\":\"heatmap\",\"colorbar\":{\"outlinewidth\":0,\"ticks\":\"\"},\"colorscale\":[[0.0,\"#0d0887\"],[0.1111111111111111,\"#46039f\"],[0.2222222222222222,\"#7201a8\"],[0.3333333333333333,\"#9c179e\"],[0.4444444444444444,\"#bd3786\"],[0.5555555555555556,\"#d8576b\"],[0.6666666666666666,\"#ed7953\"],[0.7777777777777778,\"#fb9f3a\"],[0.8888888888888888,\"#fdca26\"],[1.0,\"#f0f921\"]]}],\"heatmapgl\":[{\"type\":\"heatmapgl\",\"colorbar\":{\"outlinewidth\":0,\"ticks\":\"\"},\"colorscale\":[[0.0,\"#0d0887\"],[0.1111111111111111,\"#46039f\"],[0.2222222222222222,\"#7201a8\"],[0.3333333333333333,\"#9c179e\"],[0.4444444444444444,\"#bd3786\"],[0.5555555555555556,\"#d8576b\"],[0.6666666666666666,\"#ed7953\"],[0.7777777777777778,\"#fb9f3a\"],[0.8888888888888888,\"#fdca26\"],[1.0,\"#f0f921\"]]}],\"contourcarpet\":[{\"type\":\"contourcarpet\",\"colorbar\":{\"outlinewidth\":0,\"ticks\":\"\"}}],\"contour\":[{\"type\":\"contour\",\"colorbar\":{\"outlinewidth\":0,\"ticks\":\"\"},\"colorscale\":[[0.0,\"#0d0887\"],[0.1111111111111111,\"#46039f\"],[0.2222222222222222,\"#7201a8\"],[0.3333333333333333,\"#9c179e\"],[0.4444444444444444,\"#bd3786\"],[0.5555555555555556,\"#d8576b\"],[0.6666666666666666,\"#ed7953\"],[0.7777777777777778,\"#fb9f3a\"],[0.8888888888888888,\"#fdca26\"],[1.0,\"#f0f921\"]]}],\"surface\":[{\"type\":\"surface\",\"colorbar\":{\"outlinewidth\":0,\"ticks\":\"\"},\"colorscale\":[[0.0,\"#0d0887\"],[0.1111111111111111,\"#46039f\"],[0.2222222222222222,\"#7201a8\"],[0.3333333333333333,\"#9c179e\"],[0.4444444444444444,\"#bd3786\"],[0.5555555555555556,\"#d8576b\"],[0.6666666666666666,\"#ed7953\"],[0.7777777777777778,\"#fb9f3a\"],[0.8888888888888888,\"#fdca26\"],[1.0,\"#f0f921\"]]}],\"mesh3d\":[{\"type\":\"mesh3d\",\"colorbar\":{\"outlinewidth\":0,\"ticks\":\"\"}}],\"scatter\":[{\"fillpattern\":{\"fillmode\":\"overlay\",\"size\":10,\"solidity\":0.2},\"type\":\"scatter\"}],\"parcoords\":[{\"type\":\"parcoords\",\"line\":{\"colorbar\":{\"outlinewidth\":0,\"ticks\":\"\"}}}],\"scatterpolargl\":[{\"type\":\"scatterpolargl\",\"marker\":{\"colorbar\":{\"outlinewidth\":0,\"ticks\":\"\"}}}],\"bar\":[{\"error_x\":{\"color\":\"#2a3f5f\"},\"error_y\":{\"color\":\"#2a3f5f\"},\"marker\":{\"line\":{\"color\":\"#E5ECF6\",\"width\":0.5},\"pattern\":{\"fillmode\":\"overlay\",\"size\":10,\"solidity\":0.2}},\"type\":\"bar\"}],\"scattergeo\":[{\"type\":\"scattergeo\",\"marker\":{\"colorbar\":{\"outlinewidth\":0,\"ticks\":\"\"}}}],\"scatterpolar\":[{\"type\":\"scatterpolar\",\"marker\":{\"colorbar\":{\"outlinewidth\":0,\"ticks\":\"\"}}}],\"histogram\":[{\"marker\":{\"pattern\":{\"fillmode\":\"overlay\",\"size\":10,\"solidity\":0.2}},\"type\":\"histogram\"}],\"scattergl\":[{\"type\":\"scattergl\",\"marker\":{\"colorbar\":{\"outlinewidth\":0,\"ticks\":\"\"}}}],\"scatter3d\":[{\"type\":\"scatter3d\",\"line\":{\"colorbar\":{\"outlinewidth\":0,\"ticks\":\"\"}},\"marker\":{\"colorbar\":{\"outlinewidth\":0,\"ticks\":\"\"}}}],\"scattermapbox\":[{\"type\":\"scattermapbox\",\"marker\":{\"colorbar\":{\"outlinewidth\":0,\"ticks\":\"\"}}}],\"scatterternary\":[{\"type\":\"scatterternary\",\"marker\":{\"colorbar\":{\"outlinewidth\":0,\"ticks\":\"\"}}}],\"scattercarpet\":[{\"type\":\"scattercarpet\",\"marker\":{\"colorbar\":{\"outlinewidth\":0,\"ticks\":\"\"}}}],\"carpet\":[{\"aaxis\":{\"endlinecolor\":\"#2a3f5f\",\"gridcolor\":\"white\",\"linecolor\":\"white\",\"minorgridcolor\":\"white\",\"startlinecolor\":\"#2a3f5f\"},\"baxis\":{\"endlinecolor\":\"#2a3f5f\",\"gridcolor\":\"white\",\"linecolor\":\"white\",\"minorgridcolor\":\"white\",\"startlinecolor\":\"#2a3f5f\"},\"type\":\"carpet\"}],\"table\":[{\"cells\":{\"fill\":{\"color\":\"#EBF0F8\"},\"line\":{\"color\":\"white\"}},\"header\":{\"fill\":{\"color\":\"#C8D4E3\"},\"line\":{\"color\":\"white\"}},\"type\":\"table\"}],\"barpolar\":[{\"marker\":{\"line\":{\"color\":\"#E5ECF6\",\"width\":0.5},\"pattern\":{\"fillmode\":\"overlay\",\"size\":10,\"solidity\":0.2}},\"type\":\"barpolar\"}],\"pie\":[{\"automargin\":true,\"type\":\"pie\"}]},\"layout\":{\"autotypenumbers\":\"strict\",\"colorway\":[\"#636efa\",\"#EF553B\",\"#00cc96\",\"#ab63fa\",\"#FFA15A\",\"#19d3f3\",\"#FF6692\",\"#B6E880\",\"#FF97FF\",\"#FECB52\"],\"font\":{\"color\":\"#2a3f5f\"},\"hovermode\":\"closest\",\"hoverlabel\":{\"align\":\"left\"},\"paper_bgcolor\":\"white\",\"plot_bgcolor\":\"#E5ECF6\",\"polar\":{\"bgcolor\":\"#E5ECF6\",\"angularaxis\":{\"gridcolor\":\"white\",\"linecolor\":\"white\",\"ticks\":\"\"},\"radialaxis\":{\"gridcolor\":\"white\",\"linecolor\":\"white\",\"ticks\":\"\"}},\"ternary\":{\"bgcolor\":\"#E5ECF6\",\"aaxis\":{\"gridcolor\":\"white\",\"linecolor\":\"white\",\"ticks\":\"\"},\"baxis\":{\"gridcolor\":\"white\",\"linecolor\":\"white\",\"ticks\":\"\"},\"caxis\":{\"gridcolor\":\"white\",\"linecolor\":\"white\",\"ticks\":\"\"}},\"coloraxis\":{\"colorbar\":{\"outlinewidth\":0,\"ticks\":\"\"}},\"colorscale\":{\"sequential\":[[0.0,\"#0d0887\"],[0.1111111111111111,\"#46039f\"],[0.2222222222222222,\"#7201a8\"],[0.3333333333333333,\"#9c179e\"],[0.4444444444444444,\"#bd3786\"],[0.5555555555555556,\"#d8576b\"],[0.6666666666666666,\"#ed7953\"],[0.7777777777777778,\"#fb9f3a\"],[0.8888888888888888,\"#fdca26\"],[1.0,\"#f0f921\"]],\"sequentialminus\":[[0.0,\"#0d0887\"],[0.1111111111111111,\"#46039f\"],[0.2222222222222222,\"#7201a8\"],[0.3333333333333333,\"#9c179e\"],[0.4444444444444444,\"#bd3786\"],[0.5555555555555556,\"#d8576b\"],[0.6666666666666666,\"#ed7953\"],[0.7777777777777778,\"#fb9f3a\"],[0.8888888888888888,\"#fdca26\"],[1.0,\"#f0f921\"]],\"diverging\":[[0,\"#8e0152\"],[0.1,\"#c51b7d\"],[0.2,\"#de77ae\"],[0.3,\"#f1b6da\"],[0.4,\"#fde0ef\"],[0.5,\"#f7f7f7\"],[0.6,\"#e6f5d0\"],[0.7,\"#b8e186\"],[0.8,\"#7fbc41\"],[0.9,\"#4d9221\"],[1,\"#276419\"]]},\"xaxis\":{\"gridcolor\":\"white\",\"linecolor\":\"white\",\"ticks\":\"\",\"title\":{\"standoff\":15},\"zerolinecolor\":\"white\",\"automargin\":true,\"zerolinewidth\":2},\"yaxis\":{\"gridcolor\":\"white\",\"linecolor\":\"white\",\"ticks\":\"\",\"title\":{\"standoff\":15},\"zerolinecolor\":\"white\",\"automargin\":true,\"zerolinewidth\":2},\"scene\":{\"xaxis\":{\"backgroundcolor\":\"#E5ECF6\",\"gridcolor\":\"white\",\"linecolor\":\"white\",\"showbackground\":true,\"ticks\":\"\",\"zerolinecolor\":\"white\",\"gridwidth\":2},\"yaxis\":{\"backgroundcolor\":\"#E5ECF6\",\"gridcolor\":\"white\",\"linecolor\":\"white\",\"showbackground\":true,\"ticks\":\"\",\"zerolinecolor\":\"white\",\"gridwidth\":2},\"zaxis\":{\"backgroundcolor\":\"#E5ECF6\",\"gridcolor\":\"white\",\"linecolor\":\"white\",\"showbackground\":true,\"ticks\":\"\",\"zerolinecolor\":\"white\",\"gridwidth\":2}},\"shapedefaults\":{\"line\":{\"color\":\"#2a3f5f\"}},\"annotationdefaults\":{\"arrowcolor\":\"#2a3f5f\",\"arrowhead\":0,\"arrowwidth\":1},\"geo\":{\"bgcolor\":\"white\",\"landcolor\":\"#E5ECF6\",\"subunitcolor\":\"white\",\"showland\":true,\"showlakes\":true,\"lakecolor\":\"white\"},\"title\":{\"x\":0.05},\"mapbox\":{\"style\":\"light\"}}},\"xaxis\":{\"anchor\":\"y\",\"domain\":[0.0,0.31999999999999995]},\"yaxis\":{\"anchor\":\"x\",\"domain\":[0.0,1.0],\"title\":{\"text\":\"value\"}},\"xaxis2\":{\"anchor\":\"y2\",\"domain\":[0.33999999999999997,0.6599999999999999],\"matches\":\"x\"},\"yaxis2\":{\"anchor\":\"x2\",\"domain\":[0.0,1.0],\"matches\":\"y\",\"showticklabels\":false},\"xaxis3\":{\"anchor\":\"y3\",\"domain\":[0.6799999999999999,0.9999999999999999],\"matches\":\"x\"},\"yaxis3\":{\"anchor\":\"x3\",\"domain\":[0.0,1.0],\"matches\":\"y\",\"showticklabels\":false},\"annotations\":[{\"font\":{},\"showarrow\":false,\"text\":\"metric=val_MSE\",\"x\":0.15999999999999998,\"xanchor\":\"center\",\"xref\":\"paper\",\"y\":1.0,\"yanchor\":\"bottom\",\"yref\":\"paper\"},{\"font\":{},\"showarrow\":false,\"text\":\"metric=val_MAPE\",\"x\":0.49999999999999994,\"xanchor\":\"center\",\"xref\":\"paper\",\"y\":1.0,\"yanchor\":\"bottom\",\"yref\":\"paper\"},{\"font\":{},\"showarrow\":false,\"text\":\"metric=val_MAE\",\"x\":0.8399999999999999,\"xanchor\":\"center\",\"xref\":\"paper\",\"y\":1.0,\"yanchor\":\"bottom\",\"yref\":\"paper\"}],\"legend\":{\"title\":{\"text\":\"model_name\"},\"tracegroupgap\":0},\"title\":{\"text\":\"Validation metrics comparison\"},\"boxmode\":\"group\"},                        {\"responsive\": true}                    ).then(function(){\n                            \nvar gd = document.getElementById('fb9c2dd5-bd85-498f-a175-cce3c4279f62');\nvar x = new MutationObserver(function (mutations, observer) {{\n        var display = window.getComputedStyle(gd).display;\n        if (!display || display === 'none') {{\n            console.log([gd, 'removed!']);\n            Plotly.purge(gd);\n            observer.disconnect();\n        }}\n}});\n\n// Listen for the removal of the full notebook cells\nvar notebookContainer = gd.closest('#notebook-container');\nif (notebookContainer) {{\n    x.observe(notebookContainer, {childList: true});\n}}\n\n// Listen for the clearing of the current output cell\nvar outputEl = gd.closest('.output');\nif (outputEl) {{\n    x.observe(outputEl, {childList: true});\n}}\n\n                        })                };                });            </script>        </div>"
     },
     "metadata": {},
     "output_type": "display_data"
    }
   ],
   "source": [
    "fig = px.box(\n",
    "    all_metrics.loc[all_metrics.metric.isin(metrics_to_show)],\n",
    "    color='model_name',\n",
    "    y='value',\n",
    "    facet_col='metric',\n",
    "    title='Validation metrics comparison')\n",
    "fig.write_html(\"val_metrics.html\")\n",
    "fig.show()"
   ]
  },
  {
   "cell_type": "markdown",
   "metadata": {},
   "source": [
    "Visual inspection of the plots indicate three metric values are the smallest for the GNN recommender model. Of three approaches considered in the study, the classic collaborative filtering model scored the worst results every time."
   ]
  },
  {
   "cell_type": "markdown",
   "metadata": {},
   "source": [
    "## Statistical comparisons of metrics\n",
    "\n",
    "Considering the fact that for repeated k-fold cross-validation samples are not independent (instead: selected on purpose to be in training or test subset without duplication) and measures are repeated k-times for multiple classifiers, Kruskal test was selected as a non-parametric rank-based alternative to classic ANOVA.\n",
    "\n",
    "For each metric, the following two tests are performed:\n",
    "\n",
    "1. The test for **overall** differences:\n",
    "    1. **H0** - mean ranks of the groups are the same.\n",
    "    2. **HA** - mean ranks of the groups are not the same\n",
    "2. Post-hoc test for pairwise differences."
   ]
  },
  {
   "cell_type": "code",
   "execution_count": 13,
   "metadata": {
    "collapsed": false,
    "jupyter": {
     "outputs_hidden": false
    },
    "ExecuteTime": {
     "end_time": "2023-05-29T18:40:54.902980900Z",
     "start_time": "2023-05-29T18:40:54.800300700Z"
    }
   },
   "outputs": [],
   "source": [
    "comparison_metrics = {metric: perform_statistical_comparison(all_metrics, metric) for metric in metrics_to_show}"
   ]
  },
  {
   "cell_type": "code",
   "execution_count": 14,
   "metadata": {
    "collapsed": false,
    "jupyter": {
     "outputs_hidden": false
    },
    "ExecuteTime": {
     "end_time": "2023-05-29T18:40:55.418903100Z",
     "start_time": "2023-05-29T18:40:55.185344100Z"
    }
   },
   "outputs": [
    {
     "data": {
      "text/plain": "<IPython.core.display.Markdown object>",
      "text/markdown": "### val_MAPE analysis"
     },
     "metadata": {},
     "output_type": "display_data"
    },
    {
     "data": {
      "text/plain": "<IPython.core.display.Markdown object>",
      "text/markdown": "#### Overall test"
     },
     "metadata": {},
     "output_type": "display_data"
    },
    {
     "data": {
      "text/plain": "             Source  ddof1          H         p-unc\nKruskal  model_name      3  34.243902  1.759670e-07",
      "text/html": "<div>\n<style scoped>\n    .dataframe tbody tr th:only-of-type {\n        vertical-align: middle;\n    }\n\n    .dataframe tbody tr th {\n        vertical-align: top;\n    }\n\n    .dataframe thead th {\n        text-align: right;\n    }\n</style>\n<table border=\"1\" class=\"dataframe\">\n  <thead>\n    <tr style=\"text-align: right;\">\n      <th></th>\n      <th>Source</th>\n      <th>ddof1</th>\n      <th>H</th>\n      <th>p-unc</th>\n    </tr>\n  </thead>\n  <tbody>\n    <tr>\n      <th>Kruskal</th>\n      <td>model_name</td>\n      <td>3</td>\n      <td>34.243902</td>\n      <td>1.759670e-07</td>\n    </tr>\n  </tbody>\n</table>\n</div>"
     },
     "metadata": {},
     "output_type": "display_data"
    },
    {
     "data": {
      "text/plain": "<IPython.core.display.Markdown object>",
      "text/markdown": "#### Pairwise tests"
     },
     "metadata": {},
     "output_type": "display_data"
    },
    {
     "data": {
      "text/plain": "     Contrast                     A                     B  Paired  Parametric  \\\n0  model_name       colab filtering  deep colab filtering   False       False   \n1  model_name       colab filtering       gnn recommender   False       False   \n2  model_name       colab filtering    hybrid recommender   False       False   \n3  model_name  deep colab filtering       gnn recommender   False       False   \n4  model_name  deep colab filtering    hybrid recommender   False       False   \n5  model_name       gnn recommender    hybrid recommender   False       False   \n\n   U-val alternative     p-unc    p-corr    p-adjust     hedges  \n0  100.0   two-sided  0.000183  0.001096  bonferroni  25.091008  \n1  100.0   two-sided  0.000183  0.001096  bonferroni  35.621909  \n2  100.0   two-sided  0.000183  0.001096  bonferroni  29.253058  \n3  100.0   two-sided  0.000183  0.001096  bonferroni   5.660781  \n4  100.0   two-sided  0.000183  0.001096  bonferroni   3.858011  \n5   20.0   two-sided  0.025748  0.154488  bonferroni  -1.043938  ",
      "text/html": "<div>\n<style scoped>\n    .dataframe tbody tr th:only-of-type {\n        vertical-align: middle;\n    }\n\n    .dataframe tbody tr th {\n        vertical-align: top;\n    }\n\n    .dataframe thead th {\n        text-align: right;\n    }\n</style>\n<table border=\"1\" class=\"dataframe\">\n  <thead>\n    <tr style=\"text-align: right;\">\n      <th></th>\n      <th>Contrast</th>\n      <th>A</th>\n      <th>B</th>\n      <th>Paired</th>\n      <th>Parametric</th>\n      <th>U-val</th>\n      <th>alternative</th>\n      <th>p-unc</th>\n      <th>p-corr</th>\n      <th>p-adjust</th>\n      <th>hedges</th>\n    </tr>\n  </thead>\n  <tbody>\n    <tr>\n      <th>0</th>\n      <td>model_name</td>\n      <td>colab filtering</td>\n      <td>deep colab filtering</td>\n      <td>False</td>\n      <td>False</td>\n      <td>100.0</td>\n      <td>two-sided</td>\n      <td>0.000183</td>\n      <td>0.001096</td>\n      <td>bonferroni</td>\n      <td>25.091008</td>\n    </tr>\n    <tr>\n      <th>1</th>\n      <td>model_name</td>\n      <td>colab filtering</td>\n      <td>gnn recommender</td>\n      <td>False</td>\n      <td>False</td>\n      <td>100.0</td>\n      <td>two-sided</td>\n      <td>0.000183</td>\n      <td>0.001096</td>\n      <td>bonferroni</td>\n      <td>35.621909</td>\n    </tr>\n    <tr>\n      <th>2</th>\n      <td>model_name</td>\n      <td>colab filtering</td>\n      <td>hybrid recommender</td>\n      <td>False</td>\n      <td>False</td>\n      <td>100.0</td>\n      <td>two-sided</td>\n      <td>0.000183</td>\n      <td>0.001096</td>\n      <td>bonferroni</td>\n      <td>29.253058</td>\n    </tr>\n    <tr>\n      <th>3</th>\n      <td>model_name</td>\n      <td>deep colab filtering</td>\n      <td>gnn recommender</td>\n      <td>False</td>\n      <td>False</td>\n      <td>100.0</td>\n      <td>two-sided</td>\n      <td>0.000183</td>\n      <td>0.001096</td>\n      <td>bonferroni</td>\n      <td>5.660781</td>\n    </tr>\n    <tr>\n      <th>4</th>\n      <td>model_name</td>\n      <td>deep colab filtering</td>\n      <td>hybrid recommender</td>\n      <td>False</td>\n      <td>False</td>\n      <td>100.0</td>\n      <td>two-sided</td>\n      <td>0.000183</td>\n      <td>0.001096</td>\n      <td>bonferroni</td>\n      <td>3.858011</td>\n    </tr>\n    <tr>\n      <th>5</th>\n      <td>model_name</td>\n      <td>gnn recommender</td>\n      <td>hybrid recommender</td>\n      <td>False</td>\n      <td>False</td>\n      <td>20.0</td>\n      <td>two-sided</td>\n      <td>0.025748</td>\n      <td>0.154488</td>\n      <td>bonferroni</td>\n      <td>-1.043938</td>\n    </tr>\n  </tbody>\n</table>\n</div>"
     },
     "metadata": {},
     "output_type": "display_data"
    },
    {
     "data": {
      "text/plain": "<IPython.core.display.Markdown object>",
      "text/markdown": "### val_MAE analysis"
     },
     "metadata": {},
     "output_type": "display_data"
    },
    {
     "data": {
      "text/plain": "<IPython.core.display.Markdown object>",
      "text/markdown": "#### Overall test"
     },
     "metadata": {},
     "output_type": "display_data"
    },
    {
     "data": {
      "text/plain": "             Source  ddof1          H         p-unc\nKruskal  model_name      3  34.074146  1.911051e-07",
      "text/html": "<div>\n<style scoped>\n    .dataframe tbody tr th:only-of-type {\n        vertical-align: middle;\n    }\n\n    .dataframe tbody tr th {\n        vertical-align: top;\n    }\n\n    .dataframe thead th {\n        text-align: right;\n    }\n</style>\n<table border=\"1\" class=\"dataframe\">\n  <thead>\n    <tr style=\"text-align: right;\">\n      <th></th>\n      <th>Source</th>\n      <th>ddof1</th>\n      <th>H</th>\n      <th>p-unc</th>\n    </tr>\n  </thead>\n  <tbody>\n    <tr>\n      <th>Kruskal</th>\n      <td>model_name</td>\n      <td>3</td>\n      <td>34.074146</td>\n      <td>1.911051e-07</td>\n    </tr>\n  </tbody>\n</table>\n</div>"
     },
     "metadata": {},
     "output_type": "display_data"
    },
    {
     "data": {
      "text/plain": "<IPython.core.display.Markdown object>",
      "text/markdown": "#### Pairwise tests"
     },
     "metadata": {},
     "output_type": "display_data"
    },
    {
     "data": {
      "text/plain": "     Contrast                     A                     B  Paired  Parametric  \\\n0  model_name       colab filtering  deep colab filtering   False       False   \n1  model_name       colab filtering       gnn recommender   False       False   \n2  model_name       colab filtering    hybrid recommender   False       False   \n3  model_name  deep colab filtering       gnn recommender   False       False   \n4  model_name  deep colab filtering    hybrid recommender   False       False   \n5  model_name       gnn recommender    hybrid recommender   False       False   \n\n   U-val alternative     p-unc    p-corr    p-adjust      hedges  \n0  100.0   two-sided  0.000183  0.001096  bonferroni  103.837181  \n1  100.0   two-sided  0.000183  0.001096  bonferroni  112.831482  \n2  100.0   two-sided  0.000183  0.001096  bonferroni   98.647342  \n3  100.0   two-sided  0.000183  0.001096  bonferroni   13.675072  \n4  100.0   two-sided  0.000183  0.001096  bonferroni   10.255474  \n5   22.0   two-sided  0.037635  0.225812  bonferroni   -0.982145  ",
      "text/html": "<div>\n<style scoped>\n    .dataframe tbody tr th:only-of-type {\n        vertical-align: middle;\n    }\n\n    .dataframe tbody tr th {\n        vertical-align: top;\n    }\n\n    .dataframe thead th {\n        text-align: right;\n    }\n</style>\n<table border=\"1\" class=\"dataframe\">\n  <thead>\n    <tr style=\"text-align: right;\">\n      <th></th>\n      <th>Contrast</th>\n      <th>A</th>\n      <th>B</th>\n      <th>Paired</th>\n      <th>Parametric</th>\n      <th>U-val</th>\n      <th>alternative</th>\n      <th>p-unc</th>\n      <th>p-corr</th>\n      <th>p-adjust</th>\n      <th>hedges</th>\n    </tr>\n  </thead>\n  <tbody>\n    <tr>\n      <th>0</th>\n      <td>model_name</td>\n      <td>colab filtering</td>\n      <td>deep colab filtering</td>\n      <td>False</td>\n      <td>False</td>\n      <td>100.0</td>\n      <td>two-sided</td>\n      <td>0.000183</td>\n      <td>0.001096</td>\n      <td>bonferroni</td>\n      <td>103.837181</td>\n    </tr>\n    <tr>\n      <th>1</th>\n      <td>model_name</td>\n      <td>colab filtering</td>\n      <td>gnn recommender</td>\n      <td>False</td>\n      <td>False</td>\n      <td>100.0</td>\n      <td>two-sided</td>\n      <td>0.000183</td>\n      <td>0.001096</td>\n      <td>bonferroni</td>\n      <td>112.831482</td>\n    </tr>\n    <tr>\n      <th>2</th>\n      <td>model_name</td>\n      <td>colab filtering</td>\n      <td>hybrid recommender</td>\n      <td>False</td>\n      <td>False</td>\n      <td>100.0</td>\n      <td>two-sided</td>\n      <td>0.000183</td>\n      <td>0.001096</td>\n      <td>bonferroni</td>\n      <td>98.647342</td>\n    </tr>\n    <tr>\n      <th>3</th>\n      <td>model_name</td>\n      <td>deep colab filtering</td>\n      <td>gnn recommender</td>\n      <td>False</td>\n      <td>False</td>\n      <td>100.0</td>\n      <td>two-sided</td>\n      <td>0.000183</td>\n      <td>0.001096</td>\n      <td>bonferroni</td>\n      <td>13.675072</td>\n    </tr>\n    <tr>\n      <th>4</th>\n      <td>model_name</td>\n      <td>deep colab filtering</td>\n      <td>hybrid recommender</td>\n      <td>False</td>\n      <td>False</td>\n      <td>100.0</td>\n      <td>two-sided</td>\n      <td>0.000183</td>\n      <td>0.001096</td>\n      <td>bonferroni</td>\n      <td>10.255474</td>\n    </tr>\n    <tr>\n      <th>5</th>\n      <td>model_name</td>\n      <td>gnn recommender</td>\n      <td>hybrid recommender</td>\n      <td>False</td>\n      <td>False</td>\n      <td>22.0</td>\n      <td>two-sided</td>\n      <td>0.037635</td>\n      <td>0.225812</td>\n      <td>bonferroni</td>\n      <td>-0.982145</td>\n    </tr>\n  </tbody>\n</table>\n</div>"
     },
     "metadata": {},
     "output_type": "display_data"
    },
    {
     "data": {
      "text/plain": "<IPython.core.display.Markdown object>",
      "text/markdown": "### val_MSE analysis"
     },
     "metadata": {},
     "output_type": "display_data"
    },
    {
     "data": {
      "text/plain": "<IPython.core.display.Markdown object>",
      "text/markdown": "#### Overall test"
     },
     "metadata": {},
     "output_type": "display_data"
    },
    {
     "data": {
      "text/plain": "             Source  ddof1          H         p-unc\nKruskal  model_name      3  34.069756  1.915134e-07",
      "text/html": "<div>\n<style scoped>\n    .dataframe tbody tr th:only-of-type {\n        vertical-align: middle;\n    }\n\n    .dataframe tbody tr th {\n        vertical-align: top;\n    }\n\n    .dataframe thead th {\n        text-align: right;\n    }\n</style>\n<table border=\"1\" class=\"dataframe\">\n  <thead>\n    <tr style=\"text-align: right;\">\n      <th></th>\n      <th>Source</th>\n      <th>ddof1</th>\n      <th>H</th>\n      <th>p-unc</th>\n    </tr>\n  </thead>\n  <tbody>\n    <tr>\n      <th>Kruskal</th>\n      <td>model_name</td>\n      <td>3</td>\n      <td>34.069756</td>\n      <td>1.915134e-07</td>\n    </tr>\n  </tbody>\n</table>\n</div>"
     },
     "metadata": {},
     "output_type": "display_data"
    },
    {
     "data": {
      "text/plain": "<IPython.core.display.Markdown object>",
      "text/markdown": "#### Pairwise tests"
     },
     "metadata": {},
     "output_type": "display_data"
    },
    {
     "data": {
      "text/plain": "     Contrast                     A                     B  Paired  Parametric  \\\n0  model_name       colab filtering  deep colab filtering   False       False   \n1  model_name       colab filtering       gnn recommender   False       False   \n2  model_name       colab filtering    hybrid recommender   False       False   \n3  model_name  deep colab filtering       gnn recommender   False       False   \n4  model_name  deep colab filtering    hybrid recommender   False       False   \n5  model_name       gnn recommender    hybrid recommender   False       False   \n\n   U-val alternative     p-unc    p-corr    p-adjust     hedges  \n0  100.0   two-sided  0.000183  0.001096  bonferroni  51.812591  \n1  100.0   two-sided  0.000183  0.001096  bonferroni  53.683473  \n2  100.0   two-sided  0.000183  0.001096  bonferroni  52.878386  \n3  100.0   two-sided  0.000183  0.001096  bonferroni   4.832032  \n4   99.0   two-sided  0.000246  0.001477  bonferroni   3.316019  \n5   20.0   two-sided  0.025748  0.154488  bonferroni  -1.033609  ",
      "text/html": "<div>\n<style scoped>\n    .dataframe tbody tr th:only-of-type {\n        vertical-align: middle;\n    }\n\n    .dataframe tbody tr th {\n        vertical-align: top;\n    }\n\n    .dataframe thead th {\n        text-align: right;\n    }\n</style>\n<table border=\"1\" class=\"dataframe\">\n  <thead>\n    <tr style=\"text-align: right;\">\n      <th></th>\n      <th>Contrast</th>\n      <th>A</th>\n      <th>B</th>\n      <th>Paired</th>\n      <th>Parametric</th>\n      <th>U-val</th>\n      <th>alternative</th>\n      <th>p-unc</th>\n      <th>p-corr</th>\n      <th>p-adjust</th>\n      <th>hedges</th>\n    </tr>\n  </thead>\n  <tbody>\n    <tr>\n      <th>0</th>\n      <td>model_name</td>\n      <td>colab filtering</td>\n      <td>deep colab filtering</td>\n      <td>False</td>\n      <td>False</td>\n      <td>100.0</td>\n      <td>two-sided</td>\n      <td>0.000183</td>\n      <td>0.001096</td>\n      <td>bonferroni</td>\n      <td>51.812591</td>\n    </tr>\n    <tr>\n      <th>1</th>\n      <td>model_name</td>\n      <td>colab filtering</td>\n      <td>gnn recommender</td>\n      <td>False</td>\n      <td>False</td>\n      <td>100.0</td>\n      <td>two-sided</td>\n      <td>0.000183</td>\n      <td>0.001096</td>\n      <td>bonferroni</td>\n      <td>53.683473</td>\n    </tr>\n    <tr>\n      <th>2</th>\n      <td>model_name</td>\n      <td>colab filtering</td>\n      <td>hybrid recommender</td>\n      <td>False</td>\n      <td>False</td>\n      <td>100.0</td>\n      <td>two-sided</td>\n      <td>0.000183</td>\n      <td>0.001096</td>\n      <td>bonferroni</td>\n      <td>52.878386</td>\n    </tr>\n    <tr>\n      <th>3</th>\n      <td>model_name</td>\n      <td>deep colab filtering</td>\n      <td>gnn recommender</td>\n      <td>False</td>\n      <td>False</td>\n      <td>100.0</td>\n      <td>two-sided</td>\n      <td>0.000183</td>\n      <td>0.001096</td>\n      <td>bonferroni</td>\n      <td>4.832032</td>\n    </tr>\n    <tr>\n      <th>4</th>\n      <td>model_name</td>\n      <td>deep colab filtering</td>\n      <td>hybrid recommender</td>\n      <td>False</td>\n      <td>False</td>\n      <td>99.0</td>\n      <td>two-sided</td>\n      <td>0.000246</td>\n      <td>0.001477</td>\n      <td>bonferroni</td>\n      <td>3.316019</td>\n    </tr>\n    <tr>\n      <th>5</th>\n      <td>model_name</td>\n      <td>gnn recommender</td>\n      <td>hybrid recommender</td>\n      <td>False</td>\n      <td>False</td>\n      <td>20.0</td>\n      <td>two-sided</td>\n      <td>0.025748</td>\n      <td>0.154488</td>\n      <td>bonferroni</td>\n      <td>-1.033609</td>\n    </tr>\n  </tbody>\n</table>\n</div>"
     },
     "metadata": {},
     "output_type": "display_data"
    }
   ],
   "source": [
    "for metric, (overall_result, pairwise_result) in comparison_metrics.items():\n",
    "    dd.display(dd.Markdown(f\"### {metric} analysis\"))\n",
    "    dd.display(dd.Markdown(f\"#### Overall test\"))\n",
    "    dd.display(overall_result)\n",
    "    dd.display(dd.Markdown(f\"#### Pairwise tests\"))\n",
    "    display(pairwise_result)"
   ]
  },
  {
   "cell_type": "markdown",
   "metadata": {},
   "source": [
    "Analysis of the presented results indicates the following:\n",
    "1. There is a significant difference in the performance of more advanced models (hybrid recommender and GNN recommender), compared to collaborative filtering and deep collaborative filtering.\n",
    "2. There is no significant difference between the deep hybrid model and the GNN model."
   ]
  },
  {
   "cell_type": "markdown",
   "metadata": {},
   "source": [
    "# Test metrics analysis"
   ]
  },
  {
   "cell_type": "code",
   "execution_count": 18,
   "metadata": {
    "ExecuteTime": {
     "end_time": "2023-05-29T18:42:51.214235100Z",
     "start_time": "2023-05-29T18:42:51.067893500Z"
    }
   },
   "outputs": [
    {
     "data": {
      "text/plain": "\u001B[2;36m[05/29/23 20:42:51]\u001B[0m\u001B[2;36m \u001B[0m\u001B[34mINFO    \u001B[0m Loading data from                                                  \u001B]8;id=101424;file:///home/fwojcik/anaconda3/envs/py39clean/lib/python3.9/site-packages/kedro/io/data_catalog.py\u001B\\\u001B[2mdata_catalog.py\u001B[0m\u001B]8;;\u001B\\\u001B[2m:\u001B[0m\u001B]8;id=461189;file:///home/fwojcik/anaconda3/envs/py39clean/lib/python3.9/site-packages/kedro/io/data_catalog.py#343\u001B\\\u001B[2m343\u001B[0m\u001B]8;;\u001B\\\n\u001B[2;36m                    \u001B[0m         \u001B[32m'experiment.collaborative_filtering_test_metrics'\u001B[0m                  \u001B[2m                   \u001B[0m\n\u001B[2;36m                    \u001B[0m         \u001B[1m(\u001B[0mMetricsDataSet\u001B[1m)\u001B[0m\u001B[33m...\u001B[0m                                                \u001B[2m                   \u001B[0m\n",
      "text/html": "<pre style=\"white-space:pre;overflow-x:auto;line-height:normal;font-family:Menlo,'DejaVu Sans Mono',consolas,'Courier New',monospace\"><span style=\"color: #7fbfbf; text-decoration-color: #7fbfbf\">[05/29/23 20:42:51] </span><span style=\"color: #000080; text-decoration-color: #000080\">INFO    </span> Loading data from                                                  <a href=\"file:///home/fwojcik/anaconda3/envs/py39clean/lib/python3.9/site-packages/kedro/io/data_catalog.py\" target=\"_blank\"><span style=\"color: #7f7f7f; text-decoration-color: #7f7f7f\">data_catalog.py</span></a><span style=\"color: #7f7f7f; text-decoration-color: #7f7f7f\">:</span><a href=\"file:///home/fwojcik/anaconda3/envs/py39clean/lib/python3.9/site-packages/kedro/io/data_catalog.py#343\" target=\"_blank\"><span style=\"color: #7f7f7f; text-decoration-color: #7f7f7f\">343</span></a>\n<span style=\"color: #7fbfbf; text-decoration-color: #7fbfbf\">                    </span>         <span style=\"color: #008000; text-decoration-color: #008000\">'experiment.collaborative_filtering_test_metrics'</span>                  <span style=\"color: #7f7f7f; text-decoration-color: #7f7f7f\">                   </span>\n<span style=\"color: #7fbfbf; text-decoration-color: #7fbfbf\">                    </span>         <span style=\"font-weight: bold\">(</span>MetricsDataSet<span style=\"font-weight: bold\">)</span><span style=\"color: #808000; text-decoration-color: #808000\">...</span>                                                <span style=\"color: #7f7f7f; text-decoration-color: #7f7f7f\">                   </span>\n</pre>\n"
     },
     "metadata": {},
     "output_type": "display_data"
    },
    {
     "data": {
      "text/plain": "\u001B[2;36m                   \u001B[0m\u001B[2;36m \u001B[0m\u001B[34mINFO    \u001B[0m Loading data from                                                  \u001B]8;id=680840;file:///home/fwojcik/anaconda3/envs/py39clean/lib/python3.9/site-packages/kedro/io/data_catalog.py\u001B\\\u001B[2mdata_catalog.py\u001B[0m\u001B]8;;\u001B\\\u001B[2m:\u001B[0m\u001B]8;id=821267;file:///home/fwojcik/anaconda3/envs/py39clean/lib/python3.9/site-packages/kedro/io/data_catalog.py#343\u001B\\\u001B[2m343\u001B[0m\u001B]8;;\u001B\\\n\u001B[2;36m                    \u001B[0m         \u001B[32m'experiment.deep_collaborative_filtering_test_metrics'\u001B[0m             \u001B[2m                   \u001B[0m\n\u001B[2;36m                    \u001B[0m         \u001B[1m(\u001B[0mMetricsDataSet\u001B[1m)\u001B[0m\u001B[33m...\u001B[0m                                                \u001B[2m                   \u001B[0m\n",
      "text/html": "<pre style=\"white-space:pre;overflow-x:auto;line-height:normal;font-family:Menlo,'DejaVu Sans Mono',consolas,'Courier New',monospace\"><span style=\"color: #7fbfbf; text-decoration-color: #7fbfbf\">                    </span><span style=\"color: #000080; text-decoration-color: #000080\">INFO    </span> Loading data from                                                  <a href=\"file:///home/fwojcik/anaconda3/envs/py39clean/lib/python3.9/site-packages/kedro/io/data_catalog.py\" target=\"_blank\"><span style=\"color: #7f7f7f; text-decoration-color: #7f7f7f\">data_catalog.py</span></a><span style=\"color: #7f7f7f; text-decoration-color: #7f7f7f\">:</span><a href=\"file:///home/fwojcik/anaconda3/envs/py39clean/lib/python3.9/site-packages/kedro/io/data_catalog.py#343\" target=\"_blank\"><span style=\"color: #7f7f7f; text-decoration-color: #7f7f7f\">343</span></a>\n<span style=\"color: #7fbfbf; text-decoration-color: #7fbfbf\">                    </span>         <span style=\"color: #008000; text-decoration-color: #008000\">'experiment.deep_collaborative_filtering_test_metrics'</span>             <span style=\"color: #7f7f7f; text-decoration-color: #7f7f7f\">                   </span>\n<span style=\"color: #7fbfbf; text-decoration-color: #7fbfbf\">                    </span>         <span style=\"font-weight: bold\">(</span>MetricsDataSet<span style=\"font-weight: bold\">)</span><span style=\"color: #808000; text-decoration-color: #808000\">...</span>                                                <span style=\"color: #7f7f7f; text-decoration-color: #7f7f7f\">                   </span>\n</pre>\n"
     },
     "metadata": {},
     "output_type": "display_data"
    },
    {
     "data": {
      "text/plain": "\u001B[2;36m                   \u001B[0m\u001B[2;36m \u001B[0m\u001B[34mINFO    \u001B[0m Loading data from \u001B[32m'experiment.deep_hybrid_rec_test_metrics'\u001B[0m        \u001B]8;id=492923;file:///home/fwojcik/anaconda3/envs/py39clean/lib/python3.9/site-packages/kedro/io/data_catalog.py\u001B\\\u001B[2mdata_catalog.py\u001B[0m\u001B]8;;\u001B\\\u001B[2m:\u001B[0m\u001B]8;id=123089;file:///home/fwojcik/anaconda3/envs/py39clean/lib/python3.9/site-packages/kedro/io/data_catalog.py#343\u001B\\\u001B[2m343\u001B[0m\u001B]8;;\u001B\\\n\u001B[2;36m                    \u001B[0m         \u001B[1m(\u001B[0mMetricsDataSet\u001B[1m)\u001B[0m\u001B[33m...\u001B[0m                                                \u001B[2m                   \u001B[0m\n",
      "text/html": "<pre style=\"white-space:pre;overflow-x:auto;line-height:normal;font-family:Menlo,'DejaVu Sans Mono',consolas,'Courier New',monospace\"><span style=\"color: #7fbfbf; text-decoration-color: #7fbfbf\">                    </span><span style=\"color: #000080; text-decoration-color: #000080\">INFO    </span> Loading data from <span style=\"color: #008000; text-decoration-color: #008000\">'experiment.deep_hybrid_rec_test_metrics'</span>        <a href=\"file:///home/fwojcik/anaconda3/envs/py39clean/lib/python3.9/site-packages/kedro/io/data_catalog.py\" target=\"_blank\"><span style=\"color: #7f7f7f; text-decoration-color: #7f7f7f\">data_catalog.py</span></a><span style=\"color: #7f7f7f; text-decoration-color: #7f7f7f\">:</span><a href=\"file:///home/fwojcik/anaconda3/envs/py39clean/lib/python3.9/site-packages/kedro/io/data_catalog.py#343\" target=\"_blank\"><span style=\"color: #7f7f7f; text-decoration-color: #7f7f7f\">343</span></a>\n<span style=\"color: #7fbfbf; text-decoration-color: #7fbfbf\">                    </span>         <span style=\"font-weight: bold\">(</span>MetricsDataSet<span style=\"font-weight: bold\">)</span><span style=\"color: #808000; text-decoration-color: #808000\">...</span>                                                <span style=\"color: #7f7f7f; text-decoration-color: #7f7f7f\">                   </span>\n</pre>\n"
     },
     "metadata": {},
     "output_type": "display_data"
    },
    {
     "data": {
      "text/plain": "\u001B[2;36m                   \u001B[0m\u001B[2;36m \u001B[0m\u001B[34mINFO    \u001B[0m Loading data from \u001B[32m'experiment.gnn_rec_test_metrics'\u001B[0m                \u001B]8;id=722066;file:///home/fwojcik/anaconda3/envs/py39clean/lib/python3.9/site-packages/kedro/io/data_catalog.py\u001B\\\u001B[2mdata_catalog.py\u001B[0m\u001B]8;;\u001B\\\u001B[2m:\u001B[0m\u001B]8;id=92564;file:///home/fwojcik/anaconda3/envs/py39clean/lib/python3.9/site-packages/kedro/io/data_catalog.py#343\u001B\\\u001B[2m343\u001B[0m\u001B]8;;\u001B\\\n\u001B[2;36m                    \u001B[0m         \u001B[1m(\u001B[0mMetricsDataSet\u001B[1m)\u001B[0m\u001B[33m...\u001B[0m                                                \u001B[2m                   \u001B[0m\n",
      "text/html": "<pre style=\"white-space:pre;overflow-x:auto;line-height:normal;font-family:Menlo,'DejaVu Sans Mono',consolas,'Courier New',monospace\"><span style=\"color: #7fbfbf; text-decoration-color: #7fbfbf\">                    </span><span style=\"color: #000080; text-decoration-color: #000080\">INFO    </span> Loading data from <span style=\"color: #008000; text-decoration-color: #008000\">'experiment.gnn_rec_test_metrics'</span>                <a href=\"file:///home/fwojcik/anaconda3/envs/py39clean/lib/python3.9/site-packages/kedro/io/data_catalog.py\" target=\"_blank\"><span style=\"color: #7f7f7f; text-decoration-color: #7f7f7f\">data_catalog.py</span></a><span style=\"color: #7f7f7f; text-decoration-color: #7f7f7f\">:</span><a href=\"file:///home/fwojcik/anaconda3/envs/py39clean/lib/python3.9/site-packages/kedro/io/data_catalog.py#343\" target=\"_blank\"><span style=\"color: #7f7f7f; text-decoration-color: #7f7f7f\">343</span></a>\n<span style=\"color: #7fbfbf; text-decoration-color: #7fbfbf\">                    </span>         <span style=\"font-weight: bold\">(</span>MetricsDataSet<span style=\"font-weight: bold\">)</span><span style=\"color: #808000; text-decoration-color: #808000\">...</span>                                                <span style=\"color: #7f7f7f; text-decoration-color: #7f7f7f\">                   </span>\n</pre>\n"
     },
     "metadata": {},
     "output_type": "display_data"
    },
    {
     "data": {
      "text/plain": "    test_MSE  test_MAPE  test_MAE                         model\n0  17.617960   0.814397  3.798708       collaborative_filtering\n1   0.527138   0.156110  0.463374  deep_collaborative_filtering\n2   0.192739   0.052388  0.146859               deep_hybrid_rec\n3   0.181927   0.078926  0.264913                       gnn_rec",
      "text/html": "<div>\n<style scoped>\n    .dataframe tbody tr th:only-of-type {\n        vertical-align: middle;\n    }\n\n    .dataframe tbody tr th {\n        vertical-align: top;\n    }\n\n    .dataframe thead th {\n        text-align: right;\n    }\n</style>\n<table border=\"1\" class=\"dataframe\">\n  <thead>\n    <tr style=\"text-align: right;\">\n      <th></th>\n      <th>test_MSE</th>\n      <th>test_MAPE</th>\n      <th>test_MAE</th>\n      <th>model</th>\n    </tr>\n  </thead>\n  <tbody>\n    <tr>\n      <th>0</th>\n      <td>17.617960</td>\n      <td>0.814397</td>\n      <td>3.798708</td>\n      <td>collaborative_filtering</td>\n    </tr>\n    <tr>\n      <th>1</th>\n      <td>0.527138</td>\n      <td>0.156110</td>\n      <td>0.463374</td>\n      <td>deep_collaborative_filtering</td>\n    </tr>\n    <tr>\n      <th>2</th>\n      <td>0.192739</td>\n      <td>0.052388</td>\n      <td>0.146859</td>\n      <td>deep_hybrid_rec</td>\n    </tr>\n    <tr>\n      <th>3</th>\n      <td>0.181927</td>\n      <td>0.078926</td>\n      <td>0.264913</td>\n      <td>gnn_rec</td>\n    </tr>\n  </tbody>\n</table>\n</div>"
     },
     "execution_count": 18,
     "metadata": {},
     "output_type": "execute_result"
    }
   ],
   "source": [
    "test_met_dicts = []\n",
    "for catalog_name in [met for met in catalog.list() if 'experiment.' in met and 'test' in met]:\n",
    "    _, metric = catalog_name.split(\".\")\n",
    "    model = metric.replace(\"_test_metrics\", \"\")\n",
    "    met_dict = catalog.load(catalog_name)\n",
    "    met_dict['model'] = model\n",
    "    \n",
    "    test_met_dicts.append(met_dict)\n",
    "\n",
    "test_mets_df = pd.DataFrame.from_records(test_met_dicts, index=list(range(len(test_met_dicts))))\n",
    "test_mets_df"
   ]
  },
  {
   "cell_type": "markdown",
   "metadata": {},
   "source": [
    "# Conclusions"
   ]
  },
  {
   "cell_type": "markdown",
   "metadata": {},
   "source": [
    "Analysis of all overall comparisons for all metrics allows to reject the null hypothesis. \n",
    "**This means that the mean ranks of the groups are not the same.**\n",
    "\n",
    "**The post-hoc test results show that the Hybrid Recommender and GNN recommender model are significantly better than the other two models in all cases.**\n",
    "\n",
    "Best test result were obtained by the Hybrid recommender model."
   ]
  },
  {
   "cell_type": "code",
   "execution_count": null,
   "outputs": [],
   "source": [],
   "metadata": {
    "collapsed": false
   }
  }
 ],
 "metadata": {
  "kernelspec": {
   "display_name": "Python 3 (ipykernel)",
   "language": "python",
   "name": "python3"
  },
  "language_info": {
   "codemirror_mode": {
    "name": "ipython",
    "version": 3
   },
   "file_extension": ".py",
   "mimetype": "text/x-python",
   "name": "python",
   "nbconvert_exporter": "python",
   "pygments_lexer": "ipython3",
   "version": "3.9.16"
  }
 },
 "nbformat": 4,
 "nbformat_minor": 4
}
