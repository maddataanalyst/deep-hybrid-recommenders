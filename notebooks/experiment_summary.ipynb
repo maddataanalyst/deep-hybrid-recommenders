{
 "cells": [
  {
   "cell_type": "markdown",
   "metadata": {},
   "source": [
    "# Intro\n",
    "\n",
    "This notebook summarizes the experimental results obtained using Kedro pipeline and presents static figures as well as model scores.\n",
    "\n",
    "It contains the following sections:\n",
    "1. Data loading - loading the data from the Kedro catalog: model metrics from cross-validation runs.\n",
    "2. Data inspection - visualizing the data using boxplots.\n",
    "3. Statistical analysis - performing statistical analysis of the data using Kruskal-Wallis test and post-hoc pairwise tests."
   ]
  },
  {
   "cell_type": "markdown",
   "metadata": {},
   "source": [
    "# Lib imports"
   ]
  },
  {
   "cell_type": "code",
   "execution_count": 2,
   "metadata": {
    "collapsed": false,
    "jupyter": {
     "outputs_hidden": false
    },
    "ExecuteTime": {
     "end_time": "2023-05-29T18:59:57.119978600Z",
     "start_time": "2023-05-29T18:59:57.115980400Z"
    }
   },
   "outputs": [
    {
     "name": "stdout",
     "output_type": "stream",
     "text": [
      "The kedro.ipython extension is already loaded. To reload it, use:\n",
      "  %reload_ext kedro.ipython\n"
     ]
    }
   ],
   "source": [
    "%load_ext kedro.ipython"
   ]
  },
  {
   "cell_type": "code",
   "execution_count": 3,
   "metadata": {
    "collapsed": false,
    "jupyter": {
     "outputs_hidden": false
    },
    "ExecuteTime": {
     "end_time": "2023-05-29T18:59:57.731560700Z",
     "start_time": "2023-05-29T18:59:57.717032600Z"
    }
   },
   "outputs": [],
   "source": [
    "import pandas as pd\n",
    "import pingouin as pg\n",
    "import plotly as py\n",
    "import plotly.express as px\n",
    "import seaborn as sns\n",
    "import matplotlib.pyplot as plt\n",
    "import scipy.stats as st\n",
    "import seaborn as sns\n",
    "\n",
    "import IPython.display as dd\n",
    "\n",
    "from deep_hybrid_recommender.pipelines.experiment.nodes import perform_statistical_comparison"
   ]
  },
  {
   "cell_type": "code",
   "execution_count": 4,
   "outputs": [
    {
     "data": {
      "text/plain": "\u001B[2;36m[05/29/23 20:59:59]\u001B[0m\u001B[2;36m \u001B[0m\u001B[34mINFO    \u001B[0m Resolved project path as:                                              \u001B]8;id=734374;file:///home/fwojcik/anaconda3/envs/py39clean/lib/python3.9/site-packages/kedro/ipython/__init__.py\u001B\\\u001B[2m__init__.py\u001B[0m\u001B]8;;\u001B\\\u001B[2m:\u001B[0m\u001B]8;id=591546;file:///home/fwojcik/anaconda3/envs/py39clean/lib/python3.9/site-packages/kedro/ipython/__init__.py#134\u001B\\\u001B[2m134\u001B[0m\u001B]8;;\u001B\\\n\u001B[2;36m                    \u001B[0m         \u001B[35m/home/fwojcik/projects/\u001B[0m\u001B[95mdeep-hybrid-recommenders.\u001B[0m                       \u001B[2m               \u001B[0m\n\u001B[2;36m                    \u001B[0m         To set a different path, run \u001B[32m'%reload_kedro \u001B[0m\u001B[32m<\u001B[0m\u001B[32mproject_root\u001B[0m\u001B[32m>\u001B[0m\u001B[32m'\u001B[0m            \u001B[2m               \u001B[0m\n",
      "text/html": "<pre style=\"white-space:pre;overflow-x:auto;line-height:normal;font-family:Menlo,'DejaVu Sans Mono',consolas,'Courier New',monospace\"><span style=\"color: #7fbfbf; text-decoration-color: #7fbfbf\">[05/29/23 20:59:59] </span><span style=\"color: #000080; text-decoration-color: #000080\">INFO    </span> Resolved project path as:                                              <a href=\"file:///home/fwojcik/anaconda3/envs/py39clean/lib/python3.9/site-packages/kedro/ipython/__init__.py\" target=\"_blank\"><span style=\"color: #7f7f7f; text-decoration-color: #7f7f7f\">__init__.py</span></a><span style=\"color: #7f7f7f; text-decoration-color: #7f7f7f\">:</span><a href=\"file:///home/fwojcik/anaconda3/envs/py39clean/lib/python3.9/site-packages/kedro/ipython/__init__.py#134\" target=\"_blank\"><span style=\"color: #7f7f7f; text-decoration-color: #7f7f7f\">134</span></a>\n<span style=\"color: #7fbfbf; text-decoration-color: #7fbfbf\">                    </span>         <span style=\"color: #800080; text-decoration-color: #800080\">/home/fwojcik/projects/</span><span style=\"color: #ff00ff; text-decoration-color: #ff00ff\">deep-hybrid-recommenders.</span>                       <span style=\"color: #7f7f7f; text-decoration-color: #7f7f7f\">               </span>\n<span style=\"color: #7fbfbf; text-decoration-color: #7fbfbf\">                    </span>         To set a different path, run <span style=\"color: #008000; text-decoration-color: #008000\">'%reload_kedro &lt;project_root&gt;'</span>            <span style=\"color: #7f7f7f; text-decoration-color: #7f7f7f\">               </span>\n</pre>\n"
     },
     "metadata": {},
     "output_type": "display_data"
    },
    {
     "data": {
      "text/plain": "\u001B[2;36m                   \u001B[0m\u001B[2;36m \u001B[0m\u001B[31mWARNING \u001B[0m \u001B[35m/home/fwojcik/anaconda3/envs/py39clean/lib/python3.9/site-packages/ked\u001B[0m \u001B]8;id=523149;file:///home/fwojcik/anaconda3/envs/py39clean/lib/python3.9/warnings.py\u001B\\\u001B[2mwarnings.py\u001B[0m\u001B]8;;\u001B\\\u001B[2m:\u001B[0m\u001B]8;id=610499;file:///home/fwojcik/anaconda3/envs/py39clean/lib/python3.9/warnings.py#109\u001B\\\u001B[2m109\u001B[0m\u001B]8;;\u001B\\\n\u001B[2;36m                    \u001B[0m         \u001B[35mro/framework/\u001B[0m\u001B[95mstartup.py\u001B[0m:\u001B[1;36m98\u001B[0m: DeprecationWarning: project_version in     \u001B[2m               \u001B[0m\n\u001B[2;36m                    \u001B[0m         pyproject.toml is deprecated, use kedro_init_version instead           \u001B[2m               \u001B[0m\n\u001B[2;36m                    \u001B[0m           \u001B[1;35mwarnings.warn\u001B[0m\u001B[1m(\u001B[0m                                                       \u001B[2m               \u001B[0m\n\u001B[2;36m                    \u001B[0m                                                                                \u001B[2m               \u001B[0m\n",
      "text/html": "<pre style=\"white-space:pre;overflow-x:auto;line-height:normal;font-family:Menlo,'DejaVu Sans Mono',consolas,'Courier New',monospace\"><span style=\"color: #7fbfbf; text-decoration-color: #7fbfbf\">                    </span><span style=\"color: #800000; text-decoration-color: #800000\">WARNING </span> <span style=\"color: #800080; text-decoration-color: #800080\">/home/fwojcik/anaconda3/envs/py39clean/lib/python3.9/site-packages/ked</span> <a href=\"file:///home/fwojcik/anaconda3/envs/py39clean/lib/python3.9/warnings.py\" target=\"_blank\"><span style=\"color: #7f7f7f; text-decoration-color: #7f7f7f\">warnings.py</span></a><span style=\"color: #7f7f7f; text-decoration-color: #7f7f7f\">:</span><a href=\"file:///home/fwojcik/anaconda3/envs/py39clean/lib/python3.9/warnings.py#109\" target=\"_blank\"><span style=\"color: #7f7f7f; text-decoration-color: #7f7f7f\">109</span></a>\n<span style=\"color: #7fbfbf; text-decoration-color: #7fbfbf\">                    </span>         <span style=\"color: #800080; text-decoration-color: #800080\">ro/framework/</span><span style=\"color: #ff00ff; text-decoration-color: #ff00ff\">startup.py</span>:<span style=\"color: #008080; text-decoration-color: #008080; font-weight: bold\">98</span>: DeprecationWarning: project_version in     <span style=\"color: #7f7f7f; text-decoration-color: #7f7f7f\">               </span>\n<span style=\"color: #7fbfbf; text-decoration-color: #7fbfbf\">                    </span>         pyproject.toml is deprecated, use kedro_init_version instead           <span style=\"color: #7f7f7f; text-decoration-color: #7f7f7f\">               </span>\n<span style=\"color: #7fbfbf; text-decoration-color: #7fbfbf\">                    </span>           <span style=\"color: #800080; text-decoration-color: #800080; font-weight: bold\">warnings.warn</span><span style=\"font-weight: bold\">(</span>                                                       <span style=\"color: #7f7f7f; text-decoration-color: #7f7f7f\">               </span>\n<span style=\"color: #7fbfbf; text-decoration-color: #7fbfbf\">                    </span>                                                                                <span style=\"color: #7f7f7f; text-decoration-color: #7f7f7f\">               </span>\n</pre>\n"
     },
     "metadata": {},
     "output_type": "display_data"
    },
    {
     "data": {
      "text/plain": "\u001B[2;36m[05/29/23 20:59:59]\u001B[0m\u001B[2;36m \u001B[0m\u001B[34mINFO    \u001B[0m Kedro project Deep Hybrid Recommender                                  \u001B]8;id=232503;file:///home/fwojcik/anaconda3/envs/py39clean/lib/python3.9/site-packages/kedro/ipython/__init__.py\u001B\\\u001B[2m__init__.py\u001B[0m\u001B]8;;\u001B\\\u001B[2m:\u001B[0m\u001B]8;id=400990;file:///home/fwojcik/anaconda3/envs/py39clean/lib/python3.9/site-packages/kedro/ipython/__init__.py#103\u001B\\\u001B[2m103\u001B[0m\u001B]8;;\u001B\\\n",
      "text/html": "<pre style=\"white-space:pre;overflow-x:auto;line-height:normal;font-family:Menlo,'DejaVu Sans Mono',consolas,'Courier New',monospace\"><span style=\"color: #7fbfbf; text-decoration-color: #7fbfbf\">[05/29/23 20:59:59] </span><span style=\"color: #000080; text-decoration-color: #000080\">INFO    </span> Kedro project Deep Hybrid Recommender                                  <a href=\"file:///home/fwojcik/anaconda3/envs/py39clean/lib/python3.9/site-packages/kedro/ipython/__init__.py\" target=\"_blank\"><span style=\"color: #7f7f7f; text-decoration-color: #7f7f7f\">__init__.py</span></a><span style=\"color: #7f7f7f; text-decoration-color: #7f7f7f\">:</span><a href=\"file:///home/fwojcik/anaconda3/envs/py39clean/lib/python3.9/site-packages/kedro/ipython/__init__.py#103\" target=\"_blank\"><span style=\"color: #7f7f7f; text-decoration-color: #7f7f7f\">103</span></a>\n</pre>\n"
     },
     "metadata": {},
     "output_type": "display_data"
    },
    {
     "data": {
      "text/plain": "\u001B[2;36m                   \u001B[0m\u001B[2;36m \u001B[0m\u001B[34mINFO    \u001B[0m Defined global variable \u001B[32m'context'\u001B[0m, \u001B[32m'session'\u001B[0m, \u001B[32m'catalog'\u001B[0m and            \u001B]8;id=134354;file:///home/fwojcik/anaconda3/envs/py39clean/lib/python3.9/site-packages/kedro/ipython/__init__.py\u001B\\\u001B[2m__init__.py\u001B[0m\u001B]8;;\u001B\\\u001B[2m:\u001B[0m\u001B]8;id=79477;file:///home/fwojcik/anaconda3/envs/py39clean/lib/python3.9/site-packages/kedro/ipython/__init__.py#104\u001B\\\u001B[2m104\u001B[0m\u001B]8;;\u001B\\\n\u001B[2;36m                    \u001B[0m         \u001B[32m'pipelines'\u001B[0m                                                            \u001B[2m               \u001B[0m\n",
      "text/html": "<pre style=\"white-space:pre;overflow-x:auto;line-height:normal;font-family:Menlo,'DejaVu Sans Mono',consolas,'Courier New',monospace\"><span style=\"color: #7fbfbf; text-decoration-color: #7fbfbf\">                    </span><span style=\"color: #000080; text-decoration-color: #000080\">INFO    </span> Defined global variable <span style=\"color: #008000; text-decoration-color: #008000\">'context'</span>, <span style=\"color: #008000; text-decoration-color: #008000\">'session'</span>, <span style=\"color: #008000; text-decoration-color: #008000\">'catalog'</span> and            <a href=\"file:///home/fwojcik/anaconda3/envs/py39clean/lib/python3.9/site-packages/kedro/ipython/__init__.py\" target=\"_blank\"><span style=\"color: #7f7f7f; text-decoration-color: #7f7f7f\">__init__.py</span></a><span style=\"color: #7f7f7f; text-decoration-color: #7f7f7f\">:</span><a href=\"file:///home/fwojcik/anaconda3/envs/py39clean/lib/python3.9/site-packages/kedro/ipython/__init__.py#104\" target=\"_blank\"><span style=\"color: #7f7f7f; text-decoration-color: #7f7f7f\">104</span></a>\n<span style=\"color: #7fbfbf; text-decoration-color: #7fbfbf\">                    </span>         <span style=\"color: #008000; text-decoration-color: #008000\">'pipelines'</span>                                                            <span style=\"color: #7f7f7f; text-decoration-color: #7f7f7f\">               </span>\n</pre>\n"
     },
     "metadata": {},
     "output_type": "display_data"
    },
    {
     "data": {
      "text/plain": "\u001B[2;36m                   \u001B[0m\u001B[2;36m \u001B[0m\u001B[34mINFO    \u001B[0m Registered line magic \u001B[32m'run_viz'\u001B[0m                                        \u001B]8;id=967832;file:///home/fwojcik/anaconda3/envs/py39clean/lib/python3.9/site-packages/kedro/ipython/__init__.py\u001B\\\u001B[2m__init__.py\u001B[0m\u001B]8;;\u001B\\\u001B[2m:\u001B[0m\u001B]8;id=870558;file:///home/fwojcik/anaconda3/envs/py39clean/lib/python3.9/site-packages/kedro/ipython/__init__.py#110\u001B\\\u001B[2m110\u001B[0m\u001B]8;;\u001B\\\n",
      "text/html": "<pre style=\"white-space:pre;overflow-x:auto;line-height:normal;font-family:Menlo,'DejaVu Sans Mono',consolas,'Courier New',monospace\"><span style=\"color: #7fbfbf; text-decoration-color: #7fbfbf\">                    </span><span style=\"color: #000080; text-decoration-color: #000080\">INFO    </span> Registered line magic <span style=\"color: #008000; text-decoration-color: #008000\">'run_viz'</span>                                        <a href=\"file:///home/fwojcik/anaconda3/envs/py39clean/lib/python3.9/site-packages/kedro/ipython/__init__.py\" target=\"_blank\"><span style=\"color: #7f7f7f; text-decoration-color: #7f7f7f\">__init__.py</span></a><span style=\"color: #7f7f7f; text-decoration-color: #7f7f7f\">:</span><a href=\"file:///home/fwojcik/anaconda3/envs/py39clean/lib/python3.9/site-packages/kedro/ipython/__init__.py#110\" target=\"_blank\"><span style=\"color: #7f7f7f; text-decoration-color: #7f7f7f\">110</span></a>\n</pre>\n"
     },
     "metadata": {},
     "output_type": "display_data"
    }
   ],
   "source": [
    "%reload_kedro"
   ],
   "metadata": {
    "collapsed": false,
    "ExecuteTime": {
     "end_time": "2023-05-29T18:59:59.691359100Z",
     "start_time": "2023-05-29T18:59:58.846213800Z"
    }
   }
  },
  {
   "cell_type": "markdown",
   "metadata": {},
   "source": [
    "# Load data"
   ]
  },
  {
   "cell_type": "code",
   "execution_count": 5,
   "metadata": {
    "collapsed": false,
    "jupyter": {
     "outputs_hidden": false
    },
    "ExecuteTime": {
     "end_time": "2023-05-29T19:01:20.396433900Z",
     "start_time": "2023-05-29T19:01:20.391440100Z"
    }
   },
   "outputs": [],
   "source": [
    "metrics_to_show = ['val_MAPE', 'val_MAE', 'val_MSE']"
   ]
  },
  {
   "cell_type": "code",
   "execution_count": 15,
   "metadata": {
    "collapsed": false,
    "jupyter": {
     "outputs_hidden": false
    },
    "ExecuteTime": {
     "end_time": "2023-05-29T19:07:16.407122100Z",
     "start_time": "2023-05-29T19:07:16.294601800Z"
    }
   },
   "outputs": [
    {
     "data": {
      "text/plain": "\u001B[2;36m[05/29/23 21:07:16]\u001B[0m\u001B[2;36m \u001B[0m\u001B[34mINFO    \u001B[0m Loading data from                                                  \u001B]8;id=569783;file:///home/fwojcik/anaconda3/envs/py39clean/lib/python3.9/site-packages/kedro/io/data_catalog.py\u001B\\\u001B[2mdata_catalog.py\u001B[0m\u001B]8;;\u001B\\\u001B[2m:\u001B[0m\u001B]8;id=590379;file:///home/fwojcik/anaconda3/envs/py39clean/lib/python3.9/site-packages/kedro/io/data_catalog.py#343\u001B\\\u001B[2m343\u001B[0m\u001B]8;;\u001B\\\n\u001B[2;36m                    \u001B[0m         \u001B[32m'experiment.colab_filtering_crossval_val_metrics'\u001B[0m \u001B[1m(\u001B[0mCSVDataSet\u001B[1m)\u001B[0m\u001B[33m...\u001B[0m  \u001B[2m                   \u001B[0m\n",
      "text/html": "<pre style=\"white-space:pre;overflow-x:auto;line-height:normal;font-family:Menlo,'DejaVu Sans Mono',consolas,'Courier New',monospace\"><span style=\"color: #7fbfbf; text-decoration-color: #7fbfbf\">[05/29/23 21:07:16] </span><span style=\"color: #000080; text-decoration-color: #000080\">INFO    </span> Loading data from                                                  <a href=\"file:///home/fwojcik/anaconda3/envs/py39clean/lib/python3.9/site-packages/kedro/io/data_catalog.py\" target=\"_blank\"><span style=\"color: #7f7f7f; text-decoration-color: #7f7f7f\">data_catalog.py</span></a><span style=\"color: #7f7f7f; text-decoration-color: #7f7f7f\">:</span><a href=\"file:///home/fwojcik/anaconda3/envs/py39clean/lib/python3.9/site-packages/kedro/io/data_catalog.py#343\" target=\"_blank\"><span style=\"color: #7f7f7f; text-decoration-color: #7f7f7f\">343</span></a>\n<span style=\"color: #7fbfbf; text-decoration-color: #7fbfbf\">                    </span>         <span style=\"color: #008000; text-decoration-color: #008000\">'experiment.colab_filtering_crossval_val_metrics'</span> <span style=\"font-weight: bold\">(</span>CSVDataSet<span style=\"font-weight: bold\">)</span><span style=\"color: #808000; text-decoration-color: #808000\">...</span>  <span style=\"color: #7f7f7f; text-decoration-color: #7f7f7f\">                   </span>\n</pre>\n"
     },
     "metadata": {},
     "output_type": "display_data"
    },
    {
     "data": {
      "text/plain": "\u001B[2;36m                   \u001B[0m\u001B[2;36m \u001B[0m\u001B[34mINFO    \u001B[0m Loading data from                                                  \u001B]8;id=890709;file:///home/fwojcik/anaconda3/envs/py39clean/lib/python3.9/site-packages/kedro/io/data_catalog.py\u001B\\\u001B[2mdata_catalog.py\u001B[0m\u001B]8;;\u001B\\\u001B[2m:\u001B[0m\u001B]8;id=916762;file:///home/fwojcik/anaconda3/envs/py39clean/lib/python3.9/site-packages/kedro/io/data_catalog.py#343\u001B\\\u001B[2m343\u001B[0m\u001B]8;;\u001B\\\n\u001B[2;36m                    \u001B[0m         \u001B[32m'experiment.deep_colab_filtering_crossval_val_metrics'\u001B[0m             \u001B[2m                   \u001B[0m\n\u001B[2;36m                    \u001B[0m         \u001B[1m(\u001B[0mCSVDataSet\u001B[1m)\u001B[0m\u001B[33m...\u001B[0m                                                    \u001B[2m                   \u001B[0m\n",
      "text/html": "<pre style=\"white-space:pre;overflow-x:auto;line-height:normal;font-family:Menlo,'DejaVu Sans Mono',consolas,'Courier New',monospace\"><span style=\"color: #7fbfbf; text-decoration-color: #7fbfbf\">                    </span><span style=\"color: #000080; text-decoration-color: #000080\">INFO    </span> Loading data from                                                  <a href=\"file:///home/fwojcik/anaconda3/envs/py39clean/lib/python3.9/site-packages/kedro/io/data_catalog.py\" target=\"_blank\"><span style=\"color: #7f7f7f; text-decoration-color: #7f7f7f\">data_catalog.py</span></a><span style=\"color: #7f7f7f; text-decoration-color: #7f7f7f\">:</span><a href=\"file:///home/fwojcik/anaconda3/envs/py39clean/lib/python3.9/site-packages/kedro/io/data_catalog.py#343\" target=\"_blank\"><span style=\"color: #7f7f7f; text-decoration-color: #7f7f7f\">343</span></a>\n<span style=\"color: #7fbfbf; text-decoration-color: #7fbfbf\">                    </span>         <span style=\"color: #008000; text-decoration-color: #008000\">'experiment.deep_colab_filtering_crossval_val_metrics'</span>             <span style=\"color: #7f7f7f; text-decoration-color: #7f7f7f\">                   </span>\n<span style=\"color: #7fbfbf; text-decoration-color: #7fbfbf\">                    </span>         <span style=\"font-weight: bold\">(</span>CSVDataSet<span style=\"font-weight: bold\">)</span><span style=\"color: #808000; text-decoration-color: #808000\">...</span>                                                    <span style=\"color: #7f7f7f; text-decoration-color: #7f7f7f\">                   </span>\n</pre>\n"
     },
     "metadata": {},
     "output_type": "display_data"
    },
    {
     "data": {
      "text/plain": "\u001B[2;36m                   \u001B[0m\u001B[2;36m \u001B[0m\u001B[34mINFO    \u001B[0m Loading data from                                                  \u001B]8;id=661573;file:///home/fwojcik/anaconda3/envs/py39clean/lib/python3.9/site-packages/kedro/io/data_catalog.py\u001B\\\u001B[2mdata_catalog.py\u001B[0m\u001B]8;;\u001B\\\u001B[2m:\u001B[0m\u001B]8;id=235803;file:///home/fwojcik/anaconda3/envs/py39clean/lib/python3.9/site-packages/kedro/io/data_catalog.py#343\u001B\\\u001B[2m343\u001B[0m\u001B]8;;\u001B\\\n\u001B[2;36m                    \u001B[0m         \u001B[32m'experiment.deep_hybrid_rec_crossval_val_metrics'\u001B[0m \u001B[1m(\u001B[0mCSVDataSet\u001B[1m)\u001B[0m\u001B[33m...\u001B[0m  \u001B[2m                   \u001B[0m\n",
      "text/html": "<pre style=\"white-space:pre;overflow-x:auto;line-height:normal;font-family:Menlo,'DejaVu Sans Mono',consolas,'Courier New',monospace\"><span style=\"color: #7fbfbf; text-decoration-color: #7fbfbf\">                    </span><span style=\"color: #000080; text-decoration-color: #000080\">INFO    </span> Loading data from                                                  <a href=\"file:///home/fwojcik/anaconda3/envs/py39clean/lib/python3.9/site-packages/kedro/io/data_catalog.py\" target=\"_blank\"><span style=\"color: #7f7f7f; text-decoration-color: #7f7f7f\">data_catalog.py</span></a><span style=\"color: #7f7f7f; text-decoration-color: #7f7f7f\">:</span><a href=\"file:///home/fwojcik/anaconda3/envs/py39clean/lib/python3.9/site-packages/kedro/io/data_catalog.py#343\" target=\"_blank\"><span style=\"color: #7f7f7f; text-decoration-color: #7f7f7f\">343</span></a>\n<span style=\"color: #7fbfbf; text-decoration-color: #7fbfbf\">                    </span>         <span style=\"color: #008000; text-decoration-color: #008000\">'experiment.deep_hybrid_rec_crossval_val_metrics'</span> <span style=\"font-weight: bold\">(</span>CSVDataSet<span style=\"font-weight: bold\">)</span><span style=\"color: #808000; text-decoration-color: #808000\">...</span>  <span style=\"color: #7f7f7f; text-decoration-color: #7f7f7f\">                   </span>\n</pre>\n"
     },
     "metadata": {},
     "output_type": "display_data"
    },
    {
     "data": {
      "text/plain": "\u001B[2;36m                   \u001B[0m\u001B[2;36m \u001B[0m\u001B[34mINFO    \u001B[0m Loading data from \u001B[32m'experiment.gnn_rec_crossval_val_metrics'\u001B[0m        \u001B]8;id=684383;file:///home/fwojcik/anaconda3/envs/py39clean/lib/python3.9/site-packages/kedro/io/data_catalog.py\u001B\\\u001B[2mdata_catalog.py\u001B[0m\u001B]8;;\u001B\\\u001B[2m:\u001B[0m\u001B]8;id=131016;file:///home/fwojcik/anaconda3/envs/py39clean/lib/python3.9/site-packages/kedro/io/data_catalog.py#343\u001B\\\u001B[2m343\u001B[0m\u001B]8;;\u001B\\\n\u001B[2;36m                    \u001B[0m         \u001B[1m(\u001B[0mCSVDataSet\u001B[1m)\u001B[0m\u001B[33m...\u001B[0m                                                    \u001B[2m                   \u001B[0m\n",
      "text/html": "<pre style=\"white-space:pre;overflow-x:auto;line-height:normal;font-family:Menlo,'DejaVu Sans Mono',consolas,'Courier New',monospace\"><span style=\"color: #7fbfbf; text-decoration-color: #7fbfbf\">                    </span><span style=\"color: #000080; text-decoration-color: #000080\">INFO    </span> Loading data from <span style=\"color: #008000; text-decoration-color: #008000\">'experiment.gnn_rec_crossval_val_metrics'</span>        <a href=\"file:///home/fwojcik/anaconda3/envs/py39clean/lib/python3.9/site-packages/kedro/io/data_catalog.py\" target=\"_blank\"><span style=\"color: #7f7f7f; text-decoration-color: #7f7f7f\">data_catalog.py</span></a><span style=\"color: #7f7f7f; text-decoration-color: #7f7f7f\">:</span><a href=\"file:///home/fwojcik/anaconda3/envs/py39clean/lib/python3.9/site-packages/kedro/io/data_catalog.py#343\" target=\"_blank\"><span style=\"color: #7f7f7f; text-decoration-color: #7f7f7f\">343</span></a>\n<span style=\"color: #7fbfbf; text-decoration-color: #7fbfbf\">                    </span>         <span style=\"font-weight: bold\">(</span>CSVDataSet<span style=\"font-weight: bold\">)</span><span style=\"color: #808000; text-decoration-color: #808000\">...</span>                                                    <span style=\"color: #7f7f7f; text-decoration-color: #7f7f7f\">                   </span>\n</pre>\n"
     },
     "metadata": {},
     "output_type": "display_data"
    }
   ],
   "source": [
    "colab_filt_val_metrics = catalog.load(\"experiment.colab_filtering_crossval_val_metrics\")\n",
    "deep_colab_filt_val_metrics = catalog.load(\"experiment.deep_colab_filtering_crossval_val_metrics\")\n",
    "hybrid_rec_val_metrics = catalog.load(\"experiment.deep_hybrid_rec_crossval_val_metrics\")\n",
    "gnn_rec_val_metrics = catalog.load(\"experiment.gnn_rec_crossval_val_metrics\")\n",
    "\n",
    "val_metrics = pd.concat([colab_filt_val_metrics, deep_colab_filt_val_metrics, hybrid_rec_val_metrics, gnn_rec_val_metrics], axis=0, ignore_index=True)\n",
    "val_metrics = pd.melt(val_metrics, id_vars='model_name', var_name='metric')\n",
    "val_metrics = val_metrics.loc[val_metrics.metric.str.contains(\"val_\")]"
   ]
  },
  {
   "cell_type": "markdown",
   "metadata": {},
   "source": [
    "# Validation metrics inspection"
   ]
  },
  {
   "cell_type": "code",
   "execution_count": 18,
   "outputs": [
    {
     "data": {
      "text/plain": "                         value                     \nmetric                 val_MAE  val_MAPE    val_MSE\nmodel_name                                         \ncolab filtering       3.752275  0.813148  17.231289\ndeep colab filtering  0.476319  0.157380   0.512165\ngnn recommender       0.157461  0.044626   0.129898\nhybrid recommender    0.166640  0.062050   0.206777",
      "text/html": "<div>\n<style scoped>\n    .dataframe tbody tr th:only-of-type {\n        vertical-align: middle;\n    }\n\n    .dataframe tbody tr th {\n        vertical-align: top;\n    }\n\n    .dataframe thead tr th {\n        text-align: left;\n    }\n\n    .dataframe thead tr:last-of-type th {\n        text-align: right;\n    }\n</style>\n<table border=\"1\" class=\"dataframe\">\n  <thead>\n    <tr>\n      <th></th>\n      <th colspan=\"3\" halign=\"left\">value</th>\n    </tr>\n    <tr>\n      <th>metric</th>\n      <th>val_MAE</th>\n      <th>val_MAPE</th>\n      <th>val_MSE</th>\n    </tr>\n    <tr>\n      <th>model_name</th>\n      <th></th>\n      <th></th>\n      <th></th>\n    </tr>\n  </thead>\n  <tbody>\n    <tr>\n      <th>colab filtering</th>\n      <td>3.752275</td>\n      <td>0.813148</td>\n      <td>17.231289</td>\n    </tr>\n    <tr>\n      <th>deep colab filtering</th>\n      <td>0.476319</td>\n      <td>0.157380</td>\n      <td>0.512165</td>\n    </tr>\n    <tr>\n      <th>gnn recommender</th>\n      <td>0.157461</td>\n      <td>0.044626</td>\n      <td>0.129898</td>\n    </tr>\n    <tr>\n      <th>hybrid recommender</th>\n      <td>0.166640</td>\n      <td>0.062050</td>\n      <td>0.206777</td>\n    </tr>\n  </tbody>\n</table>\n</div>"
     },
     "execution_count": 18,
     "metadata": {},
     "output_type": "execute_result"
    }
   ],
   "source": [
    "val_metrics.pivot_table(index='model_name', columns='metric', aggfunc='mean')"
   ],
   "metadata": {
    "collapsed": false,
    "ExecuteTime": {
     "end_time": "2023-05-29T19:07:54.737147900Z",
     "start_time": "2023-05-29T19:07:54.699628300Z"
    }
   }
  },
  {
   "cell_type": "markdown",
   "metadata": {},
   "source": [
    "## Visualization of validation metrics"
   ]
  },
  {
   "cell_type": "code",
   "execution_count": 19,
   "metadata": {
    "collapsed": false,
    "jupyter": {
     "outputs_hidden": false
    },
    "ExecuteTime": {
     "end_time": "2023-05-29T19:08:06.807789Z",
     "start_time": "2023-05-29T19:08:06.613218900Z"
    }
   },
   "outputs": [
    {
     "data": {
      "application/vnd.plotly.v1+json": {
       "data": [
        {
         "alignmentgroup": "True",
         "hovertemplate": "model_name=colab filtering<br>metric=val_MSE<br>value=%{y}<extra></extra>",
         "legendgroup": "colab filtering",
         "marker": {
          "color": "#636efa"
         },
         "name": "colab filtering",
         "notched": false,
         "offsetgroup": "colab filtering",
         "orientation": "v",
         "showlegend": true,
         "x0": " ",
         "xaxis": "x",
         "y": [
          16.66489028930664,
          17.214820861816406,
          16.669069290161133,
          17.52916145324707,
          16.857084274291992,
          17.94296646118164,
          17.392742156982422,
          17.204565048217773,
          17.715280532836914,
          17.12230682373047
         ],
         "y0": " ",
         "yaxis": "y",
         "type": "box"
        },
        {
         "alignmentgroup": "True",
         "hovertemplate": "model_name=colab filtering<br>metric=val_MAPE<br>value=%{y}<extra></extra>",
         "legendgroup": "colab filtering",
         "marker": {
          "color": "#636efa"
         },
         "name": "colab filtering",
         "notched": false,
         "offsetgroup": "colab filtering",
         "orientation": "v",
         "showlegend": false,
         "x0": " ",
         "xaxis": "x2",
         "y": [
          0.7824416756629944,
          0.8315984010696411,
          0.8053377866744995,
          0.8041177988052368,
          0.7833846807479858,
          0.8162189722061157,
          0.8302364349365234,
          0.828876256942749,
          0.8628215193748474,
          0.7864456176757812
         ],
         "y0": " ",
         "yaxis": "y2",
         "type": "box"
        },
        {
         "alignmentgroup": "True",
         "hovertemplate": "model_name=colab filtering<br>metric=val_MAE<br>value=%{y}<extra></extra>",
         "legendgroup": "colab filtering",
         "marker": {
          "color": "#636efa"
         },
         "name": "colab filtering",
         "notched": false,
         "offsetgroup": "colab filtering",
         "orientation": "v",
         "showlegend": false,
         "x0": " ",
         "xaxis": "x3",
         "y": [
          3.7262017726898193,
          3.790656089782715,
          3.697633266448975,
          3.755976676940918,
          3.716115474700928,
          3.821899652481079,
          3.740237474441528,
          3.760362148284912,
          3.752530097961426,
          3.761140584945679
         ],
         "y0": " ",
         "yaxis": "y3",
         "type": "box"
        },
        {
         "alignmentgroup": "True",
         "hovertemplate": "model_name=deep colab filtering<br>metric=val_MSE<br>value=%{y}<extra></extra>",
         "legendgroup": "deep colab filtering",
         "marker": {
          "color": "#EF553B"
         },
         "name": "deep colab filtering",
         "notched": false,
         "offsetgroup": "deep colab filtering",
         "orientation": "v",
         "showlegend": true,
         "x0": " ",
         "xaxis": "x",
         "y": [
          0.3852074444293976,
          0.5924038290977478,
          0.573458731174469,
          0.4795467257499695,
          0.4317647814750671,
          0.4797887504100799,
          0.503313422203064,
          0.5171297192573547,
          0.7016474008560181,
          0.4573924839496612
         ],
         "y0": " ",
         "yaxis": "y",
         "type": "box"
        },
        {
         "alignmentgroup": "True",
         "hovertemplate": "model_name=deep colab filtering<br>metric=val_MAPE<br>value=%{y}<extra></extra>",
         "legendgroup": "deep colab filtering",
         "marker": {
          "color": "#EF553B"
         },
         "name": "deep colab filtering",
         "notched": false,
         "offsetgroup": "deep colab filtering",
         "orientation": "v",
         "showlegend": false,
         "x0": " ",
         "xaxis": "x2",
         "y": [
          0.1228402629494667,
          0.1816964447498321,
          0.1830248981714248,
          0.1439038962125778,
          0.1406022608280182,
          0.1378606408834457,
          0.1563252657651901,
          0.1658288389444351,
          0.1983831822872162,
          0.1433315426111221
         ],
         "y0": " ",
         "yaxis": "y2",
         "type": "box"
        },
        {
         "alignmentgroup": "True",
         "hovertemplate": "model_name=deep colab filtering<br>metric=val_MAE<br>value=%{y}<extra></extra>",
         "legendgroup": "deep colab filtering",
         "marker": {
          "color": "#EF553B"
         },
         "name": "deep colab filtering",
         "notched": false,
         "offsetgroup": "deep colab filtering",
         "orientation": "v",
         "showlegend": false,
         "x0": " ",
         "xaxis": "x3",
         "y": [
          0.4294908344745636,
          0.49829763174057,
          0.4692815542221069,
          0.4846234619617462,
          0.4629775881767273,
          0.4836300611495971,
          0.5037230849266052,
          0.4737958908081054,
          0.5015237927436829,
          0.4558467864990234
         ],
         "y0": " ",
         "yaxis": "y3",
         "type": "box"
        },
        {
         "alignmentgroup": "True",
         "hovertemplate": "model_name=hybrid recommender<br>metric=val_MSE<br>value=%{y}<extra></extra>",
         "legendgroup": "hybrid recommender",
         "marker": {
          "color": "#00cc96"
         },
         "name": "hybrid recommender",
         "notched": false,
         "offsetgroup": "hybrid recommender",
         "orientation": "v",
         "showlegend": true,
         "x0": " ",
         "xaxis": "x",
         "y": [
          0.0856364220380783,
          0.2227693796157837,
          0.4116537272930145,
          0.1479098498821258,
          0.1842458695173263,
          0.2102307677268982,
          0.1822684705257415,
          0.2633473575115204,
          0.179327592253685,
          0.1803776919841766
         ],
         "y0": " ",
         "yaxis": "y",
         "type": "box"
        },
        {
         "alignmentgroup": "True",
         "hovertemplate": "model_name=hybrid recommender<br>metric=val_MAPE<br>value=%{y}<extra></extra>",
         "legendgroup": "hybrid recommender",
         "marker": {
          "color": "#00cc96"
         },
         "name": "hybrid recommender",
         "notched": false,
         "offsetgroup": "hybrid recommender",
         "orientation": "v",
         "showlegend": false,
         "x0": " ",
         "xaxis": "x2",
         "y": [
          0.0363787859678268,
          0.079166792333126,
          0.1149467900395393,
          0.0442415848374366,
          0.0574426874518394,
          0.044968519359827,
          0.0520084649324417,
          0.0757003501057624,
          0.0662106871604919,
          0.0494315847754478
         ],
         "y0": " ",
         "yaxis": "y2",
         "type": "box"
        },
        {
         "alignmentgroup": "True",
         "hovertemplate": "model_name=hybrid recommender<br>metric=val_MAE<br>value=%{y}<extra></extra>",
         "legendgroup": "hybrid recommender",
         "marker": {
          "color": "#00cc96"
         },
         "name": "hybrid recommender",
         "notched": false,
         "offsetgroup": "hybrid recommender",
         "orientation": "v",
         "showlegend": false,
         "x0": " ",
         "xaxis": "x3",
         "y": [
          0.1301030814647674,
          0.1946905851364135,
          0.2480747401714325,
          0.1487332731485366,
          0.1483615040779113,
          0.1678932756185531,
          0.1553215533494949,
          0.1732664257287979,
          0.1563220620155334,
          0.1436318010091781
         ],
         "y0": " ",
         "yaxis": "y3",
         "type": "box"
        },
        {
         "alignmentgroup": "True",
         "hovertemplate": "model_name=gnn recommender<br>metric=val_MSE<br>value=%{y}<extra></extra>",
         "legendgroup": "gnn recommender",
         "marker": {
          "color": "#ab63fa"
         },
         "name": "gnn recommender",
         "notched": false,
         "offsetgroup": "gnn recommender",
         "orientation": "v",
         "showlegend": true,
         "x0": " ",
         "xaxis": "x",
         "y": [
          0.1332675218582153,
          0.1452799439430236,
          0.1684769392013549,
          0.1134789586067199,
          0.0933631882071495,
          0.1485661268234253,
          0.0931069254875183,
          0.2312763333320617,
          0.1196071803569793,
          0.0525523535907268
         ],
         "y0": " ",
         "yaxis": "y",
         "type": "box"
        },
        {
         "alignmentgroup": "True",
         "hovertemplate": "model_name=gnn recommender<br>metric=val_MAPE<br>value=%{y}<extra></extra>",
         "legendgroup": "gnn recommender",
         "marker": {
          "color": "#ab63fa"
         },
         "name": "gnn recommender",
         "notched": false,
         "offsetgroup": "gnn recommender",
         "orientation": "v",
         "showlegend": false,
         "x0": " ",
         "xaxis": "x2",
         "y": [
          0.043695967644453,
          0.0613645426928997,
          0.0559965819120407,
          0.0353509522974491,
          0.0380098484456539,
          0.0390897206962108,
          0.0346560589969158,
          0.0762470513582229,
          0.0416702330112457,
          0.0201813112944364
         ],
         "y0": " ",
         "yaxis": "y2",
         "type": "box"
        },
        {
         "alignmentgroup": "True",
         "hovertemplate": "model_name=gnn recommender<br>metric=val_MAE<br>value=%{y}<extra></extra>",
         "legendgroup": "gnn recommender",
         "marker": {
          "color": "#ab63fa"
         },
         "name": "gnn recommender",
         "notched": false,
         "offsetgroup": "gnn recommender",
         "orientation": "v",
         "showlegend": false,
         "x0": " ",
         "xaxis": "x3",
         "y": [
          0.1991384774446487,
          0.2119747996330261,
          0.1255503743886947,
          0.1558534651994705,
          0.1537323594093322,
          0.163913145661354,
          0.126287505030632,
          0.2268664389848709,
          0.1336777359247207,
          0.0776110887527465
         ],
         "y0": " ",
         "yaxis": "y3",
         "type": "box"
        }
       ],
       "layout": {
        "template": {
         "data": {
          "histogram2dcontour": [
           {
            "type": "histogram2dcontour",
            "colorbar": {
             "outlinewidth": 0,
             "ticks": ""
            },
            "colorscale": [
             [
              0.0,
              "#0d0887"
             ],
             [
              0.1111111111111111,
              "#46039f"
             ],
             [
              0.2222222222222222,
              "#7201a8"
             ],
             [
              0.3333333333333333,
              "#9c179e"
             ],
             [
              0.4444444444444444,
              "#bd3786"
             ],
             [
              0.5555555555555556,
              "#d8576b"
             ],
             [
              0.6666666666666666,
              "#ed7953"
             ],
             [
              0.7777777777777778,
              "#fb9f3a"
             ],
             [
              0.8888888888888888,
              "#fdca26"
             ],
             [
              1.0,
              "#f0f921"
             ]
            ]
           }
          ],
          "choropleth": [
           {
            "type": "choropleth",
            "colorbar": {
             "outlinewidth": 0,
             "ticks": ""
            }
           }
          ],
          "histogram2d": [
           {
            "type": "histogram2d",
            "colorbar": {
             "outlinewidth": 0,
             "ticks": ""
            },
            "colorscale": [
             [
              0.0,
              "#0d0887"
             ],
             [
              0.1111111111111111,
              "#46039f"
             ],
             [
              0.2222222222222222,
              "#7201a8"
             ],
             [
              0.3333333333333333,
              "#9c179e"
             ],
             [
              0.4444444444444444,
              "#bd3786"
             ],
             [
              0.5555555555555556,
              "#d8576b"
             ],
             [
              0.6666666666666666,
              "#ed7953"
             ],
             [
              0.7777777777777778,
              "#fb9f3a"
             ],
             [
              0.8888888888888888,
              "#fdca26"
             ],
             [
              1.0,
              "#f0f921"
             ]
            ]
           }
          ],
          "heatmap": [
           {
            "type": "heatmap",
            "colorbar": {
             "outlinewidth": 0,
             "ticks": ""
            },
            "colorscale": [
             [
              0.0,
              "#0d0887"
             ],
             [
              0.1111111111111111,
              "#46039f"
             ],
             [
              0.2222222222222222,
              "#7201a8"
             ],
             [
              0.3333333333333333,
              "#9c179e"
             ],
             [
              0.4444444444444444,
              "#bd3786"
             ],
             [
              0.5555555555555556,
              "#d8576b"
             ],
             [
              0.6666666666666666,
              "#ed7953"
             ],
             [
              0.7777777777777778,
              "#fb9f3a"
             ],
             [
              0.8888888888888888,
              "#fdca26"
             ],
             [
              1.0,
              "#f0f921"
             ]
            ]
           }
          ],
          "heatmapgl": [
           {
            "type": "heatmapgl",
            "colorbar": {
             "outlinewidth": 0,
             "ticks": ""
            },
            "colorscale": [
             [
              0.0,
              "#0d0887"
             ],
             [
              0.1111111111111111,
              "#46039f"
             ],
             [
              0.2222222222222222,
              "#7201a8"
             ],
             [
              0.3333333333333333,
              "#9c179e"
             ],
             [
              0.4444444444444444,
              "#bd3786"
             ],
             [
              0.5555555555555556,
              "#d8576b"
             ],
             [
              0.6666666666666666,
              "#ed7953"
             ],
             [
              0.7777777777777778,
              "#fb9f3a"
             ],
             [
              0.8888888888888888,
              "#fdca26"
             ],
             [
              1.0,
              "#f0f921"
             ]
            ]
           }
          ],
          "contourcarpet": [
           {
            "type": "contourcarpet",
            "colorbar": {
             "outlinewidth": 0,
             "ticks": ""
            }
           }
          ],
          "contour": [
           {
            "type": "contour",
            "colorbar": {
             "outlinewidth": 0,
             "ticks": ""
            },
            "colorscale": [
             [
              0.0,
              "#0d0887"
             ],
             [
              0.1111111111111111,
              "#46039f"
             ],
             [
              0.2222222222222222,
              "#7201a8"
             ],
             [
              0.3333333333333333,
              "#9c179e"
             ],
             [
              0.4444444444444444,
              "#bd3786"
             ],
             [
              0.5555555555555556,
              "#d8576b"
             ],
             [
              0.6666666666666666,
              "#ed7953"
             ],
             [
              0.7777777777777778,
              "#fb9f3a"
             ],
             [
              0.8888888888888888,
              "#fdca26"
             ],
             [
              1.0,
              "#f0f921"
             ]
            ]
           }
          ],
          "surface": [
           {
            "type": "surface",
            "colorbar": {
             "outlinewidth": 0,
             "ticks": ""
            },
            "colorscale": [
             [
              0.0,
              "#0d0887"
             ],
             [
              0.1111111111111111,
              "#46039f"
             ],
             [
              0.2222222222222222,
              "#7201a8"
             ],
             [
              0.3333333333333333,
              "#9c179e"
             ],
             [
              0.4444444444444444,
              "#bd3786"
             ],
             [
              0.5555555555555556,
              "#d8576b"
             ],
             [
              0.6666666666666666,
              "#ed7953"
             ],
             [
              0.7777777777777778,
              "#fb9f3a"
             ],
             [
              0.8888888888888888,
              "#fdca26"
             ],
             [
              1.0,
              "#f0f921"
             ]
            ]
           }
          ],
          "mesh3d": [
           {
            "type": "mesh3d",
            "colorbar": {
             "outlinewidth": 0,
             "ticks": ""
            }
           }
          ],
          "scatter": [
           {
            "fillpattern": {
             "fillmode": "overlay",
             "size": 10,
             "solidity": 0.2
            },
            "type": "scatter"
           }
          ],
          "parcoords": [
           {
            "type": "parcoords",
            "line": {
             "colorbar": {
              "outlinewidth": 0,
              "ticks": ""
             }
            }
           }
          ],
          "scatterpolargl": [
           {
            "type": "scatterpolargl",
            "marker": {
             "colorbar": {
              "outlinewidth": 0,
              "ticks": ""
             }
            }
           }
          ],
          "bar": [
           {
            "error_x": {
             "color": "#2a3f5f"
            },
            "error_y": {
             "color": "#2a3f5f"
            },
            "marker": {
             "line": {
              "color": "#E5ECF6",
              "width": 0.5
             },
             "pattern": {
              "fillmode": "overlay",
              "size": 10,
              "solidity": 0.2
             }
            },
            "type": "bar"
           }
          ],
          "scattergeo": [
           {
            "type": "scattergeo",
            "marker": {
             "colorbar": {
              "outlinewidth": 0,
              "ticks": ""
             }
            }
           }
          ],
          "scatterpolar": [
           {
            "type": "scatterpolar",
            "marker": {
             "colorbar": {
              "outlinewidth": 0,
              "ticks": ""
             }
            }
           }
          ],
          "histogram": [
           {
            "marker": {
             "pattern": {
              "fillmode": "overlay",
              "size": 10,
              "solidity": 0.2
             }
            },
            "type": "histogram"
           }
          ],
          "scattergl": [
           {
            "type": "scattergl",
            "marker": {
             "colorbar": {
              "outlinewidth": 0,
              "ticks": ""
             }
            }
           }
          ],
          "scatter3d": [
           {
            "type": "scatter3d",
            "line": {
             "colorbar": {
              "outlinewidth": 0,
              "ticks": ""
             }
            },
            "marker": {
             "colorbar": {
              "outlinewidth": 0,
              "ticks": ""
             }
            }
           }
          ],
          "scattermapbox": [
           {
            "type": "scattermapbox",
            "marker": {
             "colorbar": {
              "outlinewidth": 0,
              "ticks": ""
             }
            }
           }
          ],
          "scatterternary": [
           {
            "type": "scatterternary",
            "marker": {
             "colorbar": {
              "outlinewidth": 0,
              "ticks": ""
             }
            }
           }
          ],
          "scattercarpet": [
           {
            "type": "scattercarpet",
            "marker": {
             "colorbar": {
              "outlinewidth": 0,
              "ticks": ""
             }
            }
           }
          ],
          "carpet": [
           {
            "aaxis": {
             "endlinecolor": "#2a3f5f",
             "gridcolor": "white",
             "linecolor": "white",
             "minorgridcolor": "white",
             "startlinecolor": "#2a3f5f"
            },
            "baxis": {
             "endlinecolor": "#2a3f5f",
             "gridcolor": "white",
             "linecolor": "white",
             "minorgridcolor": "white",
             "startlinecolor": "#2a3f5f"
            },
            "type": "carpet"
           }
          ],
          "table": [
           {
            "cells": {
             "fill": {
              "color": "#EBF0F8"
             },
             "line": {
              "color": "white"
             }
            },
            "header": {
             "fill": {
              "color": "#C8D4E3"
             },
             "line": {
              "color": "white"
             }
            },
            "type": "table"
           }
          ],
          "barpolar": [
           {
            "marker": {
             "line": {
              "color": "#E5ECF6",
              "width": 0.5
             },
             "pattern": {
              "fillmode": "overlay",
              "size": 10,
              "solidity": 0.2
             }
            },
            "type": "barpolar"
           }
          ],
          "pie": [
           {
            "automargin": true,
            "type": "pie"
           }
          ]
         },
         "layout": {
          "autotypenumbers": "strict",
          "colorway": [
           "#636efa",
           "#EF553B",
           "#00cc96",
           "#ab63fa",
           "#FFA15A",
           "#19d3f3",
           "#FF6692",
           "#B6E880",
           "#FF97FF",
           "#FECB52"
          ],
          "font": {
           "color": "#2a3f5f"
          },
          "hovermode": "closest",
          "hoverlabel": {
           "align": "left"
          },
          "paper_bgcolor": "white",
          "plot_bgcolor": "#E5ECF6",
          "polar": {
           "bgcolor": "#E5ECF6",
           "angularaxis": {
            "gridcolor": "white",
            "linecolor": "white",
            "ticks": ""
           },
           "radialaxis": {
            "gridcolor": "white",
            "linecolor": "white",
            "ticks": ""
           }
          },
          "ternary": {
           "bgcolor": "#E5ECF6",
           "aaxis": {
            "gridcolor": "white",
            "linecolor": "white",
            "ticks": ""
           },
           "baxis": {
            "gridcolor": "white",
            "linecolor": "white",
            "ticks": ""
           },
           "caxis": {
            "gridcolor": "white",
            "linecolor": "white",
            "ticks": ""
           }
          },
          "coloraxis": {
           "colorbar": {
            "outlinewidth": 0,
            "ticks": ""
           }
          },
          "colorscale": {
           "sequential": [
            [
             0.0,
             "#0d0887"
            ],
            [
             0.1111111111111111,
             "#46039f"
            ],
            [
             0.2222222222222222,
             "#7201a8"
            ],
            [
             0.3333333333333333,
             "#9c179e"
            ],
            [
             0.4444444444444444,
             "#bd3786"
            ],
            [
             0.5555555555555556,
             "#d8576b"
            ],
            [
             0.6666666666666666,
             "#ed7953"
            ],
            [
             0.7777777777777778,
             "#fb9f3a"
            ],
            [
             0.8888888888888888,
             "#fdca26"
            ],
            [
             1.0,
             "#f0f921"
            ]
           ],
           "sequentialminus": [
            [
             0.0,
             "#0d0887"
            ],
            [
             0.1111111111111111,
             "#46039f"
            ],
            [
             0.2222222222222222,
             "#7201a8"
            ],
            [
             0.3333333333333333,
             "#9c179e"
            ],
            [
             0.4444444444444444,
             "#bd3786"
            ],
            [
             0.5555555555555556,
             "#d8576b"
            ],
            [
             0.6666666666666666,
             "#ed7953"
            ],
            [
             0.7777777777777778,
             "#fb9f3a"
            ],
            [
             0.8888888888888888,
             "#fdca26"
            ],
            [
             1.0,
             "#f0f921"
            ]
           ],
           "diverging": [
            [
             0,
             "#8e0152"
            ],
            [
             0.1,
             "#c51b7d"
            ],
            [
             0.2,
             "#de77ae"
            ],
            [
             0.3,
             "#f1b6da"
            ],
            [
             0.4,
             "#fde0ef"
            ],
            [
             0.5,
             "#f7f7f7"
            ],
            [
             0.6,
             "#e6f5d0"
            ],
            [
             0.7,
             "#b8e186"
            ],
            [
             0.8,
             "#7fbc41"
            ],
            [
             0.9,
             "#4d9221"
            ],
            [
             1,
             "#276419"
            ]
           ]
          },
          "xaxis": {
           "gridcolor": "white",
           "linecolor": "white",
           "ticks": "",
           "title": {
            "standoff": 15
           },
           "zerolinecolor": "white",
           "automargin": true,
           "zerolinewidth": 2
          },
          "yaxis": {
           "gridcolor": "white",
           "linecolor": "white",
           "ticks": "",
           "title": {
            "standoff": 15
           },
           "zerolinecolor": "white",
           "automargin": true,
           "zerolinewidth": 2
          },
          "scene": {
           "xaxis": {
            "backgroundcolor": "#E5ECF6",
            "gridcolor": "white",
            "linecolor": "white",
            "showbackground": true,
            "ticks": "",
            "zerolinecolor": "white",
            "gridwidth": 2
           },
           "yaxis": {
            "backgroundcolor": "#E5ECF6",
            "gridcolor": "white",
            "linecolor": "white",
            "showbackground": true,
            "ticks": "",
            "zerolinecolor": "white",
            "gridwidth": 2
           },
           "zaxis": {
            "backgroundcolor": "#E5ECF6",
            "gridcolor": "white",
            "linecolor": "white",
            "showbackground": true,
            "ticks": "",
            "zerolinecolor": "white",
            "gridwidth": 2
           }
          },
          "shapedefaults": {
           "line": {
            "color": "#2a3f5f"
           }
          },
          "annotationdefaults": {
           "arrowcolor": "#2a3f5f",
           "arrowhead": 0,
           "arrowwidth": 1
          },
          "geo": {
           "bgcolor": "white",
           "landcolor": "#E5ECF6",
           "subunitcolor": "white",
           "showland": true,
           "showlakes": true,
           "lakecolor": "white"
          },
          "title": {
           "x": 0.05
          },
          "mapbox": {
           "style": "light"
          }
         }
        },
        "xaxis": {
         "anchor": "y",
         "domain": [
          0.0,
          0.31999999999999995
         ]
        },
        "yaxis": {
         "anchor": "x",
         "domain": [
          0.0,
          1.0
         ],
         "title": {
          "text": "value"
         }
        },
        "xaxis2": {
         "anchor": "y2",
         "domain": [
          0.33999999999999997,
          0.6599999999999999
         ],
         "matches": "x"
        },
        "yaxis2": {
         "anchor": "x2",
         "domain": [
          0.0,
          1.0
         ],
         "matches": "y",
         "showticklabels": false
        },
        "xaxis3": {
         "anchor": "y3",
         "domain": [
          0.6799999999999999,
          0.9999999999999999
         ],
         "matches": "x"
        },
        "yaxis3": {
         "anchor": "x3",
         "domain": [
          0.0,
          1.0
         ],
         "matches": "y",
         "showticklabels": false
        },
        "annotations": [
         {
          "font": {},
          "showarrow": false,
          "text": "metric=val_MSE",
          "x": 0.15999999999999998,
          "xanchor": "center",
          "xref": "paper",
          "y": 1.0,
          "yanchor": "bottom",
          "yref": "paper"
         },
         {
          "font": {},
          "showarrow": false,
          "text": "metric=val_MAPE",
          "x": 0.49999999999999994,
          "xanchor": "center",
          "xref": "paper",
          "y": 1.0,
          "yanchor": "bottom",
          "yref": "paper"
         },
         {
          "font": {},
          "showarrow": false,
          "text": "metric=val_MAE",
          "x": 0.8399999999999999,
          "xanchor": "center",
          "xref": "paper",
          "y": 1.0,
          "yanchor": "bottom",
          "yref": "paper"
         }
        ],
        "legend": {
         "title": {
          "text": "model_name"
         },
         "tracegroupgap": 0
        },
        "title": {
         "text": "Validation metrics comparison"
        },
        "boxmode": "group"
       },
       "config": {
        "plotlyServerURL": "https://plot.ly"
       }
      },
      "text/html": "<div>                            <div id=\"97a83799-4b88-4e12-911d-9de53c263cd8\" class=\"plotly-graph-div\" style=\"height:525px; width:100%;\"></div>            <script type=\"text/javascript\">                require([\"plotly\"], function(Plotly) {                    window.PLOTLYENV=window.PLOTLYENV || {};                                    if (document.getElementById(\"97a83799-4b88-4e12-911d-9de53c263cd8\")) {                    Plotly.newPlot(                        \"97a83799-4b88-4e12-911d-9de53c263cd8\",                        [{\"alignmentgroup\":\"True\",\"hovertemplate\":\"model_name=colab filtering<br>metric=val_MSE<br>value=%{y}<extra></extra>\",\"legendgroup\":\"colab filtering\",\"marker\":{\"color\":\"#636efa\"},\"name\":\"colab filtering\",\"notched\":false,\"offsetgroup\":\"colab filtering\",\"orientation\":\"v\",\"showlegend\":true,\"x0\":\" \",\"xaxis\":\"x\",\"y\":[16.66489028930664,17.214820861816406,16.669069290161133,17.52916145324707,16.857084274291992,17.94296646118164,17.392742156982422,17.204565048217773,17.715280532836914,17.12230682373047],\"y0\":\" \",\"yaxis\":\"y\",\"type\":\"box\"},{\"alignmentgroup\":\"True\",\"hovertemplate\":\"model_name=colab filtering<br>metric=val_MAPE<br>value=%{y}<extra></extra>\",\"legendgroup\":\"colab filtering\",\"marker\":{\"color\":\"#636efa\"},\"name\":\"colab filtering\",\"notched\":false,\"offsetgroup\":\"colab filtering\",\"orientation\":\"v\",\"showlegend\":false,\"x0\":\" \",\"xaxis\":\"x2\",\"y\":[0.7824416756629944,0.8315984010696411,0.8053377866744995,0.8041177988052368,0.7833846807479858,0.8162189722061157,0.8302364349365234,0.828876256942749,0.8628215193748474,0.7864456176757812],\"y0\":\" \",\"yaxis\":\"y2\",\"type\":\"box\"},{\"alignmentgroup\":\"True\",\"hovertemplate\":\"model_name=colab filtering<br>metric=val_MAE<br>value=%{y}<extra></extra>\",\"legendgroup\":\"colab filtering\",\"marker\":{\"color\":\"#636efa\"},\"name\":\"colab filtering\",\"notched\":false,\"offsetgroup\":\"colab filtering\",\"orientation\":\"v\",\"showlegend\":false,\"x0\":\" \",\"xaxis\":\"x3\",\"y\":[3.7262017726898193,3.790656089782715,3.697633266448975,3.755976676940918,3.716115474700928,3.821899652481079,3.740237474441528,3.760362148284912,3.752530097961426,3.761140584945679],\"y0\":\" \",\"yaxis\":\"y3\",\"type\":\"box\"},{\"alignmentgroup\":\"True\",\"hovertemplate\":\"model_name=deep colab filtering<br>metric=val_MSE<br>value=%{y}<extra></extra>\",\"legendgroup\":\"deep colab filtering\",\"marker\":{\"color\":\"#EF553B\"},\"name\":\"deep colab filtering\",\"notched\":false,\"offsetgroup\":\"deep colab filtering\",\"orientation\":\"v\",\"showlegend\":true,\"x0\":\" \",\"xaxis\":\"x\",\"y\":[0.3852074444293976,0.5924038290977478,0.573458731174469,0.4795467257499695,0.4317647814750671,0.4797887504100799,0.503313422203064,0.5171297192573547,0.7016474008560181,0.4573924839496612],\"y0\":\" \",\"yaxis\":\"y\",\"type\":\"box\"},{\"alignmentgroup\":\"True\",\"hovertemplate\":\"model_name=deep colab filtering<br>metric=val_MAPE<br>value=%{y}<extra></extra>\",\"legendgroup\":\"deep colab filtering\",\"marker\":{\"color\":\"#EF553B\"},\"name\":\"deep colab filtering\",\"notched\":false,\"offsetgroup\":\"deep colab filtering\",\"orientation\":\"v\",\"showlegend\":false,\"x0\":\" \",\"xaxis\":\"x2\",\"y\":[0.1228402629494667,0.1816964447498321,0.1830248981714248,0.1439038962125778,0.1406022608280182,0.1378606408834457,0.1563252657651901,0.1658288389444351,0.1983831822872162,0.1433315426111221],\"y0\":\" \",\"yaxis\":\"y2\",\"type\":\"box\"},{\"alignmentgroup\":\"True\",\"hovertemplate\":\"model_name=deep colab filtering<br>metric=val_MAE<br>value=%{y}<extra></extra>\",\"legendgroup\":\"deep colab filtering\",\"marker\":{\"color\":\"#EF553B\"},\"name\":\"deep colab filtering\",\"notched\":false,\"offsetgroup\":\"deep colab filtering\",\"orientation\":\"v\",\"showlegend\":false,\"x0\":\" \",\"xaxis\":\"x3\",\"y\":[0.4294908344745636,0.49829763174057,0.4692815542221069,0.4846234619617462,0.4629775881767273,0.4836300611495971,0.5037230849266052,0.4737958908081054,0.5015237927436829,0.4558467864990234],\"y0\":\" \",\"yaxis\":\"y3\",\"type\":\"box\"},{\"alignmentgroup\":\"True\",\"hovertemplate\":\"model_name=hybrid recommender<br>metric=val_MSE<br>value=%{y}<extra></extra>\",\"legendgroup\":\"hybrid recommender\",\"marker\":{\"color\":\"#00cc96\"},\"name\":\"hybrid recommender\",\"notched\":false,\"offsetgroup\":\"hybrid recommender\",\"orientation\":\"v\",\"showlegend\":true,\"x0\":\" \",\"xaxis\":\"x\",\"y\":[0.0856364220380783,0.2227693796157837,0.4116537272930145,0.1479098498821258,0.1842458695173263,0.2102307677268982,0.1822684705257415,0.2633473575115204,0.179327592253685,0.1803776919841766],\"y0\":\" \",\"yaxis\":\"y\",\"type\":\"box\"},{\"alignmentgroup\":\"True\",\"hovertemplate\":\"model_name=hybrid recommender<br>metric=val_MAPE<br>value=%{y}<extra></extra>\",\"legendgroup\":\"hybrid recommender\",\"marker\":{\"color\":\"#00cc96\"},\"name\":\"hybrid recommender\",\"notched\":false,\"offsetgroup\":\"hybrid recommender\",\"orientation\":\"v\",\"showlegend\":false,\"x0\":\" \",\"xaxis\":\"x2\",\"y\":[0.0363787859678268,0.079166792333126,0.1149467900395393,0.0442415848374366,0.0574426874518394,0.044968519359827,0.0520084649324417,0.0757003501057624,0.0662106871604919,0.0494315847754478],\"y0\":\" \",\"yaxis\":\"y2\",\"type\":\"box\"},{\"alignmentgroup\":\"True\",\"hovertemplate\":\"model_name=hybrid recommender<br>metric=val_MAE<br>value=%{y}<extra></extra>\",\"legendgroup\":\"hybrid recommender\",\"marker\":{\"color\":\"#00cc96\"},\"name\":\"hybrid recommender\",\"notched\":false,\"offsetgroup\":\"hybrid recommender\",\"orientation\":\"v\",\"showlegend\":false,\"x0\":\" \",\"xaxis\":\"x3\",\"y\":[0.1301030814647674,0.1946905851364135,0.2480747401714325,0.1487332731485366,0.1483615040779113,0.1678932756185531,0.1553215533494949,0.1732664257287979,0.1563220620155334,0.1436318010091781],\"y0\":\" \",\"yaxis\":\"y3\",\"type\":\"box\"},{\"alignmentgroup\":\"True\",\"hovertemplate\":\"model_name=gnn recommender<br>metric=val_MSE<br>value=%{y}<extra></extra>\",\"legendgroup\":\"gnn recommender\",\"marker\":{\"color\":\"#ab63fa\"},\"name\":\"gnn recommender\",\"notched\":false,\"offsetgroup\":\"gnn recommender\",\"orientation\":\"v\",\"showlegend\":true,\"x0\":\" \",\"xaxis\":\"x\",\"y\":[0.1332675218582153,0.1452799439430236,0.1684769392013549,0.1134789586067199,0.0933631882071495,0.1485661268234253,0.0931069254875183,0.2312763333320617,0.1196071803569793,0.0525523535907268],\"y0\":\" \",\"yaxis\":\"y\",\"type\":\"box\"},{\"alignmentgroup\":\"True\",\"hovertemplate\":\"model_name=gnn recommender<br>metric=val_MAPE<br>value=%{y}<extra></extra>\",\"legendgroup\":\"gnn recommender\",\"marker\":{\"color\":\"#ab63fa\"},\"name\":\"gnn recommender\",\"notched\":false,\"offsetgroup\":\"gnn recommender\",\"orientation\":\"v\",\"showlegend\":false,\"x0\":\" \",\"xaxis\":\"x2\",\"y\":[0.043695967644453,0.0613645426928997,0.0559965819120407,0.0353509522974491,0.0380098484456539,0.0390897206962108,0.0346560589969158,0.0762470513582229,0.0416702330112457,0.0201813112944364],\"y0\":\" \",\"yaxis\":\"y2\",\"type\":\"box\"},{\"alignmentgroup\":\"True\",\"hovertemplate\":\"model_name=gnn recommender<br>metric=val_MAE<br>value=%{y}<extra></extra>\",\"legendgroup\":\"gnn recommender\",\"marker\":{\"color\":\"#ab63fa\"},\"name\":\"gnn recommender\",\"notched\":false,\"offsetgroup\":\"gnn recommender\",\"orientation\":\"v\",\"showlegend\":false,\"x0\":\" \",\"xaxis\":\"x3\",\"y\":[0.1991384774446487,0.2119747996330261,0.1255503743886947,0.1558534651994705,0.1537323594093322,0.163913145661354,0.126287505030632,0.2268664389848709,0.1336777359247207,0.0776110887527465],\"y0\":\" \",\"yaxis\":\"y3\",\"type\":\"box\"}],                        {\"template\":{\"data\":{\"histogram2dcontour\":[{\"type\":\"histogram2dcontour\",\"colorbar\":{\"outlinewidth\":0,\"ticks\":\"\"},\"colorscale\":[[0.0,\"#0d0887\"],[0.1111111111111111,\"#46039f\"],[0.2222222222222222,\"#7201a8\"],[0.3333333333333333,\"#9c179e\"],[0.4444444444444444,\"#bd3786\"],[0.5555555555555556,\"#d8576b\"],[0.6666666666666666,\"#ed7953\"],[0.7777777777777778,\"#fb9f3a\"],[0.8888888888888888,\"#fdca26\"],[1.0,\"#f0f921\"]]}],\"choropleth\":[{\"type\":\"choropleth\",\"colorbar\":{\"outlinewidth\":0,\"ticks\":\"\"}}],\"histogram2d\":[{\"type\":\"histogram2d\",\"colorbar\":{\"outlinewidth\":0,\"ticks\":\"\"},\"colorscale\":[[0.0,\"#0d0887\"],[0.1111111111111111,\"#46039f\"],[0.2222222222222222,\"#7201a8\"],[0.3333333333333333,\"#9c179e\"],[0.4444444444444444,\"#bd3786\"],[0.5555555555555556,\"#d8576b\"],[0.6666666666666666,\"#ed7953\"],[0.7777777777777778,\"#fb9f3a\"],[0.8888888888888888,\"#fdca26\"],[1.0,\"#f0f921\"]]}],\"heatmap\":[{\"type\":\"heatmap\",\"colorbar\":{\"outlinewidth\":0,\"ticks\":\"\"},\"colorscale\":[[0.0,\"#0d0887\"],[0.1111111111111111,\"#46039f\"],[0.2222222222222222,\"#7201a8\"],[0.3333333333333333,\"#9c179e\"],[0.4444444444444444,\"#bd3786\"],[0.5555555555555556,\"#d8576b\"],[0.6666666666666666,\"#ed7953\"],[0.7777777777777778,\"#fb9f3a\"],[0.8888888888888888,\"#fdca26\"],[1.0,\"#f0f921\"]]}],\"heatmapgl\":[{\"type\":\"heatmapgl\",\"colorbar\":{\"outlinewidth\":0,\"ticks\":\"\"},\"colorscale\":[[0.0,\"#0d0887\"],[0.1111111111111111,\"#46039f\"],[0.2222222222222222,\"#7201a8\"],[0.3333333333333333,\"#9c179e\"],[0.4444444444444444,\"#bd3786\"],[0.5555555555555556,\"#d8576b\"],[0.6666666666666666,\"#ed7953\"],[0.7777777777777778,\"#fb9f3a\"],[0.8888888888888888,\"#fdca26\"],[1.0,\"#f0f921\"]]}],\"contourcarpet\":[{\"type\":\"contourcarpet\",\"colorbar\":{\"outlinewidth\":0,\"ticks\":\"\"}}],\"contour\":[{\"type\":\"contour\",\"colorbar\":{\"outlinewidth\":0,\"ticks\":\"\"},\"colorscale\":[[0.0,\"#0d0887\"],[0.1111111111111111,\"#46039f\"],[0.2222222222222222,\"#7201a8\"],[0.3333333333333333,\"#9c179e\"],[0.4444444444444444,\"#bd3786\"],[0.5555555555555556,\"#d8576b\"],[0.6666666666666666,\"#ed7953\"],[0.7777777777777778,\"#fb9f3a\"],[0.8888888888888888,\"#fdca26\"],[1.0,\"#f0f921\"]]}],\"surface\":[{\"type\":\"surface\",\"colorbar\":{\"outlinewidth\":0,\"ticks\":\"\"},\"colorscale\":[[0.0,\"#0d0887\"],[0.1111111111111111,\"#46039f\"],[0.2222222222222222,\"#7201a8\"],[0.3333333333333333,\"#9c179e\"],[0.4444444444444444,\"#bd3786\"],[0.5555555555555556,\"#d8576b\"],[0.6666666666666666,\"#ed7953\"],[0.7777777777777778,\"#fb9f3a\"],[0.8888888888888888,\"#fdca26\"],[1.0,\"#f0f921\"]]}],\"mesh3d\":[{\"type\":\"mesh3d\",\"colorbar\":{\"outlinewidth\":0,\"ticks\":\"\"}}],\"scatter\":[{\"fillpattern\":{\"fillmode\":\"overlay\",\"size\":10,\"solidity\":0.2},\"type\":\"scatter\"}],\"parcoords\":[{\"type\":\"parcoords\",\"line\":{\"colorbar\":{\"outlinewidth\":0,\"ticks\":\"\"}}}],\"scatterpolargl\":[{\"type\":\"scatterpolargl\",\"marker\":{\"colorbar\":{\"outlinewidth\":0,\"ticks\":\"\"}}}],\"bar\":[{\"error_x\":{\"color\":\"#2a3f5f\"},\"error_y\":{\"color\":\"#2a3f5f\"},\"marker\":{\"line\":{\"color\":\"#E5ECF6\",\"width\":0.5},\"pattern\":{\"fillmode\":\"overlay\",\"size\":10,\"solidity\":0.2}},\"type\":\"bar\"}],\"scattergeo\":[{\"type\":\"scattergeo\",\"marker\":{\"colorbar\":{\"outlinewidth\":0,\"ticks\":\"\"}}}],\"scatterpolar\":[{\"type\":\"scatterpolar\",\"marker\":{\"colorbar\":{\"outlinewidth\":0,\"ticks\":\"\"}}}],\"histogram\":[{\"marker\":{\"pattern\":{\"fillmode\":\"overlay\",\"size\":10,\"solidity\":0.2}},\"type\":\"histogram\"}],\"scattergl\":[{\"type\":\"scattergl\",\"marker\":{\"colorbar\":{\"outlinewidth\":0,\"ticks\":\"\"}}}],\"scatter3d\":[{\"type\":\"scatter3d\",\"line\":{\"colorbar\":{\"outlinewidth\":0,\"ticks\":\"\"}},\"marker\":{\"colorbar\":{\"outlinewidth\":0,\"ticks\":\"\"}}}],\"scattermapbox\":[{\"type\":\"scattermapbox\",\"marker\":{\"colorbar\":{\"outlinewidth\":0,\"ticks\":\"\"}}}],\"scatterternary\":[{\"type\":\"scatterternary\",\"marker\":{\"colorbar\":{\"outlinewidth\":0,\"ticks\":\"\"}}}],\"scattercarpet\":[{\"type\":\"scattercarpet\",\"marker\":{\"colorbar\":{\"outlinewidth\":0,\"ticks\":\"\"}}}],\"carpet\":[{\"aaxis\":{\"endlinecolor\":\"#2a3f5f\",\"gridcolor\":\"white\",\"linecolor\":\"white\",\"minorgridcolor\":\"white\",\"startlinecolor\":\"#2a3f5f\"},\"baxis\":{\"endlinecolor\":\"#2a3f5f\",\"gridcolor\":\"white\",\"linecolor\":\"white\",\"minorgridcolor\":\"white\",\"startlinecolor\":\"#2a3f5f\"},\"type\":\"carpet\"}],\"table\":[{\"cells\":{\"fill\":{\"color\":\"#EBF0F8\"},\"line\":{\"color\":\"white\"}},\"header\":{\"fill\":{\"color\":\"#C8D4E3\"},\"line\":{\"color\":\"white\"}},\"type\":\"table\"}],\"barpolar\":[{\"marker\":{\"line\":{\"color\":\"#E5ECF6\",\"width\":0.5},\"pattern\":{\"fillmode\":\"overlay\",\"size\":10,\"solidity\":0.2}},\"type\":\"barpolar\"}],\"pie\":[{\"automargin\":true,\"type\":\"pie\"}]},\"layout\":{\"autotypenumbers\":\"strict\",\"colorway\":[\"#636efa\",\"#EF553B\",\"#00cc96\",\"#ab63fa\",\"#FFA15A\",\"#19d3f3\",\"#FF6692\",\"#B6E880\",\"#FF97FF\",\"#FECB52\"],\"font\":{\"color\":\"#2a3f5f\"},\"hovermode\":\"closest\",\"hoverlabel\":{\"align\":\"left\"},\"paper_bgcolor\":\"white\",\"plot_bgcolor\":\"#E5ECF6\",\"polar\":{\"bgcolor\":\"#E5ECF6\",\"angularaxis\":{\"gridcolor\":\"white\",\"linecolor\":\"white\",\"ticks\":\"\"},\"radialaxis\":{\"gridcolor\":\"white\",\"linecolor\":\"white\",\"ticks\":\"\"}},\"ternary\":{\"bgcolor\":\"#E5ECF6\",\"aaxis\":{\"gridcolor\":\"white\",\"linecolor\":\"white\",\"ticks\":\"\"},\"baxis\":{\"gridcolor\":\"white\",\"linecolor\":\"white\",\"ticks\":\"\"},\"caxis\":{\"gridcolor\":\"white\",\"linecolor\":\"white\",\"ticks\":\"\"}},\"coloraxis\":{\"colorbar\":{\"outlinewidth\":0,\"ticks\":\"\"}},\"colorscale\":{\"sequential\":[[0.0,\"#0d0887\"],[0.1111111111111111,\"#46039f\"],[0.2222222222222222,\"#7201a8\"],[0.3333333333333333,\"#9c179e\"],[0.4444444444444444,\"#bd3786\"],[0.5555555555555556,\"#d8576b\"],[0.6666666666666666,\"#ed7953\"],[0.7777777777777778,\"#fb9f3a\"],[0.8888888888888888,\"#fdca26\"],[1.0,\"#f0f921\"]],\"sequentialminus\":[[0.0,\"#0d0887\"],[0.1111111111111111,\"#46039f\"],[0.2222222222222222,\"#7201a8\"],[0.3333333333333333,\"#9c179e\"],[0.4444444444444444,\"#bd3786\"],[0.5555555555555556,\"#d8576b\"],[0.6666666666666666,\"#ed7953\"],[0.7777777777777778,\"#fb9f3a\"],[0.8888888888888888,\"#fdca26\"],[1.0,\"#f0f921\"]],\"diverging\":[[0,\"#8e0152\"],[0.1,\"#c51b7d\"],[0.2,\"#de77ae\"],[0.3,\"#f1b6da\"],[0.4,\"#fde0ef\"],[0.5,\"#f7f7f7\"],[0.6,\"#e6f5d0\"],[0.7,\"#b8e186\"],[0.8,\"#7fbc41\"],[0.9,\"#4d9221\"],[1,\"#276419\"]]},\"xaxis\":{\"gridcolor\":\"white\",\"linecolor\":\"white\",\"ticks\":\"\",\"title\":{\"standoff\":15},\"zerolinecolor\":\"white\",\"automargin\":true,\"zerolinewidth\":2},\"yaxis\":{\"gridcolor\":\"white\",\"linecolor\":\"white\",\"ticks\":\"\",\"title\":{\"standoff\":15},\"zerolinecolor\":\"white\",\"automargin\":true,\"zerolinewidth\":2},\"scene\":{\"xaxis\":{\"backgroundcolor\":\"#E5ECF6\",\"gridcolor\":\"white\",\"linecolor\":\"white\",\"showbackground\":true,\"ticks\":\"\",\"zerolinecolor\":\"white\",\"gridwidth\":2},\"yaxis\":{\"backgroundcolor\":\"#E5ECF6\",\"gridcolor\":\"white\",\"linecolor\":\"white\",\"showbackground\":true,\"ticks\":\"\",\"zerolinecolor\":\"white\",\"gridwidth\":2},\"zaxis\":{\"backgroundcolor\":\"#E5ECF6\",\"gridcolor\":\"white\",\"linecolor\":\"white\",\"showbackground\":true,\"ticks\":\"\",\"zerolinecolor\":\"white\",\"gridwidth\":2}},\"shapedefaults\":{\"line\":{\"color\":\"#2a3f5f\"}},\"annotationdefaults\":{\"arrowcolor\":\"#2a3f5f\",\"arrowhead\":0,\"arrowwidth\":1},\"geo\":{\"bgcolor\":\"white\",\"landcolor\":\"#E5ECF6\",\"subunitcolor\":\"white\",\"showland\":true,\"showlakes\":true,\"lakecolor\":\"white\"},\"title\":{\"x\":0.05},\"mapbox\":{\"style\":\"light\"}}},\"xaxis\":{\"anchor\":\"y\",\"domain\":[0.0,0.31999999999999995]},\"yaxis\":{\"anchor\":\"x\",\"domain\":[0.0,1.0],\"title\":{\"text\":\"value\"}},\"xaxis2\":{\"anchor\":\"y2\",\"domain\":[0.33999999999999997,0.6599999999999999],\"matches\":\"x\"},\"yaxis2\":{\"anchor\":\"x2\",\"domain\":[0.0,1.0],\"matches\":\"y\",\"showticklabels\":false},\"xaxis3\":{\"anchor\":\"y3\",\"domain\":[0.6799999999999999,0.9999999999999999],\"matches\":\"x\"},\"yaxis3\":{\"anchor\":\"x3\",\"domain\":[0.0,1.0],\"matches\":\"y\",\"showticklabels\":false},\"annotations\":[{\"font\":{},\"showarrow\":false,\"text\":\"metric=val_MSE\",\"x\":0.15999999999999998,\"xanchor\":\"center\",\"xref\":\"paper\",\"y\":1.0,\"yanchor\":\"bottom\",\"yref\":\"paper\"},{\"font\":{},\"showarrow\":false,\"text\":\"metric=val_MAPE\",\"x\":0.49999999999999994,\"xanchor\":\"center\",\"xref\":\"paper\",\"y\":1.0,\"yanchor\":\"bottom\",\"yref\":\"paper\"},{\"font\":{},\"showarrow\":false,\"text\":\"metric=val_MAE\",\"x\":0.8399999999999999,\"xanchor\":\"center\",\"xref\":\"paper\",\"y\":1.0,\"yanchor\":\"bottom\",\"yref\":\"paper\"}],\"legend\":{\"title\":{\"text\":\"model_name\"},\"tracegroupgap\":0},\"title\":{\"text\":\"Validation metrics comparison\"},\"boxmode\":\"group\"},                        {\"responsive\": true}                    ).then(function(){\n                            \nvar gd = document.getElementById('97a83799-4b88-4e12-911d-9de53c263cd8');\nvar x = new MutationObserver(function (mutations, observer) {{\n        var display = window.getComputedStyle(gd).display;\n        if (!display || display === 'none') {{\n            console.log([gd, 'removed!']);\n            Plotly.purge(gd);\n            observer.disconnect();\n        }}\n}});\n\n// Listen for the removal of the full notebook cells\nvar notebookContainer = gd.closest('#notebook-container');\nif (notebookContainer) {{\n    x.observe(notebookContainer, {childList: true});\n}}\n\n// Listen for the clearing of the current output cell\nvar outputEl = gd.closest('.output');\nif (outputEl) {{\n    x.observe(outputEl, {childList: true});\n}}\n\n                        })                };                });            </script>        </div>"
     },
     "metadata": {},
     "output_type": "display_data"
    }
   ],
   "source": [
    "fig = px.box(\n",
    "    val_metrics.loc[val_metrics.metric.isin(metrics_to_show)],\n",
    "    color='model_name',\n",
    "    y='value',\n",
    "    facet_col='metric',\n",
    "    title='Validation metrics comparison')\n",
    "fig.write_html(\"val_metrics.html\")\n",
    "fig.write_image(\"val_metrics.png\")\n",
    "fig.show()"
   ]
  },
  {
   "cell_type": "markdown",
   "source": [
    "<img src=\"val_metrics.png\">"
   ],
   "metadata": {
    "collapsed": false
   }
  },
  {
   "cell_type": "markdown",
   "metadata": {},
   "source": [
    "Visual inspection of the plots indicate three metric values are the smallest for the GNN recommender model. Of three approaches considered in the study, the classic collaborative filtering model scored the worst results every time."
   ]
  },
  {
   "cell_type": "markdown",
   "metadata": {},
   "source": [
    "## Statistical comparisons of metrics\n",
    "\n",
    "Considering the fact that for repeated k-fold cross-validation samples are not independent (instead: selected on purpose to be in training or test subset without duplication) and measures are repeated k-times for multiple classifiers, Kruskal test was selected as a non-parametric rank-based alternative to classic ANOVA.\n",
    "\n",
    "For each metric, the following two tests are performed:\n",
    "\n",
    "1. The test for **overall** differences:\n",
    "    1. **H0** - mean ranks of the groups are the same.\n",
    "    2. **HA** - mean ranks of the groups are not the same\n",
    "2. Post-hoc test for pairwise differences."
   ]
  },
  {
   "cell_type": "code",
   "execution_count": 20,
   "metadata": {
    "collapsed": false,
    "jupyter": {
     "outputs_hidden": false
    },
    "ExecuteTime": {
     "end_time": "2023-05-29T19:08:08.818204300Z",
     "start_time": "2023-05-29T19:08:08.728947700Z"
    }
   },
   "outputs": [],
   "source": [
    "comparison_metrics = {metric: perform_statistical_comparison(val_metrics, metric) for metric in metrics_to_show}"
   ]
  },
  {
   "cell_type": "code",
   "execution_count": 21,
   "metadata": {
    "collapsed": false,
    "jupyter": {
     "outputs_hidden": false
    },
    "ExecuteTime": {
     "end_time": "2023-05-29T19:08:09.270181100Z",
     "start_time": "2023-05-29T19:08:09.051259Z"
    }
   },
   "outputs": [
    {
     "data": {
      "text/plain": "<IPython.core.display.Markdown object>",
      "text/markdown": "### val_MAPE analysis"
     },
     "metadata": {},
     "output_type": "display_data"
    },
    {
     "data": {
      "text/plain": "<IPython.core.display.Markdown object>",
      "text/markdown": "#### Overall test"
     },
     "metadata": {},
     "output_type": "display_data"
    },
    {
     "data": {
      "text/plain": "             Source  ddof1          H         p-unc\nKruskal  model_name      3  33.993659  1.987304e-07",
      "text/html": "<div>\n<style scoped>\n    .dataframe tbody tr th:only-of-type {\n        vertical-align: middle;\n    }\n\n    .dataframe tbody tr th {\n        vertical-align: top;\n    }\n\n    .dataframe thead th {\n        text-align: right;\n    }\n</style>\n<table border=\"1\" class=\"dataframe\">\n  <thead>\n    <tr style=\"text-align: right;\">\n      <th></th>\n      <th>Source</th>\n      <th>ddof1</th>\n      <th>H</th>\n      <th>p-unc</th>\n    </tr>\n  </thead>\n  <tbody>\n    <tr>\n      <th>Kruskal</th>\n      <td>model_name</td>\n      <td>3</td>\n      <td>33.993659</td>\n      <td>1.987304e-07</td>\n    </tr>\n  </tbody>\n</table>\n</div>"
     },
     "metadata": {},
     "output_type": "display_data"
    },
    {
     "data": {
      "text/plain": "<IPython.core.display.Markdown object>",
      "text/markdown": "#### Pairwise tests"
     },
     "metadata": {},
     "output_type": "display_data"
    },
    {
     "data": {
      "text/plain": "     Contrast                     A                     B  Paired  Parametric  \\\n0  model_name       colab filtering  deep colab filtering   False       False   \n1  model_name       colab filtering       gnn recommender   False       False   \n2  model_name       colab filtering    hybrid recommender   False       False   \n3  model_name  deep colab filtering       gnn recommender   False       False   \n4  model_name  deep colab filtering    hybrid recommender   False       False   \n5  model_name       gnn recommender    hybrid recommender   False       False   \n\n   U-val alternative     p-unc    p-corr    p-adjust     hedges  \n0  100.0   two-sided  0.000183  0.001096  bonferroni  25.091008  \n1  100.0   two-sided  0.000183  0.001096  bonferroni  34.241320  \n2  100.0   two-sided  0.000183  0.001096  bonferroni  29.253058  \n3  100.0   two-sided  0.000183  0.001096  bonferroni   5.285611  \n4  100.0   two-sided  0.000183  0.001096  bonferroni   3.858011  \n5   23.0   two-sided  0.045155  0.270927  bonferroni  -0.839019  ",
      "text/html": "<div>\n<style scoped>\n    .dataframe tbody tr th:only-of-type {\n        vertical-align: middle;\n    }\n\n    .dataframe tbody tr th {\n        vertical-align: top;\n    }\n\n    .dataframe thead th {\n        text-align: right;\n    }\n</style>\n<table border=\"1\" class=\"dataframe\">\n  <thead>\n    <tr style=\"text-align: right;\">\n      <th></th>\n      <th>Contrast</th>\n      <th>A</th>\n      <th>B</th>\n      <th>Paired</th>\n      <th>Parametric</th>\n      <th>U-val</th>\n      <th>alternative</th>\n      <th>p-unc</th>\n      <th>p-corr</th>\n      <th>p-adjust</th>\n      <th>hedges</th>\n    </tr>\n  </thead>\n  <tbody>\n    <tr>\n      <th>0</th>\n      <td>model_name</td>\n      <td>colab filtering</td>\n      <td>deep colab filtering</td>\n      <td>False</td>\n      <td>False</td>\n      <td>100.0</td>\n      <td>two-sided</td>\n      <td>0.000183</td>\n      <td>0.001096</td>\n      <td>bonferroni</td>\n      <td>25.091008</td>\n    </tr>\n    <tr>\n      <th>1</th>\n      <td>model_name</td>\n      <td>colab filtering</td>\n      <td>gnn recommender</td>\n      <td>False</td>\n      <td>False</td>\n      <td>100.0</td>\n      <td>two-sided</td>\n      <td>0.000183</td>\n      <td>0.001096</td>\n      <td>bonferroni</td>\n      <td>34.241320</td>\n    </tr>\n    <tr>\n      <th>2</th>\n      <td>model_name</td>\n      <td>colab filtering</td>\n      <td>hybrid recommender</td>\n      <td>False</td>\n      <td>False</td>\n      <td>100.0</td>\n      <td>two-sided</td>\n      <td>0.000183</td>\n      <td>0.001096</td>\n      <td>bonferroni</td>\n      <td>29.253058</td>\n    </tr>\n    <tr>\n      <th>3</th>\n      <td>model_name</td>\n      <td>deep colab filtering</td>\n      <td>gnn recommender</td>\n      <td>False</td>\n      <td>False</td>\n      <td>100.0</td>\n      <td>two-sided</td>\n      <td>0.000183</td>\n      <td>0.001096</td>\n      <td>bonferroni</td>\n      <td>5.285611</td>\n    </tr>\n    <tr>\n      <th>4</th>\n      <td>model_name</td>\n      <td>deep colab filtering</td>\n      <td>hybrid recommender</td>\n      <td>False</td>\n      <td>False</td>\n      <td>100.0</td>\n      <td>two-sided</td>\n      <td>0.000183</td>\n      <td>0.001096</td>\n      <td>bonferroni</td>\n      <td>3.858011</td>\n    </tr>\n    <tr>\n      <th>5</th>\n      <td>model_name</td>\n      <td>gnn recommender</td>\n      <td>hybrid recommender</td>\n      <td>False</td>\n      <td>False</td>\n      <td>23.0</td>\n      <td>two-sided</td>\n      <td>0.045155</td>\n      <td>0.270927</td>\n      <td>bonferroni</td>\n      <td>-0.839019</td>\n    </tr>\n  </tbody>\n</table>\n</div>"
     },
     "metadata": {},
     "output_type": "display_data"
    },
    {
     "data": {
      "text/plain": "<IPython.core.display.Markdown object>",
      "text/markdown": "### val_MAE analysis"
     },
     "metadata": {},
     "output_type": "display_data"
    },
    {
     "data": {
      "text/plain": "<IPython.core.display.Markdown object>",
      "text/markdown": "#### Overall test"
     },
     "metadata": {},
     "output_type": "display_data"
    },
    {
     "data": {
      "text/plain": "             Source  ddof1          H         p-unc\nKruskal  model_name      3  32.998537  3.222963e-07",
      "text/html": "<div>\n<style scoped>\n    .dataframe tbody tr th:only-of-type {\n        vertical-align: middle;\n    }\n\n    .dataframe tbody tr th {\n        vertical-align: top;\n    }\n\n    .dataframe thead th {\n        text-align: right;\n    }\n</style>\n<table border=\"1\" class=\"dataframe\">\n  <thead>\n    <tr style=\"text-align: right;\">\n      <th></th>\n      <th>Source</th>\n      <th>ddof1</th>\n      <th>H</th>\n      <th>p-unc</th>\n    </tr>\n  </thead>\n  <tbody>\n    <tr>\n      <th>Kruskal</th>\n      <td>model_name</td>\n      <td>3</td>\n      <td>32.998537</td>\n      <td>3.222963e-07</td>\n    </tr>\n  </tbody>\n</table>\n</div>"
     },
     "metadata": {},
     "output_type": "display_data"
    },
    {
     "data": {
      "text/plain": "<IPython.core.display.Markdown object>",
      "text/markdown": "#### Pairwise tests"
     },
     "metadata": {},
     "output_type": "display_data"
    },
    {
     "data": {
      "text/plain": "     Contrast                     A                     B  Paired  Parametric  \\\n0  model_name       colab filtering  deep colab filtering   False       False   \n1  model_name       colab filtering       gnn recommender   False       False   \n2  model_name       colab filtering    hybrid recommender   False       False   \n3  model_name  deep colab filtering       gnn recommender   False       False   \n4  model_name  deep colab filtering    hybrid recommender   False       False   \n5  model_name       gnn recommender    hybrid recommender   False       False   \n\n   U-val alternative     p-unc    p-corr    p-adjust      hedges  \n0  100.0   two-sided  0.000183  0.001096  bonferroni  103.837181  \n1  100.0   two-sided  0.000183  0.001096  bonferroni   84.176823  \n2  100.0   two-sided  0.000183  0.001096  bonferroni   98.647342  \n3  100.0   two-sided  0.000183  0.001096  bonferroni    8.478331  \n4  100.0   two-sided  0.000183  0.001096  bonferroni   10.255474  \n5   43.0   two-sided  0.623176  1.000000  bonferroni   -0.220041  ",
      "text/html": "<div>\n<style scoped>\n    .dataframe tbody tr th:only-of-type {\n        vertical-align: middle;\n    }\n\n    .dataframe tbody tr th {\n        vertical-align: top;\n    }\n\n    .dataframe thead th {\n        text-align: right;\n    }\n</style>\n<table border=\"1\" class=\"dataframe\">\n  <thead>\n    <tr style=\"text-align: right;\">\n      <th></th>\n      <th>Contrast</th>\n      <th>A</th>\n      <th>B</th>\n      <th>Paired</th>\n      <th>Parametric</th>\n      <th>U-val</th>\n      <th>alternative</th>\n      <th>p-unc</th>\n      <th>p-corr</th>\n      <th>p-adjust</th>\n      <th>hedges</th>\n    </tr>\n  </thead>\n  <tbody>\n    <tr>\n      <th>0</th>\n      <td>model_name</td>\n      <td>colab filtering</td>\n      <td>deep colab filtering</td>\n      <td>False</td>\n      <td>False</td>\n      <td>100.0</td>\n      <td>two-sided</td>\n      <td>0.000183</td>\n      <td>0.001096</td>\n      <td>bonferroni</td>\n      <td>103.837181</td>\n    </tr>\n    <tr>\n      <th>1</th>\n      <td>model_name</td>\n      <td>colab filtering</td>\n      <td>gnn recommender</td>\n      <td>False</td>\n      <td>False</td>\n      <td>100.0</td>\n      <td>two-sided</td>\n      <td>0.000183</td>\n      <td>0.001096</td>\n      <td>bonferroni</td>\n      <td>84.176823</td>\n    </tr>\n    <tr>\n      <th>2</th>\n      <td>model_name</td>\n      <td>colab filtering</td>\n      <td>hybrid recommender</td>\n      <td>False</td>\n      <td>False</td>\n      <td>100.0</td>\n      <td>two-sided</td>\n      <td>0.000183</td>\n      <td>0.001096</td>\n      <td>bonferroni</td>\n      <td>98.647342</td>\n    </tr>\n    <tr>\n      <th>3</th>\n      <td>model_name</td>\n      <td>deep colab filtering</td>\n      <td>gnn recommender</td>\n      <td>False</td>\n      <td>False</td>\n      <td>100.0</td>\n      <td>two-sided</td>\n      <td>0.000183</td>\n      <td>0.001096</td>\n      <td>bonferroni</td>\n      <td>8.478331</td>\n    </tr>\n    <tr>\n      <th>4</th>\n      <td>model_name</td>\n      <td>deep colab filtering</td>\n      <td>hybrid recommender</td>\n      <td>False</td>\n      <td>False</td>\n      <td>100.0</td>\n      <td>two-sided</td>\n      <td>0.000183</td>\n      <td>0.001096</td>\n      <td>bonferroni</td>\n      <td>10.255474</td>\n    </tr>\n    <tr>\n      <th>5</th>\n      <td>model_name</td>\n      <td>gnn recommender</td>\n      <td>hybrid recommender</td>\n      <td>False</td>\n      <td>False</td>\n      <td>43.0</td>\n      <td>two-sided</td>\n      <td>0.623176</td>\n      <td>1.000000</td>\n      <td>bonferroni</td>\n      <td>-0.220041</td>\n    </tr>\n  </tbody>\n</table>\n</div>"
     },
     "metadata": {},
     "output_type": "display_data"
    },
    {
     "data": {
      "text/plain": "<IPython.core.display.Markdown object>",
      "text/markdown": "### val_MSE analysis"
     },
     "metadata": {},
     "output_type": "display_data"
    },
    {
     "data": {
      "text/plain": "<IPython.core.display.Markdown object>",
      "text/markdown": "#### Overall test"
     },
     "metadata": {},
     "output_type": "display_data"
    },
    {
     "data": {
      "text/plain": "             Source  ddof1          H         p-unc\nKruskal  model_name      3  34.254146  1.750928e-07",
      "text/html": "<div>\n<style scoped>\n    .dataframe tbody tr th:only-of-type {\n        vertical-align: middle;\n    }\n\n    .dataframe tbody tr th {\n        vertical-align: top;\n    }\n\n    .dataframe thead th {\n        text-align: right;\n    }\n</style>\n<table border=\"1\" class=\"dataframe\">\n  <thead>\n    <tr style=\"text-align: right;\">\n      <th></th>\n      <th>Source</th>\n      <th>ddof1</th>\n      <th>H</th>\n      <th>p-unc</th>\n    </tr>\n  </thead>\n  <tbody>\n    <tr>\n      <th>Kruskal</th>\n      <td>model_name</td>\n      <td>3</td>\n      <td>34.254146</td>\n      <td>1.750928e-07</td>\n    </tr>\n  </tbody>\n</table>\n</div>"
     },
     "metadata": {},
     "output_type": "display_data"
    },
    {
     "data": {
      "text/plain": "<IPython.core.display.Markdown object>",
      "text/markdown": "#### Pairwise tests"
     },
     "metadata": {},
     "output_type": "display_data"
    },
    {
     "data": {
      "text/plain": "     Contrast                     A                     B  Paired  Parametric  \\\n0  model_name       colab filtering  deep colab filtering   False       False   \n1  model_name       colab filtering       gnn recommender   False       False   \n2  model_name       colab filtering    hybrid recommender   False       False   \n3  model_name  deep colab filtering       gnn recommender   False       False   \n4  model_name  deep colab filtering    hybrid recommender   False       False   \n5  model_name       gnn recommender    hybrid recommender   False       False   \n\n   U-val alternative     p-unc    p-corr    p-adjust     hedges  \n0  100.0   two-sided  0.000183  0.001096  bonferroni  51.812591  \n1  100.0   two-sided  0.000183  0.001096  bonferroni  53.825255  \n2  100.0   two-sided  0.000183  0.001096  bonferroni  52.878386  \n3  100.0   two-sided  0.000183  0.001096  bonferroni   5.031492  \n4   99.0   two-sided  0.000246  0.001477  bonferroni   3.316019  \n5   18.0   two-sided  0.017257  0.103545  bonferroni  -1.055765  ",
      "text/html": "<div>\n<style scoped>\n    .dataframe tbody tr th:only-of-type {\n        vertical-align: middle;\n    }\n\n    .dataframe tbody tr th {\n        vertical-align: top;\n    }\n\n    .dataframe thead th {\n        text-align: right;\n    }\n</style>\n<table border=\"1\" class=\"dataframe\">\n  <thead>\n    <tr style=\"text-align: right;\">\n      <th></th>\n      <th>Contrast</th>\n      <th>A</th>\n      <th>B</th>\n      <th>Paired</th>\n      <th>Parametric</th>\n      <th>U-val</th>\n      <th>alternative</th>\n      <th>p-unc</th>\n      <th>p-corr</th>\n      <th>p-adjust</th>\n      <th>hedges</th>\n    </tr>\n  </thead>\n  <tbody>\n    <tr>\n      <th>0</th>\n      <td>model_name</td>\n      <td>colab filtering</td>\n      <td>deep colab filtering</td>\n      <td>False</td>\n      <td>False</td>\n      <td>100.0</td>\n      <td>two-sided</td>\n      <td>0.000183</td>\n      <td>0.001096</td>\n      <td>bonferroni</td>\n      <td>51.812591</td>\n    </tr>\n    <tr>\n      <th>1</th>\n      <td>model_name</td>\n      <td>colab filtering</td>\n      <td>gnn recommender</td>\n      <td>False</td>\n      <td>False</td>\n      <td>100.0</td>\n      <td>two-sided</td>\n      <td>0.000183</td>\n      <td>0.001096</td>\n      <td>bonferroni</td>\n      <td>53.825255</td>\n    </tr>\n    <tr>\n      <th>2</th>\n      <td>model_name</td>\n      <td>colab filtering</td>\n      <td>hybrid recommender</td>\n      <td>False</td>\n      <td>False</td>\n      <td>100.0</td>\n      <td>two-sided</td>\n      <td>0.000183</td>\n      <td>0.001096</td>\n      <td>bonferroni</td>\n      <td>52.878386</td>\n    </tr>\n    <tr>\n      <th>3</th>\n      <td>model_name</td>\n      <td>deep colab filtering</td>\n      <td>gnn recommender</td>\n      <td>False</td>\n      <td>False</td>\n      <td>100.0</td>\n      <td>two-sided</td>\n      <td>0.000183</td>\n      <td>0.001096</td>\n      <td>bonferroni</td>\n      <td>5.031492</td>\n    </tr>\n    <tr>\n      <th>4</th>\n      <td>model_name</td>\n      <td>deep colab filtering</td>\n      <td>hybrid recommender</td>\n      <td>False</td>\n      <td>False</td>\n      <td>99.0</td>\n      <td>two-sided</td>\n      <td>0.000246</td>\n      <td>0.001477</td>\n      <td>bonferroni</td>\n      <td>3.316019</td>\n    </tr>\n    <tr>\n      <th>5</th>\n      <td>model_name</td>\n      <td>gnn recommender</td>\n      <td>hybrid recommender</td>\n      <td>False</td>\n      <td>False</td>\n      <td>18.0</td>\n      <td>two-sided</td>\n      <td>0.017257</td>\n      <td>0.103545</td>\n      <td>bonferroni</td>\n      <td>-1.055765</td>\n    </tr>\n  </tbody>\n</table>\n</div>"
     },
     "metadata": {},
     "output_type": "display_data"
    }
   ],
   "source": [
    "for metric, (overall_result, pairwise_result) in comparison_metrics.items():\n",
    "    dd.display(dd.Markdown(f\"### {metric} analysis\"))\n",
    "    dd.display(dd.Markdown(f\"#### Overall test\"))\n",
    "    dd.display(overall_result)\n",
    "    dd.display(dd.Markdown(f\"#### Pairwise tests\"))\n",
    "    display(pairwise_result)"
   ]
  },
  {
   "cell_type": "markdown",
   "metadata": {},
   "source": [
    "Analysis of the presented results indicates the following:\n",
    "1. There is a significant difference in the performance of more advanced models (hybrid recommender and GNN recommender), compared to collaborative filtering and deep collaborative filtering.\n",
    "2. There is no significant difference between the deep hybrid model and the GNN model."
   ]
  },
  {
   "cell_type": "markdown",
   "metadata": {},
   "source": [
    "# Test metrics analysis"
   ]
  },
  {
   "cell_type": "code",
   "execution_count": 22,
   "metadata": {
    "ExecuteTime": {
     "end_time": "2023-05-29T19:08:12.345928800Z",
     "start_time": "2023-05-29T19:08:12.310010500Z"
    }
   },
   "outputs": [
    {
     "data": {
      "text/plain": "\u001B[2;36m[05/29/23 21:08:12]\u001B[0m\u001B[2;36m \u001B[0m\u001B[34mINFO    \u001B[0m Loading data from                                                  \u001B]8;id=95666;file:///home/fwojcik/anaconda3/envs/py39clean/lib/python3.9/site-packages/kedro/io/data_catalog.py\u001B\\\u001B[2mdata_catalog.py\u001B[0m\u001B]8;;\u001B\\\u001B[2m:\u001B[0m\u001B]8;id=803851;file:///home/fwojcik/anaconda3/envs/py39clean/lib/python3.9/site-packages/kedro/io/data_catalog.py#343\u001B\\\u001B[2m343\u001B[0m\u001B]8;;\u001B\\\n\u001B[2;36m                    \u001B[0m         \u001B[32m'experiment.collaborative_filtering_test_metrics'\u001B[0m                  \u001B[2m                   \u001B[0m\n\u001B[2;36m                    \u001B[0m         \u001B[1m(\u001B[0mMetricsDataSet\u001B[1m)\u001B[0m\u001B[33m...\u001B[0m                                                \u001B[2m                   \u001B[0m\n",
      "text/html": "<pre style=\"white-space:pre;overflow-x:auto;line-height:normal;font-family:Menlo,'DejaVu Sans Mono',consolas,'Courier New',monospace\"><span style=\"color: #7fbfbf; text-decoration-color: #7fbfbf\">[05/29/23 21:08:12] </span><span style=\"color: #000080; text-decoration-color: #000080\">INFO    </span> Loading data from                                                  <a href=\"file:///home/fwojcik/anaconda3/envs/py39clean/lib/python3.9/site-packages/kedro/io/data_catalog.py\" target=\"_blank\"><span style=\"color: #7f7f7f; text-decoration-color: #7f7f7f\">data_catalog.py</span></a><span style=\"color: #7f7f7f; text-decoration-color: #7f7f7f\">:</span><a href=\"file:///home/fwojcik/anaconda3/envs/py39clean/lib/python3.9/site-packages/kedro/io/data_catalog.py#343\" target=\"_blank\"><span style=\"color: #7f7f7f; text-decoration-color: #7f7f7f\">343</span></a>\n<span style=\"color: #7fbfbf; text-decoration-color: #7fbfbf\">                    </span>         <span style=\"color: #008000; text-decoration-color: #008000\">'experiment.collaborative_filtering_test_metrics'</span>                  <span style=\"color: #7f7f7f; text-decoration-color: #7f7f7f\">                   </span>\n<span style=\"color: #7fbfbf; text-decoration-color: #7fbfbf\">                    </span>         <span style=\"font-weight: bold\">(</span>MetricsDataSet<span style=\"font-weight: bold\">)</span><span style=\"color: #808000; text-decoration-color: #808000\">...</span>                                                <span style=\"color: #7f7f7f; text-decoration-color: #7f7f7f\">                   </span>\n</pre>\n"
     },
     "metadata": {},
     "output_type": "display_data"
    },
    {
     "data": {
      "text/plain": "\u001B[2;36m                   \u001B[0m\u001B[2;36m \u001B[0m\u001B[34mINFO    \u001B[0m Loading data from                                                  \u001B]8;id=543535;file:///home/fwojcik/anaconda3/envs/py39clean/lib/python3.9/site-packages/kedro/io/data_catalog.py\u001B\\\u001B[2mdata_catalog.py\u001B[0m\u001B]8;;\u001B\\\u001B[2m:\u001B[0m\u001B]8;id=526170;file:///home/fwojcik/anaconda3/envs/py39clean/lib/python3.9/site-packages/kedro/io/data_catalog.py#343\u001B\\\u001B[2m343\u001B[0m\u001B]8;;\u001B\\\n\u001B[2;36m                    \u001B[0m         \u001B[32m'experiment.deep_collaborative_filtering_test_metrics'\u001B[0m             \u001B[2m                   \u001B[0m\n\u001B[2;36m                    \u001B[0m         \u001B[1m(\u001B[0mMetricsDataSet\u001B[1m)\u001B[0m\u001B[33m...\u001B[0m                                                \u001B[2m                   \u001B[0m\n",
      "text/html": "<pre style=\"white-space:pre;overflow-x:auto;line-height:normal;font-family:Menlo,'DejaVu Sans Mono',consolas,'Courier New',monospace\"><span style=\"color: #7fbfbf; text-decoration-color: #7fbfbf\">                    </span><span style=\"color: #000080; text-decoration-color: #000080\">INFO    </span> Loading data from                                                  <a href=\"file:///home/fwojcik/anaconda3/envs/py39clean/lib/python3.9/site-packages/kedro/io/data_catalog.py\" target=\"_blank\"><span style=\"color: #7f7f7f; text-decoration-color: #7f7f7f\">data_catalog.py</span></a><span style=\"color: #7f7f7f; text-decoration-color: #7f7f7f\">:</span><a href=\"file:///home/fwojcik/anaconda3/envs/py39clean/lib/python3.9/site-packages/kedro/io/data_catalog.py#343\" target=\"_blank\"><span style=\"color: #7f7f7f; text-decoration-color: #7f7f7f\">343</span></a>\n<span style=\"color: #7fbfbf; text-decoration-color: #7fbfbf\">                    </span>         <span style=\"color: #008000; text-decoration-color: #008000\">'experiment.deep_collaborative_filtering_test_metrics'</span>             <span style=\"color: #7f7f7f; text-decoration-color: #7f7f7f\">                   </span>\n<span style=\"color: #7fbfbf; text-decoration-color: #7fbfbf\">                    </span>         <span style=\"font-weight: bold\">(</span>MetricsDataSet<span style=\"font-weight: bold\">)</span><span style=\"color: #808000; text-decoration-color: #808000\">...</span>                                                <span style=\"color: #7f7f7f; text-decoration-color: #7f7f7f\">                   </span>\n</pre>\n"
     },
     "metadata": {},
     "output_type": "display_data"
    },
    {
     "data": {
      "text/plain": "\u001B[2;36m                   \u001B[0m\u001B[2;36m \u001B[0m\u001B[34mINFO    \u001B[0m Loading data from \u001B[32m'experiment.deep_hybrid_rec_test_metrics'\u001B[0m        \u001B]8;id=808315;file:///home/fwojcik/anaconda3/envs/py39clean/lib/python3.9/site-packages/kedro/io/data_catalog.py\u001B\\\u001B[2mdata_catalog.py\u001B[0m\u001B]8;;\u001B\\\u001B[2m:\u001B[0m\u001B]8;id=959712;file:///home/fwojcik/anaconda3/envs/py39clean/lib/python3.9/site-packages/kedro/io/data_catalog.py#343\u001B\\\u001B[2m343\u001B[0m\u001B]8;;\u001B\\\n\u001B[2;36m                    \u001B[0m         \u001B[1m(\u001B[0mMetricsDataSet\u001B[1m)\u001B[0m\u001B[33m...\u001B[0m                                                \u001B[2m                   \u001B[0m\n",
      "text/html": "<pre style=\"white-space:pre;overflow-x:auto;line-height:normal;font-family:Menlo,'DejaVu Sans Mono',consolas,'Courier New',monospace\"><span style=\"color: #7fbfbf; text-decoration-color: #7fbfbf\">                    </span><span style=\"color: #000080; text-decoration-color: #000080\">INFO    </span> Loading data from <span style=\"color: #008000; text-decoration-color: #008000\">'experiment.deep_hybrid_rec_test_metrics'</span>        <a href=\"file:///home/fwojcik/anaconda3/envs/py39clean/lib/python3.9/site-packages/kedro/io/data_catalog.py\" target=\"_blank\"><span style=\"color: #7f7f7f; text-decoration-color: #7f7f7f\">data_catalog.py</span></a><span style=\"color: #7f7f7f; text-decoration-color: #7f7f7f\">:</span><a href=\"file:///home/fwojcik/anaconda3/envs/py39clean/lib/python3.9/site-packages/kedro/io/data_catalog.py#343\" target=\"_blank\"><span style=\"color: #7f7f7f; text-decoration-color: #7f7f7f\">343</span></a>\n<span style=\"color: #7fbfbf; text-decoration-color: #7fbfbf\">                    </span>         <span style=\"font-weight: bold\">(</span>MetricsDataSet<span style=\"font-weight: bold\">)</span><span style=\"color: #808000; text-decoration-color: #808000\">...</span>                                                <span style=\"color: #7f7f7f; text-decoration-color: #7f7f7f\">                   </span>\n</pre>\n"
     },
     "metadata": {},
     "output_type": "display_data"
    },
    {
     "data": {
      "text/plain": "\u001B[2;36m                   \u001B[0m\u001B[2;36m \u001B[0m\u001B[34mINFO    \u001B[0m Loading data from \u001B[32m'experiment.gnn_rec_test_metrics'\u001B[0m                \u001B]8;id=873796;file:///home/fwojcik/anaconda3/envs/py39clean/lib/python3.9/site-packages/kedro/io/data_catalog.py\u001B\\\u001B[2mdata_catalog.py\u001B[0m\u001B]8;;\u001B\\\u001B[2m:\u001B[0m\u001B]8;id=154650;file:///home/fwojcik/anaconda3/envs/py39clean/lib/python3.9/site-packages/kedro/io/data_catalog.py#343\u001B\\\u001B[2m343\u001B[0m\u001B]8;;\u001B\\\n\u001B[2;36m                    \u001B[0m         \u001B[1m(\u001B[0mMetricsDataSet\u001B[1m)\u001B[0m\u001B[33m...\u001B[0m                                                \u001B[2m                   \u001B[0m\n",
      "text/html": "<pre style=\"white-space:pre;overflow-x:auto;line-height:normal;font-family:Menlo,'DejaVu Sans Mono',consolas,'Courier New',monospace\"><span style=\"color: #7fbfbf; text-decoration-color: #7fbfbf\">                    </span><span style=\"color: #000080; text-decoration-color: #000080\">INFO    </span> Loading data from <span style=\"color: #008000; text-decoration-color: #008000\">'experiment.gnn_rec_test_metrics'</span>                <a href=\"file:///home/fwojcik/anaconda3/envs/py39clean/lib/python3.9/site-packages/kedro/io/data_catalog.py\" target=\"_blank\"><span style=\"color: #7f7f7f; text-decoration-color: #7f7f7f\">data_catalog.py</span></a><span style=\"color: #7f7f7f; text-decoration-color: #7f7f7f\">:</span><a href=\"file:///home/fwojcik/anaconda3/envs/py39clean/lib/python3.9/site-packages/kedro/io/data_catalog.py#343\" target=\"_blank\"><span style=\"color: #7f7f7f; text-decoration-color: #7f7f7f\">343</span></a>\n<span style=\"color: #7fbfbf; text-decoration-color: #7fbfbf\">                    </span>         <span style=\"font-weight: bold\">(</span>MetricsDataSet<span style=\"font-weight: bold\">)</span><span style=\"color: #808000; text-decoration-color: #808000\">...</span>                                                <span style=\"color: #7f7f7f; text-decoration-color: #7f7f7f\">                   </span>\n</pre>\n"
     },
     "metadata": {},
     "output_type": "display_data"
    },
    {
     "data": {
      "text/plain": "    test_MSE  test_MAPE  test_MAE                         model\n0  17.617960   0.814397  3.798708       collaborative_filtering\n1   0.527138   0.156110  0.463374  deep_collaborative_filtering\n2   0.192739   0.052388  0.146859               deep_hybrid_rec\n3   0.153372   0.059262  0.166875                       gnn_rec",
      "text/html": "<div>\n<style scoped>\n    .dataframe tbody tr th:only-of-type {\n        vertical-align: middle;\n    }\n\n    .dataframe tbody tr th {\n        vertical-align: top;\n    }\n\n    .dataframe thead th {\n        text-align: right;\n    }\n</style>\n<table border=\"1\" class=\"dataframe\">\n  <thead>\n    <tr style=\"text-align: right;\">\n      <th></th>\n      <th>test_MSE</th>\n      <th>test_MAPE</th>\n      <th>test_MAE</th>\n      <th>model</th>\n    </tr>\n  </thead>\n  <tbody>\n    <tr>\n      <th>0</th>\n      <td>17.617960</td>\n      <td>0.814397</td>\n      <td>3.798708</td>\n      <td>collaborative_filtering</td>\n    </tr>\n    <tr>\n      <th>1</th>\n      <td>0.527138</td>\n      <td>0.156110</td>\n      <td>0.463374</td>\n      <td>deep_collaborative_filtering</td>\n    </tr>\n    <tr>\n      <th>2</th>\n      <td>0.192739</td>\n      <td>0.052388</td>\n      <td>0.146859</td>\n      <td>deep_hybrid_rec</td>\n    </tr>\n    <tr>\n      <th>3</th>\n      <td>0.153372</td>\n      <td>0.059262</td>\n      <td>0.166875</td>\n      <td>gnn_rec</td>\n    </tr>\n  </tbody>\n</table>\n</div>"
     },
     "execution_count": 22,
     "metadata": {},
     "output_type": "execute_result"
    }
   ],
   "source": [
    "test_met_dicts = []\n",
    "for catalog_name in [met for met in catalog.list() if 'experiment.' in met and 'test' in met]:\n",
    "    _, metric = catalog_name.split(\".\")\n",
    "    model = metric.replace(\"_test_metrics\", \"\")\n",
    "    met_dict = catalog.load(catalog_name)\n",
    "    met_dict['model'] = model\n",
    "    \n",
    "    test_met_dicts.append(met_dict)\n",
    "\n",
    "test_mets_df = pd.DataFrame.from_records(test_met_dicts, index=list(range(len(test_met_dicts))))\n",
    "test_mets_df"
   ]
  },
  {
   "cell_type": "markdown",
   "metadata": {},
   "source": [
    "# Conclusions"
   ]
  },
  {
   "cell_type": "markdown",
   "metadata": {},
   "source": [
    "Analysis of all overall comparisons for all metrics allows to reject the null hypothesis. \n",
    "**This means that the mean ranks of the groups are not the same.**\n",
    "\n",
    "**The post-hoc test results show that the Hybrid Recommender and GNN recommender model are significantly better than the other two models in all cases.**\n",
    "\n",
    "Best test result were obtained by the **Hybrid recommender model** (MAPE - 0.7 perc.point better compared to GNN, MAE - 2 perc. points better compared to GNN) but in terms of MSE metric, **GNN recommender** scored best, improving by 4 percentage points over Hybrid Recommender."
   ]
  },
  {
   "cell_type": "code",
   "execution_count": null,
   "outputs": [],
   "source": [],
   "metadata": {
    "collapsed": false
   }
  }
 ],
 "metadata": {
  "kernelspec": {
   "display_name": "Python 3 (ipykernel)",
   "language": "python",
   "name": "python3"
  },
  "language_info": {
   "codemirror_mode": {
    "name": "ipython",
    "version": 3
   },
   "file_extension": ".py",
   "mimetype": "text/x-python",
   "name": "python",
   "nbconvert_exporter": "python",
   "pygments_lexer": "ipython3",
   "version": "3.9.16"
  }
 },
 "nbformat": 4,
 "nbformat_minor": 4
}
